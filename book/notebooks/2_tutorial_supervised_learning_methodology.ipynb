{
 "cells": [
  {
   "cell_type": "markdown",
   "id": "9bc1a928",
   "metadata": {},
   "source": [
    "# Tutorial: Supervised Learning Methodology\n",
    "\n",
    "Tutorial to the class [Supervised Learning Methodology](2_bias_variance_regularization_validation.ipynb)"
   ]
  },
  {
   "cell_type": "markdown",
   "id": "a9e82f9b",
   "metadata": {},
   "source": [
    "<div class=\"alert alert-block alert-info\">\n",
    "    <b>Tutorial Objectives</b>\n",
    "    \n",
    "- Use supervised learning to predict the regional electricity consumption of France in response electric heating based on temperature data\n",
    "- Test different models: $k$-nearest neighbors and linear least squares (OLS)\n",
    "- Evaluate their performance by estimating their Expected Prediction Errors (EPE) using test data or cross-validation\n",
    "- Improve the models by modifying the input features\n",
    "- Apply regularization methods: ridge and lasso\n",
    "- Plot validation and learning curves\n",
    "</div>"
   ]
  },
  {
   "cell_type": "markdown",
   "id": "083fce0a",
   "metadata": {},
   "source": [
    "## Dataset presentation\n",
    "\n",
    "- Input:\n",
    "  - 2m-temperature\n",
    "    - Domain: Metropolitan France\n",
    "    - Spatial resolution: regional average\n",
    "    - Time resolution: hourly\n",
    "    - Period: 2014-2019\n",
    "    - Units: °C\n",
    "    - Source: [MERRA-2 reanalysis](https://gmao.gsfc.nasa.gov/reanalysis/MERRA-2/)\n",
    "- Target:\n",
    "  - Electricity demand\n",
    "    - Domain: Metropolitan France\n",
    "    - Spatial resolution: regional sum\n",
    "    - Time resolution: hourly\n",
    "    - Period: 2014-2018\n",
    "    - Units: MWh\n",
    "    - Source: [RTE](https://opendata.reseaux-energies.fr/)"
   ]
  },
  {
   "cell_type": "markdown",
   "id": "2ea67a13",
   "metadata": {},
   "source": [
    "## Reading and pre-analysis of the input and output data"
   ]
  },
  {
   "cell_type": "markdown",
   "id": "c36e8f5c",
   "metadata": {},
   "source": [
    "### Import data-analysis and plot modules and define paths"
   ]
  },
  {
   "cell_type": "code",
   "execution_count": null,
   "id": "f665256a",
   "metadata": {},
   "outputs": [],
   "source": [
    "# Path manipulation module\n",
    "from pathlib import Path\n",
    "# Numerical analysis module\n",
    "import numpy as np\n",
    "# Formatted numerical analysis module\n",
    "import pandas as pd\n",
    "# Plot module\n",
    "import matplotlib.pyplot as plt"
   ]
  },
  {
   "cell_type": "code",
   "execution_count": null,
   "id": "00db59f1",
   "metadata": {},
   "outputs": [],
   "source": [
    "# Set data directory\n",
    "data_dir = Path('data')\n",
    "\n",
    "# Set keyword arguments for pd.read_csv\n",
    "kwargs_read_csv = dict()\n",
    "\n",
    "# Set first and last years\n",
    "FIRST_YEAR = 2014\n",
    "LAST_YEAR = 2019\n",
    "\n",
    "# Define temperature filepath\n",
    "temp_filename = 'surface_temperature_merra2_{}-{}.csv'.format(\n",
    "    FIRST_YEAR, LAST_YEAR)\n",
    "temp_filepath = Path(data_dir, temp_filename)\n",
    "\n",
    "# Define electricity demand filepath\n",
    "dem_filename = 'reseaux_energies_demand_demand.csv'\n",
    "dem_filepath = Path(data_dir, dem_filename)"
   ]
  },
  {
   "cell_type": "markdown",
   "id": "87097463",
   "metadata": {},
   "source": [
    "### Reading and plotting the raw temperature data"
   ]
  },
  {
   "cell_type": "markdown",
   "id": "65bf41ef",
   "metadata": {},
   "source": [
    "> ***Question (code cells below)***\n",
    "> - Use `pd.read_csv` with the filepath and appropriate options to make sure to get the column names and the index as dates (`DatetimeIndex`).\n",
    "> - Use the `resample` method from the data frame to compute daily means.\n",
    "> - Plot the `'Île-de-France'` daily-mean temperature time series for (a) the whole period, (b) one year, (c) one month in winter and (d) one month in summer on 4 different figures (use `plt.figure`) using `plt.plot` or the `plot` method from data frames (preferably).\n",
    "> - Use the `mean` and `var` methods to get mean and variance of the daily-mean temperature."
   ]
  },
  {
   "cell_type": "code",
   "execution_count": null,
   "id": "aae18217",
   "metadata": {},
   "outputs": [],
   "source": [
    "# Read hourly temperature data averaged over each region\n",
    "df_temp_hourly = \n",
    "\n",
    "# Get daily-mean temperature\n",
    "df_temp = \n",
    "\n",
    "# Select Île-de-France region\n",
    "region_name = 'Île-de-France'\n",
    "df_temp_idf = \n",
    "\n",
    "# Plot daily-mean temperature time series\n",
    "\n",
    "\n",
    "# Compute mean and variance of daily temperature\n"
   ]
  },
  {
   "cell_type": "markdown",
   "id": "c19747cc",
   "metadata": {},
   "source": [
    "### Reading and plotting the demand data"
   ]
  },
  {
   "cell_type": "markdown",
   "id": "5b376b53",
   "metadata": {},
   "source": [
    "> ***Question***\n",
    "> - Same question for the demand but with daily sums instead of daily means"
   ]
  },
  {
   "cell_type": "code",
   "execution_count": null,
   "id": "571cbb34",
   "metadata": {},
   "outputs": [],
   "source": [
    "# Read hourly demand data averaged over each region\n",
    "df_dem_hourly = \n",
    "\n",
    "# Get daily-summed demand\n",
    "df_dem = \n",
    "\n",
    "# Select Île-de-France region\n",
    "region_name = 'Île-de-France'\n",
    "df_dem_idf = \n",
    "\n",
    "# Plot daily demand time series\n",
    "\n",
    "\n",
    "# Compute mean and variance of daily demerature\n"
   ]
  },
  {
   "cell_type": "markdown",
   "id": "6a5f17ce",
   "metadata": {},
   "source": [
    "### Analyzing the input and target data and their relationships"
   ]
  },
  {
   "cell_type": "markdown",
   "id": "555ff7b5",
   "metadata": {},
   "source": [
    "> ***Question (write answer in text box below)***\n",
    "> - Describe the seasonality of the temperature in Île-de-France.\n",
    "> - Are all years the same?\n",
    "> - Describe the seasonal and weakly demand patterns."
   ]
  },
  {
   "cell_type": "markdown",
   "id": "9b6e901c",
   "metadata": {},
   "source": [
    "Answer:"
   ]
  },
  {
   "cell_type": "markdown",
   "id": "36516633",
   "metadata": {},
   "source": [
    "> ***Question***\n",
    "> - Select the temperature and demand data for their largest common period using the `intersection` method of the `index` attribute of the data frames.\n",
    "> - Represent a scatter plot of the daily demand versus the daily temperature using `plt.scatter`."
   ]
  },
  {
   "cell_type": "code",
   "execution_count": null,
   "id": "7ddccc23",
   "metadata": {},
   "outputs": [],
   "source": [
    "# Select the temperature and the demand data for their largest common period\n",
    "\n",
    "\n",
    "# Scatter plot of demand versus temperature\n"
   ]
  },
  {
   "cell_type": "markdown",
   "id": "35edda21",
   "metadata": {},
   "source": [
    "> ***Question***\n",
    "> - Compute the correlation between the daily temperature and the daily demand in Île-de-France using `np.corr`.\n",
    "> - Compute the correlation between the monthly temperature and the monthly demand using the `resample` method."
   ]
  },
  {
   "cell_type": "code",
   "execution_count": null,
   "id": "0a0f6f9d",
   "metadata": {},
   "outputs": [],
   "source": [
    "# Correlation between the daily temperature and demand\n",
    "\n",
    "\n",
    "# Correlation between the monly temperature and demand\n"
   ]
  },
  {
   "cell_type": "markdown",
   "id": "38ff4637",
   "metadata": {},
   "source": [
    "## Ordinary Least Squares"
   ]
  },
  {
   "cell_type": "markdown",
   "id": "af1100d4",
   "metadata": {},
   "source": [
    "> ***Question***\n",
    "> - Perform an OLS fit with intercept using the entire dataset to predict the demand from the temperature. To do so:\n",
    ">   - Import the `linear_model` module from `sklearn` (Scikit-Learn)\n",
    ">   - Define a regressor using `linear_model.LinearRegression` (by default, the regressor is configured to fit an intercept in addition to the features, see `fit_intercept` option)\n",
    ">   - Prepare the input matrix and output vector for the `fit` method of the regressor\n",
    ">   - Apply the `fit` method to the input and output\n",
    "> - Print the fitted coefficients using the `coef_` attribute of the regressor."
   ]
  },
  {
   "cell_type": "code",
   "execution_count": null,
   "id": "a7149924",
   "metadata": {},
   "outputs": [],
   "source": [
    "# Import linear_model from sklearn\n",
    "\n",
    "# Define a linear regressor\n",
    "reg = \n",
    "\n",
    "# Prepare input and output for fit\n",
    "X = \n",
    "y = \n",
    "\n",
    "# Fit\n"
   ]
  },
  {
   "cell_type": "markdown",
   "id": "59513617",
   "metadata": {},
   "source": [
    "> ***Question***\n",
    "> - Define and array of 100 temperatures ranging from -5 to 35°C with `np.linspace`.\n",
    "> - Make a prediction of the demand for these temperatures using the trained OLS model with the `predict` method of the regressor.\n",
    "> - Plot this prediction over the scatter plot of the train data.\n",
    "> - Does the demand prediction seem satisfactory over the whole range of temperatures?"
   ]
  },
  {
   "cell_type": "code",
   "execution_count": null,
   "id": "5d27a60c",
   "metadata": {},
   "outputs": [],
   "source": [
    "# Define an array of 100 temperatures ranging from -5 to 35°C\n",
    "x_pred = \n",
    "\n",
    "# Prepare these temperatures for the prediction\n",
    "X_pred = \n",
    "\n",
    "# Predict\n",
    "y_pred = \n",
    "\n",
    "# Plot scatter plot of the train data\n",
    "\n",
    "\n",
    "# Plot prediction\n"
   ]
  },
  {
   "cell_type": "markdown",
   "id": "7fe141ec",
   "metadata": {},
   "source": [
    "Answer:"
   ]
  },
  {
   "cell_type": "markdown",
   "id": "32510874",
   "metadata": {},
   "source": [
    "> ***Question***\n",
    "> - Estimate the train Mean Squared Error (MSE) using a prediction of your train inputs and the train outputs.\n",
    "> - Compute the corresponding coefficient of determination $R^2$ from your estimate of the train MSE.\n",
    "> - Verify your result using the `score` method of the regressor."
   ]
  },
  {
   "cell_type": "code",
   "execution_count": null,
   "id": "d3180286",
   "metadata": {},
   "outputs": [],
   "source": [
    "# Predict from train inputs\n",
    "y_pred = \n",
    "\n",
    "# Estimate the train MSE\n",
    "mse_train = \n",
    "\n",
    "# Estimate the train r2\n",
    "r2_train = \n",
    "\n",
    "# Train r2 from scikit-learn\n",
    "r2_train_sk = "
   ]
  },
  {
   "cell_type": "markdown",
   "id": "10e44c5d",
   "metadata": {},
   "source": [
    "## Estimating the prediction error using a test set"
   ]
  },
  {
   "cell_type": "markdown",
   "id": "f8563b26",
   "metadata": {},
   "source": [
    "> ***Question***\n",
    "> - Estimate the prediction error (prediction $R^2$) from 1 year of test data using the other years to train.\n",
    "> - How does it compare to the train error estimated above?\n",
    "> - Is this an estimate of the expected prediction error or of the prediction error conditioned on some train dataset?\n",
    "> - Do you expect overfitting to have occurred?"
   ]
  },
  {
   "cell_type": "markdown",
   "id": "d7edd55e",
   "metadata": {},
   "source": [
    "Answer:"
   ]
  },
  {
   "cell_type": "code",
   "execution_count": null,
   "id": "ca2f5cbd",
   "metadata": {},
   "outputs": [],
   "source": [
    "# Select test set from last year\n",
    "X_test = \n",
    "y_test = \n",
    "\n",
    "# Select train set from previous years\n",
    "X_train = \n",
    "y_train = \n",
    "\n",
    "# Fit model on train data\n",
    "\n",
    "# Predict from test inputs\n",
    "y_pred = \n",
    "\n",
    "# Compute predict MSE and r2\n",
    "mse_pred = \n",
    "\n",
    "# Estimate the train r2\n",
    "r2_pred = "
   ]
  },
  {
   "cell_type": "markdown",
   "id": "0f339cba",
   "metadata": {},
   "source": [
    "> ***Question***\n",
    "> - How does the prediction error changes if it is computed based on the last 3 months of the year instead?\n",
    "> - Give at least 2 reasons to explain these changes."
   ]
  },
  {
   "cell_type": "code",
   "execution_count": null,
   "id": "b2bb01cb",
   "metadata": {},
   "outputs": [],
   "source": [
    "# Select test set from last 3 months\n",
    "X_test = \n",
    "y_test = \n",
    "\n",
    "# Select train set from previous months\n",
    "X_train = \n",
    "y_train = \n",
    "\n",
    "# Fit model on train data\n",
    "\n",
    "# Predict from test inputs\n",
    "y_pred = \n",
    "\n",
    "# Compute predict MSE and r2\n",
    "mse_pred = \n",
    "r2_pred = "
   ]
  },
  {
   "cell_type": "markdown",
   "id": "1a090d02",
   "metadata": {},
   "source": [
    "Answer:"
   ]
  },
  {
   "cell_type": "markdown",
   "id": "1b7a1863",
   "metadata": {},
   "source": [
    "### Learning curve"
   ]
  },
  {
   "cell_type": "markdown",
   "id": "1e4ecf34",
   "metadata": {},
   "source": [
    "> ***Question***\n",
    "> - Compute and plot a learning curve. To do so:\n",
    ">   - Set a year of data aside to compute the test error always on the same period\n",
    ">   - Define a list of train period of increasing lengths\n",
    ">   - Loop over these train periods to iteratively:\n",
    ">     - Select data for this train period\n",
    ">     - Train the model\n",
    ">     - Compute the train error from the train data for the train period\n",
    ">     - Compute the test error from the test data for the test period\n",
    ">     - Save both errors\n",
    ">   - Plot both errors curves\n",
    "> - Interpret the results."
   ]
  },
  {
   "cell_type": "code",
   "execution_count": null,
   "id": "4896cd5d",
   "metadata": {},
   "outputs": [],
   "source": [
    "# Define the test data\n",
    "\n",
    "\n",
    "# Define the number of days by which to increase the train periods\n",
    "\n",
    "# Define arrays in which to save the errors\n",
    "\n",
    "\n",
    "# Loop over train periods stopping before overlapping test period\n",
    "\n",
    "    \n",
    "# Plot the learning curves\n"
   ]
  },
  {
   "cell_type": "markdown",
   "id": "536677a7",
   "metadata": {},
   "source": [
    "## Estimating the expected prediction error with cross-validation"
   ]
  },
  {
   "cell_type": "markdown",
   "id": "e35e1b0d",
   "metadata": {},
   "source": [
    "> ***Question***\n",
    "> - Perform a 5-fold cross-validation of your own by repeating the estimation of the test error on all years (optional).\n",
    "> - Verify your results using the `cross_val_score` function of `sklearn.model_selection` with the appropriate value for the `cv` option.\n",
    "> - How does the error estimate from the cross-validation compare to your previous estimations?"
   ]
  },
  {
   "cell_type": "code",
   "execution_count": null,
   "id": "fadc17f9",
   "metadata": {},
   "outputs": [],
   "source": [
    "# Import scikit-learn cross-validation function\n",
    "\n",
    "# Compute cross-validation scores with Scikit-Learn\n",
    "scores = "
   ]
  },
  {
   "cell_type": "markdown",
   "id": "ce2331a8",
   "metadata": {},
   "source": [
    "## Improving the linear model by adding features"
   ]
  },
  {
   "cell_type": "markdown",
   "id": "2619fcbc",
   "metadata": {},
   "source": [
    "We know from consumer behavior and heating technologies that individual heating tends to increase linearly from no heating below some heating temperature $T_H \\approx 15$°C.\n",
    "\n",
    "> ***Question***\n",
    "> - Design two input variables that reflect this behavior.\n",
    "> - Fit the two-dimensional linear model and plot its predictions.\n",
    "> - Compute the train and test learning curves for this model.\n",
    "> - Compare the results to the one-dimensional model and explain."
   ]
  },
  {
   "cell_type": "code",
   "execution_count": null,
   "id": "a87a2bc9",
   "metadata": {},
   "outputs": [],
   "source": [
    "### Your answer\n"
   ]
  },
  {
   "cell_type": "markdown",
   "id": "de0c4ef9",
   "metadata": {},
   "source": [
    "In southern regions where climates are relatively warm, air conditioning may be used when daily-mean temperatures increase above about 20°C.\n",
    "As a result, regional electricity demand increases somewhat linearly above this threshold.\n",
    "\n",
    "> ***Question***\n",
    "> - Add a third input variable to reflect this behavior apply and validate the model to the `'Provence-Alpes-Côte d'Azur'` region.\n",
    "> - Compare the skills of the 1, 2 and 3-dimensional models."
   ]
  },
  {
   "cell_type": "markdown",
   "id": "e3a2060b",
   "metadata": {},
   "source": [
    "## Regularization"
   ]
  },
  {
   "cell_type": "markdown",
   "id": "a82712b4",
   "metadata": {},
   "source": [
    "### Ridge regression"
   ]
  },
  {
   "cell_type": "markdown",
   "id": "368696ba",
   "metadata": {},
   "source": [
    "> ***Question***\n",
    "> - Apply the ridge regression using `Ridge` from `sklearn.linear_model` for varying regularization parameter values.\n",
    "> Represent the resulting predictions above the scatter plot of the train data."
   ]
  },
  {
   "cell_type": "code",
   "execution_count": null,
   "id": "a91a50b2",
   "metadata": {},
   "outputs": [],
   "source": [
    "# Your answer\n"
   ]
  },
  {
   "cell_type": "markdown",
   "id": "3c33cbd9",
   "metadata": {},
   "source": [
    "> ***Question***\n",
    "> - Compute the corresponding validation curves. To do so, compute and plot the train and test error (using cross-validation) for varying values of the regularization parameter.\n",
    "> - What is the best value of the regularization parameter according to your estimations?"
   ]
  },
  {
   "cell_type": "code",
   "execution_count": null,
   "id": "329001f3",
   "metadata": {},
   "outputs": [],
   "source": [
    "# Your answer\n"
   ]
  },
  {
   "cell_type": "markdown",
   "id": "2148f498",
   "metadata": {},
   "source": [
    "> ***Question***\n",
    "> - Estimate the test error for the optimal value of the regularization parameter.\n",
    "> - How does the ridge model performs compared to the linear models analyzed so far?"
   ]
  },
  {
   "cell_type": "code",
   "execution_count": null,
   "id": "9ec37896",
   "metadata": {},
   "outputs": [],
   "source": [
    "# Your answer\n"
   ]
  },
  {
   "cell_type": "markdown",
   "id": "159549b6",
   "metadata": {},
   "source": [
    "### Lasso regression"
   ]
  },
  {
   "cell_type": "markdown",
   "id": "f58adf42",
   "metadata": {},
   "source": [
    "> ***Question***\n",
    "> - Same questions as for the ridge but for the lasso."
   ]
  },
  {
   "cell_type": "code",
   "execution_count": null,
   "id": "0cb71152",
   "metadata": {},
   "outputs": [],
   "source": [
    "# Your answer\n"
   ]
  },
  {
   "cell_type": "markdown",
   "id": "cc7cf895",
   "metadata": {},
   "source": [
    "## $K$-nearest neighbor model\n",
    "\n",
    "> ***Question***\n",
    "> - Apply the $k$-nearest neighbor model using `KNeighborsRegressor` from `sklearn.neighbors` for varying $k$.\n",
    "> - Represent the resulting predictions above the scatter plot of the train data."
   ]
  },
  {
   "cell_type": "code",
   "execution_count": null,
   "id": "28f7c10a",
   "metadata": {
    "code_folding": []
   },
   "outputs": [],
   "source": [
    "# Your answer\n"
   ]
  },
  {
   "cell_type": "markdown",
   "id": "ccbc6545",
   "metadata": {},
   "source": [
    "> ***Question***\n",
    "> - Compute the corresponding validation curves. To do so, compute and plot the train and test error (using cross-validation) for varying $k$.\n",
    "> - What is the best value of $k$ according to your estimations?\n",
    "> - How does the best $k$-nearest neighbor model performs compared to the linear models analyzed so far?"
   ]
  },
  {
   "cell_type": "code",
   "execution_count": null,
   "id": "fc8dff11",
   "metadata": {},
   "outputs": [],
   "source": [
    "# Your answer\n"
   ]
  },
  {
   "cell_type": "markdown",
   "id": "2d54b603",
   "metadata": {},
   "source": [
    "Answer:"
   ]
  },
  {
   "cell_type": "markdown",
   "id": "fab5ec4a",
   "metadata": {},
   "source": [
    "***\n",
    "## Credit\n",
    "\n",
    "[//]: # \"This notebook is part of [E4C Interdisciplinary Center - Education](https://gitlab.in2p3.fr/energy4climate/public/education).\"\n",
    "Contributors include Bruno Deremble and Alexis Tantet.\n",
    "Several slides and images are taken from the very good [Scikit-learn course](https://inria.github.io/scikit-learn-mooc/).\n",
    "\n",
    "<br>\n",
    "\n",
    "<div style=\"display: flex; height: 70px\">\n",
    "    \n",
    "<img alt=\"Logo LMD\" src=\"images/logos/logo_lmd.jpg\" style=\"display: inline-block\"/>\n",
    "\n",
    "<img alt=\"Logo IPSL\" src=\"images/logos/logo_ipsl.png\" style=\"display: inline-block\"/>\n",
    "\n",
    "<img alt=\"Logo E4C\" src=\"images/logos/logo_e4c_final.png\" style=\"display: inline-block\"/>\n",
    "\n",
    "<img alt=\"Logo EP\" src=\"images/logos/logo_ep.png\" style=\"display: inline-block\"/>\n",
    "\n",
    "<img alt=\"Logo SU\" src=\"images/logos/logo_su.png\" style=\"display: inline-block\"/>\n",
    "\n",
    "<img alt=\"Logo ENS\" src=\"images/logos/logo_ens.jpg\" style=\"display: inline-block\"/>\n",
    "\n",
    "<img alt=\"Logo CNRS\" src=\"images/logos/logo_cnrs.png\" style=\"display: inline-block\"/>\n",
    "    \n",
    "</div>\n",
    "\n",
    "<hr>\n",
    "\n",
    "<div style=\"display: flex\">\n",
    "    <a rel=\"license\" href=\"http://creativecommons.org/licenses/by-sa/4.0/\"><img alt=\"Creative Commons License\" style=\"border-width:0; margin-right: 10px\" src=\"https://i.creativecommons.org/l/by-sa/4.0/88x31.png\" /></a>\n",
    "    <br>This work is licensed under a &nbsp; <a rel=\"license\" href=\"http://creativecommons.org/licenses/by-sa/4.0/\">Creative Commons Attribution-ShareAlike 4.0 International License</a>.\n",
    "</div>"
   ]
  }
 ],
 "metadata": {
  "kernelspec": {
   "display_name": "Python 3",
   "language": "python",
   "name": "python3"
  },
  "language_info": {
   "codemirror_mode": {
    "name": "ipython",
    "version": 3
   },
   "file_extension": ".py",
   "mimetype": "text/x-python",
   "name": "python",
   "nbconvert_exporter": "python",
   "pygments_lexer": "ipython3",
   "version": "3.9.0"
  },
  "latex_envs": {
   "LaTeX_envs_menu_present": true,
   "autoclose": true,
   "autocomplete": false,
   "bibliofile": "biblio.bib",
   "cite_by": "apalike",
   "current_citInitial": 1,
   "eqLabelWithNumbers": true,
   "eqNumInitial": 1,
   "hotkeys": {
    "equation": "Ctrl-E",
    "itemize": "Ctrl-I"
   },
   "labels_anchors": false,
   "latex_user_defs": false,
   "report_style_numbering": false,
   "user_envs_cfg": false
  },
  "toc": {
   "base_numbering": 1,
   "nav_menu": {},
   "number_sections": true,
   "sideBar": true,
   "skip_h1_title": false,
   "title_cell": "Table of Contents",
   "title_sidebar": "Contents",
   "toc_cell": false,
   "toc_position": {},
   "toc_section_display": true,
   "toc_window_display": false
  },
  "varInspector": {
   "cols": {
    "lenName": 16,
    "lenType": 16,
    "lenVar": 40
   },
   "kernels_config": {
    "python": {
     "delete_cmd_postfix": "",
     "delete_cmd_prefix": "del ",
     "library": "var_list.py",
     "varRefreshCmd": "print(var_dic_list())"
    },
    "r": {
     "delete_cmd_postfix": ") ",
     "delete_cmd_prefix": "rm(",
     "library": "var_list.r",
     "varRefreshCmd": "cat(var_dic_list()) "
    }
   },
   "types_to_exclude": [
    "module",
    "function",
    "builtin_function_or_method",
    "instance",
    "_Feature"
   ],
   "window_display": false
  }
 },
 "nbformat": 4,
 "nbformat_minor": 5
}
