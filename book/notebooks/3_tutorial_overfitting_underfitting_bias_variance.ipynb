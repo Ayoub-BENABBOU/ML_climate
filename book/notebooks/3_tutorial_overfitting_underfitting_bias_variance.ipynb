{
 "cells": [
  {
   "cell_type": "markdown",
   "id": "f7b500a8",
   "metadata": {},
   "source": [
    "# Tutorial: Overfitting/Underfitting and Bias/Variance\n",
    "\n",
    "Tutorial to the class [Overfitting/Underfitting and Bias/Variance](3_overfitting_underfitting_bias_variance.ipynb)."
   ]
  },
  {
   "cell_type": "markdown",
   "id": "884267e1",
   "metadata": {},
   "source": [
    "<div class=\"alert alert-block alert-info\">\n",
    "    <b>Tutorial Objectives</b>\n",
    "    \n",
    "- Evaluate model performance by estimating the Expected Prediction Errors (EPE) using test data\n",
    "- Same as above but with cross-validation\n",
    "- Compute and plot learning curves\n",
    "- Improve the models by modifying the input features\n",
    "</div>"
   ]
  },
  {
   "cell_type": "markdown",
   "id": "10e44c5d",
   "metadata": {},
   "source": [
    "## Estimating the prediction error using a test set"
   ]
  },
  {
   "cell_type": "markdown",
   "id": "f8563b26",
   "metadata": {},
   "source": [
    "> ***Question***\n",
    "> - Estimate the prediction error (prediction $R^2$) from 1 year of test data using the other years to train.\n",
    "> - How does it compare to the train error estimated above?\n",
    "> - Is this an estimate of the expected prediction error or of the prediction error conditioned on some train dataset?\n",
    "> - Do you expect overfitting to have occurred?"
   ]
  },
  {
   "cell_type": "markdown",
   "id": "d7edd55e",
   "metadata": {},
   "source": [
    "Answer:"
   ]
  },
  {
   "cell_type": "code",
   "execution_count": null,
   "id": "ca2f5cbd",
   "metadata": {},
   "outputs": [],
   "source": [
    "# Select test set from last year\n",
    "X_test = \n",
    "y_test = \n",
    "\n",
    "# Select train set from previous years\n",
    "X_train = \n",
    "y_train = \n",
    "\n",
    "# Fit model on train data\n",
    "\n",
    "# Predict from test inputs\n",
    "y_pred = \n",
    "\n",
    "# Compute predict MSE and r2\n",
    "mse_pred = \n",
    "\n",
    "# Estimate the train r2\n",
    "r2_pred = "
   ]
  },
  {
   "cell_type": "markdown",
   "id": "0f339cba",
   "metadata": {},
   "source": [
    "> ***Question***\n",
    "> - How does the prediction error changes if it is computed based on the last 3 months of the year instead?\n",
    "> - Give at least 2 reasons to explain these changes."
   ]
  },
  {
   "cell_type": "code",
   "execution_count": null,
   "id": "b2bb01cb",
   "metadata": {},
   "outputs": [],
   "source": [
    "# Select test set from last 3 months\n",
    "X_test = \n",
    "y_test = \n",
    "\n",
    "# Select train set from previous months\n",
    "X_train = \n",
    "y_train = \n",
    "\n",
    "# Fit model on train data\n",
    "\n",
    "# Predict from test inputs\n",
    "y_pred = \n",
    "\n",
    "# Compute predict MSE and r2\n",
    "mse_pred = \n",
    "r2_pred = "
   ]
  },
  {
   "cell_type": "markdown",
   "id": "1a090d02",
   "metadata": {},
   "source": [
    "Answer:"
   ]
  },
  {
   "cell_type": "markdown",
   "id": "1b7a1863",
   "metadata": {},
   "source": [
    "### Learning curve"
   ]
  },
  {
   "cell_type": "markdown",
   "id": "1e4ecf34",
   "metadata": {},
   "source": [
    "> ***Question***\n",
    "> - Compute and plot a learning curve. To do so:\n",
    ">   - Set a year of data aside to compute the test error always on the same period\n",
    ">   - Define a list of train period of increasing lengths\n",
    ">   - Loop over these train periods to iteratively:\n",
    ">     - Select data for this train period\n",
    ">     - Train the model\n",
    ">     - Compute the train error from the train data for the train period\n",
    ">     - Compute the test error from the test data for the test period\n",
    ">     - Save both errors\n",
    ">   - Plot both errors curves\n",
    "> - Interpret the results."
   ]
  },
  {
   "cell_type": "code",
   "execution_count": null,
   "id": "4896cd5d",
   "metadata": {},
   "outputs": [],
   "source": [
    "# Define the test data\n",
    "\n",
    "\n",
    "# Define the number of days by which to increase the train periods\n",
    "\n",
    "# Define arrays in which to save the errors\n",
    "\n",
    "\n",
    "# Loop over train periods stopping before overlapping test period\n",
    "\n",
    "    \n",
    "# Plot the learning curves\n"
   ]
  },
  {
   "cell_type": "markdown",
   "id": "536677a7",
   "metadata": {},
   "source": [
    "## Estimating the expected prediction error with cross-validation"
   ]
  },
  {
   "cell_type": "markdown",
   "id": "e35e1b0d",
   "metadata": {},
   "source": [
    "> ***Question***\n",
    "> - Perform a 5-fold cross-validation of your own by repeating the estimation of the test error on all years (optional).\n",
    "> - Verify your results using the `cross_val_score` function of `sklearn.model_selection` with the appropriate value for the `cv` option.\n",
    "> - How does the error estimate from the cross-validation compare to your previous estimations?"
   ]
  },
  {
   "cell_type": "code",
   "execution_count": null,
   "id": "fadc17f9",
   "metadata": {},
   "outputs": [],
   "source": [
    "# Import scikit-learn cross-validation function\n",
    "\n",
    "# Compute cross-validation scores with Scikit-Learn\n",
    "scores = "
   ]
  },
  {
   "cell_type": "markdown",
   "id": "ce2331a8",
   "metadata": {},
   "source": [
    "## Improving the linear model by adding features"
   ]
  },
  {
   "cell_type": "markdown",
   "id": "2619fcbc",
   "metadata": {},
   "source": [
    "We know from consumer behavior and heating technologies that individual heating tends to increase linearly from no heating below some heating temperature $T_H \\approx 15$°C.\n",
    "\n",
    "> ***Question***\n",
    "> - Design two input variables that reflect this behavior.\n",
    "> - Fit the two-dimensional linear model and plot its predictions.\n",
    "> - Compute the train and test learning curves for this model.\n",
    "> - Compare the results to the one-dimensional model and explain."
   ]
  },
  {
   "cell_type": "code",
   "execution_count": null,
   "id": "a87a2bc9",
   "metadata": {},
   "outputs": [],
   "source": [
    "### Your answer\n"
   ]
  },
  {
   "cell_type": "markdown",
   "id": "de0c4ef9",
   "metadata": {},
   "source": [
    "In southern regions where climates are relatively warm, air conditioning may be used when daily-mean temperatures increase above about 20°C.\n",
    "As a result, regional electricity demand increases somewhat linearly above this threshold.\n",
    "\n",
    "> ***Question***\n",
    "> - Add a third input variable to reflect this behavior apply and validate the model to the `'Provence-Alpes-Côte d'Azur'` region.\n",
    "> - Compare the skills of the 1, 2 and 3-dimensional models."
   ]
  },
  {
   "cell_type": "markdown",
   "id": "c467e84a",
   "metadata": {},
   "source": [
    "***\n",
    "## Credit\n",
    "\n",
    "[//]: # \"This notebook is part of [E4C Interdisciplinary Center - Education](https://gitlab.in2p3.fr/energy4climate/public/education).\"\n",
    "Contributors include Bruno Deremble and Alexis Tantet.\n",
    "Several slides and images are taken from the very good [Scikit-learn course](https://inria.github.io/scikit-learn-mooc/).\n",
    "\n",
    "<br>\n",
    "\n",
    "<div style=\"display: flex; height: 70px\">\n",
    "    \n",
    "<img alt=\"Logo LMD\" src=\"images/logos/logo_lmd.jpg\" style=\"display: inline-block\"/>\n",
    "\n",
    "<img alt=\"Logo IPSL\" src=\"images/logos/logo_ipsl.png\" style=\"display: inline-block\"/>\n",
    "\n",
    "<img alt=\"Logo E4C\" src=\"images/logos/logo_e4c_final.png\" style=\"display: inline-block\"/>\n",
    "\n",
    "<img alt=\"Logo EP\" src=\"images/logos/logo_ep.png\" style=\"display: inline-block\"/>\n",
    "\n",
    "<img alt=\"Logo SU\" src=\"images/logos/logo_su.png\" style=\"display: inline-block\"/>\n",
    "\n",
    "<img alt=\"Logo ENS\" src=\"images/logos/logo_ens.jpg\" style=\"display: inline-block\"/>\n",
    "\n",
    "<img alt=\"Logo CNRS\" src=\"images/logos/logo_cnrs.png\" style=\"display: inline-block\"/>\n",
    "    \n",
    "</div>\n",
    "\n",
    "<hr>\n",
    "\n",
    "<div style=\"display: flex\">\n",
    "    <a rel=\"license\" href=\"http://creativecommons.org/licenses/by-sa/4.0/\"><img alt=\"Creative Commons License\" style=\"border-width:0; margin-right: 10px\" src=\"https://i.creativecommons.org/l/by-sa/4.0/88x31.png\" /></a>\n",
    "    <br>This work is licensed under a &nbsp; <a rel=\"license\" href=\"http://creativecommons.org/licenses/by-sa/4.0/\">Creative Commons Attribution-ShareAlike 4.0 International License</a>.\n",
    "</div>"
   ]
  }
 ],
 "metadata": {
  "kernelspec": {
   "display_name": "Python 3",
   "language": "python",
   "name": "python3"
  },
  "language_info": {
   "codemirror_mode": {
    "name": "ipython",
    "version": 3
   },
   "file_extension": ".py",
   "mimetype": "text/x-python",
   "name": "python",
   "nbconvert_exporter": "python",
   "pygments_lexer": "ipython3",
   "version": "3.9.0"
  },
  "latex_envs": {
   "LaTeX_envs_menu_present": true,
   "autoclose": true,
   "autocomplete": false,
   "bibliofile": "biblio.bib",
   "cite_by": "apalike",
   "current_citInitial": 1,
   "eqLabelWithNumbers": true,
   "eqNumInitial": 1,
   "hotkeys": {
    "equation": "Ctrl-E",
    "itemize": "Ctrl-I"
   },
   "labels_anchors": false,
   "latex_user_defs": false,
   "report_style_numbering": false,
   "user_envs_cfg": false
  },
  "toc": {
   "base_numbering": 1,
   "nav_menu": {},
   "number_sections": true,
   "sideBar": true,
   "skip_h1_title": false,
   "title_cell": "Table of Contents",
   "title_sidebar": "Contents",
   "toc_cell": false,
   "toc_position": {},
   "toc_section_display": true,
   "toc_window_display": false
  },
  "varInspector": {
   "cols": {
    "lenName": 16,
    "lenType": 16,
    "lenVar": 40
   },
   "kernels_config": {
    "python": {
     "delete_cmd_postfix": "",
     "delete_cmd_prefix": "del ",
     "library": "var_list.py",
     "varRefreshCmd": "print(var_dic_list())"
    },
    "r": {
     "delete_cmd_postfix": ") ",
     "delete_cmd_prefix": "rm(",
     "library": "var_list.r",
     "varRefreshCmd": "cat(var_dic_list()) "
    }
   },
   "types_to_exclude": [
    "module",
    "function",
    "builtin_function_or_method",
    "instance",
    "_Feature"
   ],
   "window_display": false
  }
 },
 "nbformat": 4,
 "nbformat_minor": 5
}
