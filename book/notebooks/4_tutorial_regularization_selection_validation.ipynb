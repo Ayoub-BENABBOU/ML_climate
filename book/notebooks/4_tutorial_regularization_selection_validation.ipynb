{
 "cells": [
  {
   "cell_type": "markdown",
   "id": "b4f7548b",
   "metadata": {},
   "source": [
    "# Tutorial: Regularization, Model Selection and Validation\n",
    "\n",
    "Tutorial to the class [Regularization, Model Selection and Validation](4_regularization_selection_validation.ipynb)."
   ]
  },
  {
   "cell_type": "markdown",
   "id": "764cb270",
   "metadata": {},
   "source": [
    "<div class=\"alert alert-block alert-info\">\n",
    "    <b>Tutorial Objectives</b>\n",
    "    \n",
    "- Apply regularization methods: ridge and lasso\n",
    "- Compute and plot validation curves\n",
    "- Compare $k$-nearest neighbors to linear least squares (OLS)\n",
    "</div>"
   ]
  },
  {
   "cell_type": "markdown",
   "id": "e3a2060b",
   "metadata": {},
   "source": [
    "## Regularization"
   ]
  },
  {
   "cell_type": "markdown",
   "id": "a82712b4",
   "metadata": {},
   "source": [
    "### Ridge regression"
   ]
  },
  {
   "cell_type": "markdown",
   "id": "368696ba",
   "metadata": {},
   "source": [
    "> ***Question***\n",
    "> - Apply the ridge regression using `Ridge` from `sklearn.linear_model` for varying regularization parameter values.\n",
    "> Represent the resulting predictions above the scatter plot of the train data."
   ]
  },
  {
   "cell_type": "code",
   "execution_count": null,
   "id": "a91a50b2",
   "metadata": {},
   "outputs": [],
   "source": [
    "# Your answer\n"
   ]
  },
  {
   "cell_type": "markdown",
   "id": "3c33cbd9",
   "metadata": {},
   "source": [
    "> ***Question***\n",
    "> - Compute the corresponding validation curves. To do so, compute and plot the train and test error (using cross-validation) for varying values of the regularization parameter.\n",
    "> - What is the best value of the regularization parameter according to your estimations?"
   ]
  },
  {
   "cell_type": "code",
   "execution_count": null,
   "id": "329001f3",
   "metadata": {},
   "outputs": [],
   "source": [
    "# Your answer\n"
   ]
  },
  {
   "cell_type": "markdown",
   "id": "2148f498",
   "metadata": {},
   "source": [
    "> ***Question***\n",
    "> - Estimate the test error for the optimal value of the regularization parameter.\n",
    "> - How does the ridge model performs compared to the linear models analyzed so far?"
   ]
  },
  {
   "cell_type": "code",
   "execution_count": null,
   "id": "9ec37896",
   "metadata": {},
   "outputs": [],
   "source": [
    "# Your answer\n"
   ]
  },
  {
   "cell_type": "markdown",
   "id": "159549b6",
   "metadata": {},
   "source": [
    "### Lasso regression"
   ]
  },
  {
   "cell_type": "markdown",
   "id": "f58adf42",
   "metadata": {},
   "source": [
    "> ***Question***\n",
    "> - Same questions as for the ridge but for the lasso."
   ]
  },
  {
   "cell_type": "code",
   "execution_count": null,
   "id": "0cb71152",
   "metadata": {},
   "outputs": [],
   "source": [
    "# Your answer\n"
   ]
  },
  {
   "cell_type": "markdown",
   "id": "cc7cf895",
   "metadata": {},
   "source": [
    "## $K$-nearest neighbor model\n",
    "\n",
    "> ***Question***\n",
    "> - Apply the $k$-nearest neighbor model using `KNeighborsRegressor` from `sklearn.neighbors` for varying $k$.\n",
    "> - Represent the resulting predictions above the scatter plot of the train data."
   ]
  },
  {
   "cell_type": "code",
   "execution_count": null,
   "id": "28f7c10a",
   "metadata": {
    "code_folding": []
   },
   "outputs": [],
   "source": [
    "# Your answer\n"
   ]
  },
  {
   "cell_type": "markdown",
   "id": "ccbc6545",
   "metadata": {},
   "source": [
    "> ***Question***\n",
    "> - Compute the corresponding validation curves. To do so, compute and plot the train and test error (using cross-validation) for varying $k$.\n",
    "> - What is the best value of $k$ according to your estimations?\n",
    "> - How does the best $k$-nearest neighbor model performs compared to the linear models analyzed so far?"
   ]
  },
  {
   "cell_type": "code",
   "execution_count": null,
   "id": "fc8dff11",
   "metadata": {},
   "outputs": [],
   "source": [
    "# Your answer\n"
   ]
  },
  {
   "cell_type": "markdown",
   "id": "2d54b603",
   "metadata": {},
   "source": [
    "Answer:"
   ]
  },
  {
   "cell_type": "markdown",
   "id": "cf5e9e04",
   "metadata": {},
   "source": [
    "***\n",
    "## Credit\n",
    "\n",
    "[//]: # \"This notebook is part of [E4C Interdisciplinary Center - Education](https://gitlab.in2p3.fr/energy4climate/public/education).\"\n",
    "Contributors include Bruno Deremble and Alexis Tantet.\n",
    "Several slides and images are taken from the very good [Scikit-learn course](https://inria.github.io/scikit-learn-mooc/).\n",
    "\n",
    "<br>\n",
    "\n",
    "<div style=\"display: flex; height: 70px\">\n",
    "    \n",
    "<img alt=\"Logo LMD\" src=\"images/logos/logo_lmd.jpg\" style=\"display: inline-block\"/>\n",
    "\n",
    "<img alt=\"Logo IPSL\" src=\"images/logos/logo_ipsl.png\" style=\"display: inline-block\"/>\n",
    "\n",
    "<img alt=\"Logo E4C\" src=\"images/logos/logo_e4c_final.png\" style=\"display: inline-block\"/>\n",
    "\n",
    "<img alt=\"Logo EP\" src=\"images/logos/logo_ep.png\" style=\"display: inline-block\"/>\n",
    "\n",
    "<img alt=\"Logo SU\" src=\"images/logos/logo_su.png\" style=\"display: inline-block\"/>\n",
    "\n",
    "<img alt=\"Logo ENS\" src=\"images/logos/logo_ens.jpg\" style=\"display: inline-block\"/>\n",
    "\n",
    "<img alt=\"Logo CNRS\" src=\"images/logos/logo_cnrs.png\" style=\"display: inline-block\"/>\n",
    "    \n",
    "</div>\n",
    "\n",
    "<hr>\n",
    "\n",
    "<div style=\"display: flex\">\n",
    "    <a rel=\"license\" href=\"http://creativecommons.org/licenses/by-sa/4.0/\"><img alt=\"Creative Commons License\" style=\"border-width:0; margin-right: 10px\" src=\"https://i.creativecommons.org/l/by-sa/4.0/88x31.png\" /></a>\n",
    "    <br>This work is licensed under a &nbsp; <a rel=\"license\" href=\"http://creativecommons.org/licenses/by-sa/4.0/\">Creative Commons Attribution-ShareAlike 4.0 International License</a>.\n",
    "</div>"
   ]
  }
 ],
 "metadata": {
  "kernelspec": {
   "display_name": "Python 3",
   "language": "python",
   "name": "python3"
  },
  "language_info": {
   "codemirror_mode": {
    "name": "ipython",
    "version": 3
   },
   "file_extension": ".py",
   "mimetype": "text/x-python",
   "name": "python",
   "nbconvert_exporter": "python",
   "pygments_lexer": "ipython3",
   "version": "3.9.0"
  },
  "latex_envs": {
   "LaTeX_envs_menu_present": true,
   "autoclose": true,
   "autocomplete": false,
   "bibliofile": "biblio.bib",
   "cite_by": "apalike",
   "current_citInitial": 1,
   "eqLabelWithNumbers": true,
   "eqNumInitial": 1,
   "hotkeys": {
    "equation": "Ctrl-E",
    "itemize": "Ctrl-I"
   },
   "labels_anchors": false,
   "latex_user_defs": false,
   "report_style_numbering": false,
   "user_envs_cfg": false
  },
  "toc": {
   "base_numbering": 1,
   "nav_menu": {},
   "number_sections": true,
   "sideBar": true,
   "skip_h1_title": false,
   "title_cell": "Table of Contents",
   "title_sidebar": "Contents",
   "toc_cell": false,
   "toc_position": {},
   "toc_section_display": true,
   "toc_window_display": false
  },
  "varInspector": {
   "cols": {
    "lenName": 16,
    "lenType": 16,
    "lenVar": 40
   },
   "kernels_config": {
    "python": {
     "delete_cmd_postfix": "",
     "delete_cmd_prefix": "del ",
     "library": "var_list.py",
     "varRefreshCmd": "print(var_dic_list())"
    },
    "r": {
     "delete_cmd_postfix": ") ",
     "delete_cmd_prefix": "rm(",
     "library": "var_list.r",
     "varRefreshCmd": "cat(var_dic_list()) "
    }
   },
   "types_to_exclude": [
    "module",
    "function",
    "builtin_function_or_method",
    "instance",
    "_Feature"
   ],
   "window_display": false
  }
 },
 "nbformat": 4,
 "nbformat_minor": 5
}
