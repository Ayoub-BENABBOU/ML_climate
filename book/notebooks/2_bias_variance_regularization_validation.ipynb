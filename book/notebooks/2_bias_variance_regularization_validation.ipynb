{
 "cells": [
  {
   "cell_type": "markdown",
   "id": "5eb8c31b",
   "metadata": {
    "slideshow": {
     "slide_type": "slide"
    }
   },
   "source": [
    "# Bias-Variance, Regularization, Validation\n",
    "\n",
    "[![Binder](https://mybinder.org/badge_logo.svg)](https://mybinder.org/v2/git/https%3A%2F%2Fgitlab.in2p3.fr%2Fenergy4climate%2Fpublic%2Feducation%2Fmachine_learning_for_climate_and_energy/master?filepath=book%2Fnotebooks%2F2_bias_variance_regularization_validation.ipynb)"
   ]
  },
  {
   "cell_type": "markdown",
   "id": "3a485dc1",
   "metadata": {
    "slideshow": {
     "slide_type": "subslide"
    }
   },
   "source": [
    "<div class=\"alert alert-block alert-warning\">\n",
    "    <b>Prerequisites</b>\n",
    "    \n",
    "- Define *supervized* and *unsupervized* learning\n",
    "- Define of *regression* and *classification*\n",
    "- Give the difference between *qualitative* and *quantitative* variables\n",
    "- [Elements of Probability Theory](appendix_elements_of_probability_theory.ipynb)  \n",
    "</div>"
   ]
  },
  {
   "cell_type": "markdown",
   "id": "8790b2ae",
   "metadata": {
    "slideshow": {
     "slide_type": "subslide"
    }
   },
   "source": [
    "<div class=\"alert alert-block alert-info\">\n",
    "    <b>Learning Outcomes</b>\n",
    "    \n",
    "- Define a supervised learning problem\n",
    "- Apply the methodology to a multiple linear regression\n",
    "</div>"
   ]
  },
  {
   "cell_type": "markdown",
   "id": "6b72df4e",
   "metadata": {
    "slideshow": {
     "slide_type": "slide"
    }
   },
   "source": [
    "## Supervised Learning Objective\n",
    "\n",
    "- *Input* vector $X$ of $X_1, \\ldots, X_p$ quantitative input variables\n",
    "- Quantitative *output* variable $Y$\n",
    "\n",
    "The $i$th value (realization) of $X_j$ is given by the element $x_{ij}$ of $N\\times p$ matrix $\\boldsymbol{X}$.\n",
    "\n",
    "<hr>\n",
    "\n",
    "**Supervised Learning Objective**\n",
    "<br>\n",
    "Construct the \"best\" prediction rule to predict $Y$ based on some *training data*: $(\\boldsymbol{x}_i, y_i), i = 1, \\ldots N$. \n",
    "\n",
    "<hr>\n"
   ]
  },
  {
   "cell_type": "markdown",
   "id": "d5ad72db",
   "metadata": {
    "slideshow": {
     "slide_type": "slide"
    }
   },
   "source": [
    "## Supervised Learning Problem Definition\n",
    "\n",
    "Given the output $Y$,\n",
    "\n",
    "- define inputs $X = (X_1, \\ldots, X_p)$\n",
    "- define model by a function $\\mathcal{M}: X \\mapsto \\mathcal{M}(X)$\n",
    "- define *loss function* $L(Y, \\mathcal{M}(X))$\n",
    "- choose a training set $(\\boldsymbol{x}_i, y_i), i = 1, \\ldots, N$"
   ]
  },
  {
   "cell_type": "markdown",
   "id": "578435ca",
   "metadata": {
    "slideshow": {
     "slide_type": "fragment"
    }
   },
   "source": [
    "Linear model: $\\mathcal{M}_{\\boldsymbol{\\beta}}(X) = \\beta_0 + \\sum_{j = 1}^p X_j \\beta_j$\n",
    "\n",
    "Squared error loss: $L(Y, \\mathcal{M}(X)) = \\left(Y - \\mathcal{M}(X)\\right)^2$"
   ]
  },
  {
   "cell_type": "markdown",
   "id": "ac105ce3",
   "metadata": {
    "slideshow": {
     "slide_type": "subslide"
    }
   },
   "source": [
    "<div class=\"alert alert-block alert-info\">\n",
    "We assume that all random variables and random vectors have finite variance and have densities (they are absolutely continuous with respect to the Lebesgue measure) and denote by $f_X$ the density of some random variable $X$.\n",
    "</div>"
   ]
  },
  {
   "cell_type": "markdown",
   "id": "fb6bba45",
   "metadata": {
    "slideshow": {
     "slide_type": "slide"
    }
   },
   "source": [
    "<hr>\n",
    "\n",
    "**Expected Prediction Error**\n",
    "<br>\n",
    "\\begin{equation}\n",
    "\\mathrm{EPE}(\\mathcal{M}) = \\mathbb{E}(L(Y, \\mathcal{M}(X)))\n",
    "= \\int L(y, \\mathcal{M}(x)) f_{X, Y}(x, y) dx dy.\n",
    "\\end{equation}\n",
    "\n",
    "<hr>\n",
    "\n",
    "<hr>\n",
    "\n",
    "**Supervised Learning Objective (Concrete)**\n",
    "<br>\n",
    "Find $\\mathcal{M}$ such that the EPE is minimized.\n",
    "\n",
    "<hr>"
   ]
  },
  {
   "cell_type": "markdown",
   "id": "67837f75",
   "metadata": {
    "slideshow": {
     "slide_type": "subslide"
    }
   },
   "source": [
    "From the law of total expectation, we have that\n",
    "\n",
    "\\begin{align}\n",
    "\\mathrm{EPE}(\\mathcal{M})\n",
    "&= \\mathbb{E}(\\mathbb{E}[L(Y, \\mathcal{M}(X)) | X])\\\\\n",
    "&= \\int L(y, \\mathcal{M}(x)) f_{Y | X = x}(y) f_X(x)dy dx.\n",
    "\\end{align}"
   ]
  },
  {
   "cell_type": "markdown",
   "id": "85d24991",
   "metadata": {
    "slideshow": {
     "slide_type": "fragment"
    }
   },
   "source": [
    "The EPE can thus be interpreted as averaging over the inputs the prediction error for any input and can be minimized pointwise:\n",
    "\n",
    "\\begin{equation}\n",
    "\\mathcal{M}(x) = \\mathrm{argmin}_c \\mathbb{E}\\left[L(Y, c) | X = x\\right].\n",
    "\\end{equation}"
   ]
  },
  {
   "cell_type": "markdown",
   "id": "e4952be0",
   "metadata": {
    "slideshow": {
     "slide_type": "subslide"
    }
   },
   "source": [
    "## The Case of Squared Error Loss\n",
    "\n",
    "\\begin{equation}\n",
    "\\mathrm{EPE}(f) = \\mathbb{E}((Y - f(X))^2)\n",
    "\\end{equation}\n",
    "\n",
    "Then:\n",
    "\\begin{equation}\n",
    "\\mathcal{M}(x) = \\mathrm{argmin}_c \\mathbb{E}_{Y | X = x}\\left[(Y - c)^2\\right].\n",
    "\\end{equation}\n",
    "\n",
    "Since the expectation is the value that minimizes the expectation of the squared deviations (Euclidean distance) of a random variable, the solution is \n",
    "\n",
    "\\begin{equation}\n",
    "\\mathcal{M}(x) = \\mathbb{E}_{Y | X = x}(Y)\n",
    "\\end{equation}\n"
   ]
  },
  {
   "cell_type": "markdown",
   "id": "da2e439a",
   "metadata": {
    "slideshow": {
     "slide_type": "slide"
    }
   },
   "source": [
    "> ***Question 1***\n",
    "> - In which mode and how would you use the partially-absorbing EBM (Eq. 3) to compute the ECS, integration or continuation?\n",
    "> - Give the explicit formula that you would apply to compute the ECS according to its definition and assuming that the pre-industrial level is set to the year 1750 with a CO2 concentration of 280 ppm."
   ]
  },
  {
   "cell_type": "markdown",
   "id": "7005fab6",
   "metadata": {
    "slideshow": {
     "slide_type": "slide"
    }
   },
   "source": [
    "## References\n",
    "\n",
    "- [Hastie, T., Tibshirani, R., Friedman, J., 2009. *The Elements of Statistical Learning*, 2nd ed. Springer, New York.](https://doi.org/10.1007/978-0-387-84858-7)"
   ]
  },
  {
   "cell_type": "markdown",
   "id": "5e186998",
   "metadata": {
    "slideshow": {
     "slide_type": "slide"
    }
   },
   "source": [
    "***\n",
    "## Credit\n",
    "\n",
    "[//]: # \"This notebook is part of [E4C Interdisciplinary Center - Education](https://gitlab.in2p3.fr/energy4climate/public/education).\"\n",
    "Contributors include Bruno Deremble and Alexis Tantet.\n",
    "\n",
    "<br>\n",
    "\n",
    "<div style=\"display: flex; height: 70px\">\n",
    "    \n",
    "<img alt=\"Logo LMD\" src=\"images/logos/logo_lmd.jpg\" style=\"display: inline-block\"/>\n",
    "\n",
    "<img alt=\"Logo IPSL\" src=\"images/logos/logo_ipsl.png\" style=\"display: inline-block\"/>\n",
    "\n",
    "<img alt=\"Logo E4C\" src=\"images/logos/logo_e4c_final.png\" style=\"display: inline-block\"/>\n",
    "\n",
    "<img alt=\"Logo EP\" src=\"images/logos/logo_ep.png\" style=\"display: inline-block\"/>\n",
    "\n",
    "<img alt=\"Logo SU\" src=\"images/logos/logo_su.png\" style=\"display: inline-block\"/>\n",
    "\n",
    "<img alt=\"Logo ENS\" src=\"images/logos/logo_ens.jpg\" style=\"display: inline-block\"/>\n",
    "\n",
    "<img alt=\"Logo CNRS\" src=\"images/logos/logo_cnrs.png\" style=\"display: inline-block\"/>\n",
    "    \n",
    "</div>\n",
    "\n",
    "<hr>\n",
    "\n",
    "<div style=\"display: flex\">\n",
    "    <a rel=\"license\" href=\"http://creativecommons.org/licenses/by-sa/4.0/\"><img alt=\"Creative Commons License\" style=\"border-width:0; margin-right: 10px\" src=\"https://i.creativecommons.org/l/by-sa/4.0/88x31.png\" /></a>\n",
    "    <br>This work is licensed under a &nbsp; <a rel=\"license\" href=\"http://creativecommons.org/licenses/by-sa/4.0/\">Creative Commons Attribution-ShareAlike 4.0 International License</a>.\n",
    "</div>"
   ]
  }
 ],
 "metadata": {
  "celltoolbar": "Slideshow",
  "kernelspec": {
   "display_name": "Python 3",
   "language": "python",
   "name": "python3"
  },
  "language_info": {
   "codemirror_mode": {
    "name": "ipython",
    "version": 3
   },
   "file_extension": ".py",
   "mimetype": "text/x-python",
   "name": "python",
   "nbconvert_exporter": "python",
   "pygments_lexer": "ipython3",
   "version": "3.9.0"
  },
  "latex_envs": {
   "LaTeX_envs_menu_present": true,
   "autoclose": true,
   "autocomplete": false,
   "bibliofile": "biblio.bib",
   "cite_by": "apalike",
   "current_citInitial": 1,
   "eqLabelWithNumbers": true,
   "eqNumInitial": 1,
   "hotkeys": {
    "equation": "Ctrl-E",
    "itemize": "Ctrl-I"
   },
   "labels_anchors": false,
   "latex_user_defs": false,
   "report_style_numbering": false,
   "user_envs_cfg": false
  },
  "toc": {
   "base_numbering": 1,
   "nav_menu": {},
   "number_sections": true,
   "sideBar": true,
   "skip_h1_title": false,
   "title_cell": "Table of Contents",
   "title_sidebar": "Contents",
   "toc_cell": false,
   "toc_position": {},
   "toc_section_display": true,
   "toc_window_display": false
  },
  "varInspector": {
   "cols": {
    "lenName": 16,
    "lenType": 16,
    "lenVar": 40
   },
   "kernels_config": {
    "python": {
     "delete_cmd_postfix": "",
     "delete_cmd_prefix": "del ",
     "library": "var_list.py",
     "varRefreshCmd": "print(var_dic_list())"
    },
    "r": {
     "delete_cmd_postfix": ") ",
     "delete_cmd_prefix": "rm(",
     "library": "var_list.r",
     "varRefreshCmd": "cat(var_dic_list()) "
    }
   },
   "types_to_exclude": [
    "module",
    "function",
    "builtin_function_or_method",
    "instance",
    "_Feature"
   ],
   "window_display": false
  }
 },
 "nbformat": 4,
 "nbformat_minor": 5
}
