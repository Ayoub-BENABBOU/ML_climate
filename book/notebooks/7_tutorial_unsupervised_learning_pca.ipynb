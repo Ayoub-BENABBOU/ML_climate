{
 "cells": [
  {
   "cell_type": "markdown",
   "id": "e7c3c217",
   "metadata": {},
   "source": [
    "# Tutorial: Introduction to Unsupervised Learning with a Focus on PCA\n",
    "\n",
    "Tutorial to the class [Introduction to Unsupervised Learning with a Focus on PCA](7_unsupervised_learning_pca.ipynb)."
   ]
  },
  {
   "cell_type": "markdown",
   "id": "697044f7",
   "metadata": {},
   "source": [
    "<div class=\"alert alert-block alert-info\">\n",
    "    <b>Tutorial Objectives</b>\n",
    "    \n",
    "- Apply Principal Component Analysis (PCA) to climate data to analyze patterns of variability\n",
    "- (Combine PCA reduction/$k$-means clustering to Ordinary Least Squares (OLS) to predict climate variables)\n",
    "- (Use cross-validation to regularize the OLS with the number of retained Empirical Orthogonal Functions (EOFs) or clusters).\n",
    "</div>"
   ]
  },
  {
   "cell_type": "markdown",
   "id": "5dc68f17",
   "metadata": {},
   "source": [
    "## Dataset presentation\n",
    "\n",
    "- Input:\n",
    "  - [Geopotential height](https://en.wikipedia.org/wiki/Geopotential_height) at 500hPa\n",
    "    - Domain: North Atlantic\n",
    "    - Spatial resolution: $0.5° \\times 0.625°$\n",
    "    - Time resolution: monthly\n",
    "    - Period: 1980-2018\n",
    "    - Units: m\n",
    "    - Source: [MERRA-2 reanalysis](https://gmao.gsfc.nasa.gov/reanalysis/MERRA-2/)\n",
    "- Target:\n",
    "  - Onshore wind capacity factors\n",
    "    - Domain: Metropolitan France\n",
    "    - Spatial resolution: regional mean\n",
    "    - Time resolution: monthly\n",
    "    - Period: 2014-2018\n",
    "    - Units:\n",
    "    - Source: [RTE](https://opendata.reseaux-energies.fr/)"
   ]
  },
  {
   "cell_type": "code",
   "execution_count": null,
   "id": "7f64357e",
   "metadata": {},
   "outputs": [],
   "source": [
    "# Import modules\n",
    "from pathlib import Path\n",
    "import numpy as np\n",
    "import matplotlib.pyplot as plt\n",
    "\n",
    "# Data directory\n",
    "DATA_DIR = Path('data')\n",
    "\n",
    "# Filename to geopotential height at 500hPa from MERRA-2 reanalysis\n",
    "filename = 'merra2_analyze_height_500_month_19800101-20190101.nc'"
   ]
  },
  {
   "cell_type": "markdown",
   "id": "c0e3b0b6",
   "metadata": {},
   "source": [
    "> ***Question***\n",
    "> - Read the geopotential height data using `xarray.load_dataset` and print it."
   ]
  },
  {
   "cell_type": "code",
   "execution_count": null,
   "id": "db32a3fd",
   "metadata": {},
   "outputs": [],
   "source": [
    "# Import xarray\n",
    "\n",
    "# Read dataset with xarray\n",
    "\n",
    "\n",
    "# Select geopotential height variable\n"
   ]
  },
  {
   "cell_type": "markdown",
   "id": "24aea6f8",
   "metadata": {},
   "source": [
    "> ***Question***\n",
    "> - Compute the mean and the variance of the geopotential height with the `mean` and `var` methods.\n",
    "> - Plot the mean with the `plot` method.\n",
    "> - Do a filled-contour plot of the variance with the `plot.contourf` method."
   ]
  },
  {
   "cell_type": "code",
   "execution_count": null,
   "id": "789b7dd1",
   "metadata": {},
   "outputs": [],
   "source": [
    "# Compute the mean\n",
    "\n",
    "# Plot mean per grid point with pcolormesh\n",
    "\n",
    "\n",
    "# Compute deviations from the mean\n",
    "\n",
    "# Compute the variance\n",
    "\n",
    "# Plot variance per grid point with contourf\n"
   ]
  },
  {
   "cell_type": "markdown",
   "id": "0efbf9a4",
   "metadata": {},
   "source": [
    "> ***Question***\n",
    "> - Plot the variance of the geopotential height on the map. To do so, import `cartopy.crs` and use it to define the `projection` argument of `plt.subplot`, and use the `coastlines` and the `gridlines` method of the axes."
   ]
  },
  {
   "cell_type": "code",
   "execution_count": null,
   "id": "5d59116f",
   "metadata": {},
   "outputs": [],
   "source": [
    "# Import Cartopy's coordinate reference system\n",
    "\n",
    "# Plot variance with costlines and gridlines\n"
   ]
  },
  {
   "cell_type": "markdown",
   "id": "49200bb8",
   "metadata": {},
   "source": [
    "> ***Question***\n",
    "> - Scale the geopotential-height deviations to account for variations in the area represented by each grid point.\n",
    "> - Plot the variance of the scaled geopotential height."
   ]
  },
  {
   "cell_type": "code",
   "execution_count": null,
   "id": "f1c06c53",
   "metadata": {},
   "outputs": [],
   "source": [
    "# Get grid-point area coefficients\n",
    "\n",
    "# Scale height by coefficient\n",
    "\n",
    "# Plot scaled variance with costlines and gridlines\n"
   ]
  },
  {
   "cell_type": "markdown",
   "id": "c60a0856",
   "metadata": {},
   "source": [
    "> ***Question***\n",
    "> - Estimate the covariance matrix of the scaled geopotential height using the `stack` method of data arrays."
   ]
  },
  {
   "cell_type": "code",
   "execution_count": null,
   "id": "5804e32b",
   "metadata": {},
   "outputs": [],
   "source": [
    "# Get input matrix\n",
    "\n",
    "\n",
    "# Estimate covariance matrix\n"
   ]
  },
  {
   "cell_type": "markdown",
   "id": "aff8ccfa",
   "metadata": {},
   "source": [
    "> ***Question***\n",
    "> - Compute EOFs and corresponding variances using `np.linalg.eigh`."
   ]
  },
  {
   "cell_type": "code",
   "execution_count": null,
   "id": "98f93973",
   "metadata": {},
   "outputs": [],
   "source": [
    "# Compute eigenvalues and eigenvectors\n"
   ]
  },
  {
   "cell_type": "markdown",
   "id": "08316f87",
   "metadata": {},
   "source": [
    "> ***Question***\n",
    "> - Sort the EOFs and corresponding variances by decreasing variances.\n",
    "> - Plot the fraction of variance \"explained\" by the leading 20 EOFs.\n",
    "> - Interpret your results."
   ]
  },
  {
   "cell_type": "code",
   "execution_count": null,
   "id": "ec3db56b",
   "metadata": {},
   "outputs": [],
   "source": [
    "# Sort eigenvalues and eigenvectors by decreasing eigenvalues\n",
    "\n",
    "\n",
    "# Convert eigenvalues to explained variance percentage\n",
    "\n",
    "# Plot first 20 explained variances\n"
   ]
  },
  {
   "cell_type": "markdown",
   "id": "fbb7a355",
   "metadata": {},
   "source": [
    "Answer: "
   ]
  },
  {
   "cell_type": "markdown",
   "id": "3e496b32",
   "metadata": {},
   "source": [
    "> ***Question***\n",
    "> - Plot the leading EOF on a map.\n",
    "> - To what physical phenomenon could this pattern be associated to?"
   ]
  },
  {
   "cell_type": "code",
   "execution_count": null,
   "id": "6a6ce597",
   "metadata": {},
   "outputs": [],
   "source": [
    "# Convert first eigenvector to data array\n",
    "\n",
    "# Unstack latitudes and longitudes\n",
    "\n",
    "# Plot first eigenvector\n"
   ]
  },
  {
   "cell_type": "markdown",
   "id": "a587fd47",
   "metadata": {},
   "source": [
    "Answer: "
   ]
  },
  {
   "cell_type": "markdown",
   "id": "d4231e1e",
   "metadata": {},
   "source": [
    "> ***Question***\n",
    "> - Compute the principal component associated with the leading EOF.\n",
    "> - Compare its variance to the corresponding eigenvalue and explain your result.\n",
    "> - Plot this principal component.\n",
    "> - Confirm or reconsider you previous answer on the physical phenomenon that could be associated to the leading EOF."
   ]
  },
  {
   "cell_type": "code",
   "execution_count": null,
   "id": "4522930f",
   "metadata": {},
   "outputs": [],
   "source": [
    "# Compute first principal component\n",
    "\n",
    "# Compare variance of first principal component to corresponding eigenvalue\n",
    "\n",
    "# Plot first principal component\n"
   ]
  },
  {
   "cell_type": "markdown",
   "id": "0032a0f3",
   "metadata": {},
   "source": [
    "Answer: "
   ]
  },
  {
   "cell_type": "markdown",
   "id": "c8b0c834",
   "metadata": {},
   "source": [
    "Answer: "
   ]
  },
  {
   "cell_type": "markdown",
   "id": "c8aa63c5",
   "metadata": {},
   "source": [
    "> ***Question (optional)***\n",
    "> - Use the `scipy.signal.welch` to estimate the Power Spectral Density (PSD) of the leading principal component and plot it.\n",
    "> - Confirm or reconsider you previous answer on the physical phenomenon that could be associated to the leading EOF."
   ]
  },
  {
   "cell_type": "code",
   "execution_count": null,
   "id": "72db9c22",
   "metadata": {},
   "outputs": [],
   "source": [
    "# Import signal module from Scipy\n",
    "\n",
    "# Get PSD from Welch estimator\n",
    "\n",
    "# Plot and give period at maximum in title\n"
   ]
  },
  {
   "cell_type": "markdown",
   "id": "51e358dc",
   "metadata": {},
   "source": [
    "> ***Question***\n",
    "> - Compute the seasonal cycle of the geopotential height (averages over all years of the same month of the year for each month) with the `groupby` of data arrays.\n",
    "> - Plot all 12 months. You can use the `col` option of the `plot` method of data arrays.\n",
    "> - Also plot the variance of the seasonal cycle on a map.\n",
    "> - Confirm or reconsider you previous answer on the physical phenomenon that could be associated to the leading EOF."
   ]
  },
  {
   "cell_type": "code",
   "execution_count": null,
   "id": "f5a80fbe",
   "metadata": {},
   "outputs": [],
   "source": [
    "# Compute monthly seasonal cycle\n",
    "\n",
    "# Get seasonal cycle\n",
    "\n",
    "# Plot each month of seasonal cycle\n",
    "\n",
    "\n",
    "# Plot variance of seasonal cycle\n"
   ]
  },
  {
   "cell_type": "markdown",
   "id": "2bcd566f",
   "metadata": {},
   "source": [
    "Answer: "
   ]
  },
  {
   "cell_type": "markdown",
   "id": "4ee93b5a",
   "metadata": {},
   "source": [
    "> ***Question***\n",
    "> - Compute seasonal anomalies (deviations from the seasonal cycle) of the geopotential height with `groupby`.\n",
    "> - Plot the variance of the seasonal anomalies on a map.\n",
    "> - How does it compare to the variance of the data with the seasonal cycle?"
   ]
  },
  {
   "cell_type": "code",
   "execution_count": null,
   "id": "cf6c753c",
   "metadata": {},
   "outputs": [],
   "source": [
    "# Get seasonal anomalies\n",
    "\n",
    "# Plot variance of the seasonal anomalies on a map\n"
   ]
  },
  {
   "cell_type": "markdown",
   "id": "9f2127ca",
   "metadata": {},
   "source": [
    "Answer:"
   ]
  },
  {
   "cell_type": "markdown",
   "id": "67452dbc",
   "metadata": {},
   "source": [
    "> ***Question***\n",
    "> - Estimate the covariance matrix of the seasonal anomalies.\n",
    "> - Compute the EOFs and corresponding variances.\n",
    "> - Plot the explained variances associated with the EOFs together with the cumulative sum of the explained variances.\n",
    "> - What is the minimum number of EOFs that one needs to keep to explain at least 90% of the variance."
   ]
  },
  {
   "cell_type": "code",
   "execution_count": null,
   "id": "f43017c5",
   "metadata": {},
   "outputs": [],
   "source": [
    "# Get input matrix for seasonal anomalies\n",
    "\n",
    "\n",
    "# Estimate covariance matrix\n"
   ]
  },
  {
   "cell_type": "code",
   "execution_count": null,
   "id": "1e1589d5",
   "metadata": {},
   "outputs": [],
   "source": [
    "# Compute eigenvalues and eigenvectors\n"
   ]
  },
  {
   "cell_type": "code",
   "execution_count": null,
   "id": "e42652ce",
   "metadata": {},
   "outputs": [],
   "source": [
    "# Sort eigenvalues and eigenvectors by decreasing eigenvalues\n",
    "\n",
    "\n",
    "# Convert eigenvalues to explained variance percentage\n",
    "\n",
    "\n",
    "# Plot first 20 explained variances\n"
   ]
  },
  {
   "cell_type": "markdown",
   "id": "79ff7207",
   "metadata": {},
   "source": [
    "Answer:"
   ]
  },
  {
   "cell_type": "markdown",
   "id": "941ac2a3",
   "metadata": {},
   "source": [
    "> ***Question***\n",
    "> - Plot the leading 4 EOFs and principal components.\n",
    "> - Can you associate these patterns to known climate phenomena?"
   ]
  },
  {
   "cell_type": "code",
   "execution_count": null,
   "id": "09376b62",
   "metadata": {
    "scrolled": true
   },
   "outputs": [],
   "source": [
    "# Plot leading EOFs and principal components\n",
    "\n",
    "    \n",
    "# Compute the leading principal components\n",
    "\n",
    "# Plot the leading principal component\n"
   ]
  },
  {
   "cell_type": "markdown",
   "id": "18aa179a",
   "metadata": {},
   "source": [
    "Answer: "
   ]
  },
  {
   "cell_type": "markdown",
   "id": "75add229",
   "metadata": {},
   "source": [
    "> ***Question***\n",
    "> - Reconstruct the inputs from the leading 4 EOFs only.\n",
    "> - Compare the original time series at a few arbitrary locations to the corresponding reconstructed time series.\n",
    "> - Plot the variance of the reconstruction on a map.\n",
    "> - Same question but keeping more EOFs\n",
    "> - Interpret your results in terms of filtering."
   ]
  },
  {
   "cell_type": "code",
   "execution_count": null,
   "id": "5100d092",
   "metadata": {
    "scrolled": true
   },
   "outputs": [],
   "source": [
    "# Reconstruct the data from first 4 principal components\n",
    "\n",
    "\n",
    "# Compare original time series and reconstruction at arbitrary grid points\n",
    "\n",
    "\n",
    "# Convert reconstruction to data array\n",
    "\n",
    "\n",
    "# Unstack latitudes and longitudes\n",
    "\n",
    "\n",
    "# Plot variance of reconstruction on a map\n"
   ]
  },
  {
   "cell_type": "markdown",
   "id": "c04c2fce",
   "metadata": {},
   "source": [
    "Answer: "
   ]
  },
  {
   "cell_type": "markdown",
   "id": "c19f605d",
   "metadata": {},
   "source": [
    "> ***Question (optional)***\n",
    "> - Design a linear model that best predicts present (not future) wind capacity factors in `data/reseaux_energies_capacityfactor_wind-onshore.csv` using geopotential-height principal components as inputs. To do, use cross-validation to regularize based on the number of leading principal components retained."
   ]
  },
  {
   "cell_type": "markdown",
   "id": "da4fe544",
   "metadata": {},
   "source": [
    "> ***Question (optional)***\n",
    "> - Use $k$-means clustering with `sklearn.cluster.KMeans` to detect \"atmospheric regimes\" from the geopotential-height data and compare the result to the EOFs obtained above.\n",
    "> - Design a linear model as above but based on clusters rather than EOFs."
   ]
  },
  {
   "cell_type": "markdown",
   "id": "84153b81",
   "metadata": {},
   "source": [
    "***\n",
    "## Credit\n",
    "\n",
    "[//]: # \"This notebook is part of [E4C Interdisciplinary Center - Education](https://gitlab.in2p3.fr/energy4climate/public/education).\"\n",
    "Contributors include Bruno Deremble and Alexis Tantet.\n",
    "Several slides and images are taken from the very good [Scikit-learn course](https://inria.github.io/scikit-learn-mooc/).\n",
    "\n",
    "<br>\n",
    "\n",
    "<div style=\"display: flex; height: 70px\">\n",
    "    \n",
    "<img alt=\"Logo LMD\" src=\"images/logos/logo_lmd.jpg\" style=\"display: inline-block\"/>\n",
    "\n",
    "<img alt=\"Logo IPSL\" src=\"images/logos/logo_ipsl.png\" style=\"display: inline-block\"/>\n",
    "\n",
    "<img alt=\"Logo E4C\" src=\"images/logos/logo_e4c_final.png\" style=\"display: inline-block\"/>\n",
    "\n",
    "<img alt=\"Logo EP\" src=\"images/logos/logo_ep.png\" style=\"display: inline-block\"/>\n",
    "\n",
    "<img alt=\"Logo SU\" src=\"images/logos/logo_su.png\" style=\"display: inline-block\"/>\n",
    "\n",
    "<img alt=\"Logo ENS\" src=\"images/logos/logo_ens.jpg\" style=\"display: inline-block\"/>\n",
    "\n",
    "<img alt=\"Logo CNRS\" src=\"images/logos/logo_cnrs.png\" style=\"display: inline-block\"/>\n",
    "    \n",
    "</div>\n",
    "\n",
    "<hr>\n",
    "\n",
    "<div style=\"display: flex\">\n",
    "    <a rel=\"license\" href=\"http://creativecommons.org/licenses/by-sa/4.0/\"><img alt=\"Creative Commons License\" style=\"border-width:0; margin-right: 10px\" src=\"https://i.creativecommons.org/l/by-sa/4.0/88x31.png\" /></a>\n",
    "    <br>This work is licensed under a &nbsp; <a rel=\"license\" href=\"http://creativecommons.org/licenses/by-sa/4.0/\">Creative Commons Attribution-ShareAlike 4.0 International License</a>.\n",
    "</div>"
   ]
  }
 ],
 "metadata": {
  "kernelspec": {
   "display_name": "Python 3",
   "language": "python",
   "name": "python3"
  },
  "language_info": {
   "codemirror_mode": {
    "name": "ipython",
    "version": 3
   },
   "file_extension": ".py",
   "mimetype": "text/x-python",
   "name": "python",
   "nbconvert_exporter": "python",
   "pygments_lexer": "ipython3",
   "version": "3.9.0"
  },
  "latex_envs": {
   "LaTeX_envs_menu_present": true,
   "autoclose": true,
   "autocomplete": false,
   "bibliofile": "biblio.bib",
   "cite_by": "apalike",
   "current_citInitial": 1,
   "eqLabelWithNumbers": true,
   "eqNumInitial": 1,
   "hotkeys": {
    "equation": "Ctrl-E",
    "itemize": "Ctrl-I"
   },
   "labels_anchors": false,
   "latex_user_defs": false,
   "report_style_numbering": false,
   "user_envs_cfg": false
  },
  "toc": {
   "base_numbering": 1,
   "nav_menu": {},
   "number_sections": true,
   "sideBar": true,
   "skip_h1_title": false,
   "title_cell": "Table of Contents",
   "title_sidebar": "Contents",
   "toc_cell": false,
   "toc_position": {},
   "toc_section_display": true,
   "toc_window_display": false
  },
  "varInspector": {
   "cols": {
    "lenName": 16,
    "lenType": 16,
    "lenVar": 40
   },
   "kernels_config": {
    "python": {
     "delete_cmd_postfix": "",
     "delete_cmd_prefix": "del ",
     "library": "var_list.py",
     "varRefreshCmd": "print(var_dic_list())"
    },
    "r": {
     "delete_cmd_postfix": ") ",
     "delete_cmd_prefix": "rm(",
     "library": "var_list.r",
     "varRefreshCmd": "cat(var_dic_list()) "
    }
   },
   "types_to_exclude": [
    "module",
    "function",
    "builtin_function_or_method",
    "instance",
    "_Feature"
   ],
   "window_display": false
  }
 },
 "nbformat": 4,
 "nbformat_minor": 5
}
