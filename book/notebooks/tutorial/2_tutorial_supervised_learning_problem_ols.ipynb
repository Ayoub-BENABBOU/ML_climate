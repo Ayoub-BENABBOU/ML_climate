{
 "cells": [
  {
   "cell_type": "markdown",
   "id": "9bc1a928",
   "metadata": {},
   "source": [
    "# Tutorial: Supervised Learning Problem and Least Squares\n",
    "\n",
    "Tutorial to the class [Supervised Learning Problem and Least Squares](2_supervised_learning_problem_ols.ipynb)."
   ]
  },
  {
   "cell_type": "markdown",
   "id": "a9e82f9b",
   "metadata": {},
   "source": [
    "<div class=\"alert alert-block alert-info\">\n",
    "    <b>Tutorial Objectives</b>\n",
    "    \n",
    "- Read, plot and analyze train data\n",
    "- Use supervised learning to predict the regional electricity consumption of France in response electric heating based on temperature data\n",
    "- Test the linear least squares (OLS) model\n",
    "- Evaluate their performance by estimating their Expected Prediction Errors (EPE) using test data\n",
    "</div>"
   ]
  },
  {
   "cell_type": "markdown",
   "id": "083fce0a",
   "metadata": {},
   "source": [
    "## Dataset presentation\n",
    "\n",
    "- Input:\n",
    "  - 2m-temperature\n",
    "    - Domain: Metropolitan France\n",
    "    - Spatial resolution: regional average\n",
    "    - Time resolution: hourly\n",
    "    - Period: 2014-2019\n",
    "    - Units: °C\n",
    "    - Source: [MERRA-2 reanalysis](https://gmao.gsfc.nasa.gov/reanalysis/MERRA-2/)\n",
    "- Target:\n",
    "  - Electricity demand\n",
    "    - Domain: Metropolitan France\n",
    "    - Spatial resolution: regional sum\n",
    "    - Time resolution: hourly\n",
    "    - Period: 2014-2018\n",
    "    - Units: MWh\n",
    "    - Source: [RTE](https://opendata.reseaux-energies.fr/)"
   ]
  },
  {
   "cell_type": "markdown",
   "id": "2ea67a13",
   "metadata": {},
   "source": [
    "## Reading and pre-analysis of the input and output data"
   ]
  },
  {
   "cell_type": "markdown",
   "id": "c36e8f5c",
   "metadata": {},
   "source": [
    "### Import data-analysis and plot modules and define paths"
   ]
  },
  {
   "cell_type": "code",
   "execution_count": 1,
   "id": "f665256a",
   "metadata": {},
   "outputs": [],
   "source": [
    "# Path manipulation module\n",
    "from pathlib import Path\n",
    "# Numerical analysis module\n",
    "import numpy as np\n",
    "# Formatted numerical analysis module\n",
    "import pandas as pd\n",
    "# Plot module\n",
    "import matplotlib.pyplot as plt\n",
    "# Default colors\n",
    "RC_COLORS = plt.rcParams['axes.prop_cycle'].by_key()['color']"
   ]
  },
  {
   "cell_type": "code",
   "execution_count": 2,
   "id": "00db59f1",
   "metadata": {},
   "outputs": [],
   "source": [
    "# Set data directory\n",
    "data_dir = Path('data')\n",
    "\n",
    "# Set keyword arguments for pd.read_csv\n",
    "kwargs_read_csv = dict()\n",
    "\n",
    "# Set first and last years\n",
    "FIRST_YEAR = 2014\n",
    "LAST_YEAR = 2019\n",
    "\n",
    "# Define temperature filepath\n",
    "temp_filename = 'surface_temperature_merra2_{}-{}.csv'.format(\n",
    "    FIRST_YEAR, LAST_YEAR)\n",
    "temp_filepath = Path(data_dir, temp_filename)\n",
    "\n",
    "# Define electricity demand filepath\n",
    "dem_filename = 'reseaux_energies_demand_demand.csv'\n",
    "dem_filepath = Path(data_dir, dem_filename)"
   ]
  },
  {
   "cell_type": "markdown",
   "id": "87097463",
   "metadata": {},
   "source": [
    "### Reading and plotting the raw temperature data"
   ]
  },
  {
   "cell_type": "markdown",
   "id": "349f133c",
   "metadata": {},
   "source": [
    "> ***Question***\n",
    "> - Use `pd.read_csv` with the filepath and appropriate options to make sure to get the column names and the index as dates (`DatetimeIndex`)."
   ]
  },
  {
   "cell_type": "code",
   "execution_count": 3,
   "id": "3e605ef2",
   "metadata": {},
   "outputs": [],
   "source": [
    "# Read hourly temperature data averaged over each region\n",
    "df_temp_hourly = pd.read_csv(temp_filepath, index_col=0, parse_dates=True, header=0)"
   ]
  },
  {
   "cell_type": "markdown",
   "id": "9d266e1f",
   "metadata": {},
   "source": [
    "> ***Question***\n",
    "> - Use the `resample` method from the data frame to compute daily means."
   ]
  },
  {
   "cell_type": "code",
   "execution_count": 4,
   "id": "ad52ddb5",
   "metadata": {},
   "outputs": [],
   "source": [
    "# your code here"
   ]
  },
  {
   "cell_type": "markdown",
   "id": "4799b3da",
   "metadata": {},
   "source": [
    "> ***Question***\n",
    "> - Plot the `'Île-de-France'` daily-mean temperature time series for (a) the whole period, (b) one year, (c) one month in winter and (d) one month in summer on 4 different figures (use `plt.figure`) using `plt.plot` or the `plot` method from data frames (preferably)."
   ]
  },
  {
   "cell_type": "code",
   "execution_count": 5,
   "id": "3afc5fbc",
   "metadata": {},
   "outputs": [],
   "source": [
    "# your code here"
   ]
  },
  {
   "cell_type": "markdown",
   "id": "65bf41ef",
   "metadata": {},
   "source": [
    "> ***Question***\n",
    "> - Use the `mean` and `var` methods to get mean and variance of the daily-mean temperature."
   ]
  },
  {
   "cell_type": "code",
   "execution_count": 6,
   "id": "13f90ec2",
   "metadata": {},
   "outputs": [],
   "source": [
    "# your code here"
   ]
  },
  {
   "cell_type": "markdown",
   "id": "c19747cc",
   "metadata": {},
   "source": [
    "### Reading and plotting the demand data"
   ]
  },
  {
   "cell_type": "markdown",
   "id": "5b376b53",
   "metadata": {},
   "source": [
    "> ***Question***\n",
    "> - Same questions for the **demand** and with **daily sums** instead of daily means"
   ]
  },
  {
   "cell_type": "code",
   "execution_count": 7,
   "id": "f368da6d",
   "metadata": {},
   "outputs": [],
   "source": [
    "# Read hourly demand data averaged over each region\n",
    "df_dem_hourly = pd.read_csv(dem_filepath, index_col=0, header=0, parse_dates=True)"
   ]
  },
  {
   "cell_type": "code",
   "execution_count": 8,
   "id": "6131e9e8",
   "metadata": {},
   "outputs": [],
   "source": [
    "# Get daily-summed demand"
   ]
  },
  {
   "cell_type": "code",
   "execution_count": 9,
   "id": "c7969269",
   "metadata": {},
   "outputs": [],
   "source": [
    "# Select Île-de-France region\n",
    "region_name = 'Île-de-France'"
   ]
  },
  {
   "cell_type": "code",
   "execution_count": 10,
   "id": "7629ba7a",
   "metadata": {},
   "outputs": [],
   "source": [
    "# Plot daily demand time series"
   ]
  },
  {
   "cell_type": "code",
   "execution_count": 11,
   "id": "571cbb34",
   "metadata": {},
   "outputs": [],
   "source": [
    "# Compute mean and variance of daily demerature"
   ]
  },
  {
   "cell_type": "markdown",
   "id": "6a5f17ce",
   "metadata": {},
   "source": [
    "### Analyzing the input and target data and their relationships"
   ]
  },
  {
   "cell_type": "markdown",
   "id": "555ff7b5",
   "metadata": {},
   "source": [
    "> ***Question (write answer in text box below)***\n",
    "> - Describe the seasonality of the temperature in Île-de-France.\n",
    "> - Are all years the same?\n",
    "> - Describe the seasonal and weakly demand patterns."
   ]
  },
  {
   "cell_type": "markdown",
   "id": "9b6e901c",
   "metadata": {},
   "source": [
    "Answer:"
   ]
  },
  {
   "cell_type": "markdown",
   "id": "a8a1ebfc",
   "metadata": {},
   "source": [
    "> ***Question***\n",
    "> - Merge the two DataFrames for their largest common period using the `pd.merge` method.\n",
    "> - Rename the columns to `'temperature'` and `'demand'` with `df.columns = ...`"
   ]
  },
  {
   "cell_type": "code",
   "execution_count": 12,
   "id": "7ddccc23",
   "metadata": {},
   "outputs": [],
   "source": [
    "# your code here"
   ]
  },
  {
   "cell_type": "markdown",
   "id": "36516633",
   "metadata": {},
   "source": [
    "> ***Question***\n",
    "> - Do a scatter plot of the daily demand versus the daily temperature."
   ]
  },
  {
   "cell_type": "code",
   "execution_count": 13,
   "id": "59956615",
   "metadata": {},
   "outputs": [],
   "source": [
    "# your code here"
   ]
  },
  {
   "cell_type": "markdown",
   "id": "35edda21",
   "metadata": {},
   "source": [
    "> ***Question***\n",
    "> - Compute the correlation between the daily temperature and the daily demand in Île-de-France using `np.corrcoef`.\n",
    "> - Compute the correlation between the monthly temperature and the monthly demand using the `resample` method."
   ]
  },
  {
   "cell_type": "code",
   "execution_count": 14,
   "id": "0a0f6f9d",
   "metadata": {},
   "outputs": [],
   "source": [
    "# Correlation between the daily temperature and demand\n",
    "\n",
    "# Correlation between the monthly temperature and demand\n"
   ]
  },
  {
   "cell_type": "markdown",
   "id": "38ff4637",
   "metadata": {},
   "source": [
    "## Ordinary Least Squares"
   ]
  },
  {
   "cell_type": "markdown",
   "id": "ee8530b1",
   "metadata": {},
   "source": [
    "> ***Question***\n",
    "> - Perform an OLS with intercept using the entire dataset from the temperature using the formula for the optimal coefficients derived in [Supervised Learning Problem and Least Squares](2_supervised_learning_problem_ols.ipynb) (without Scikit-Learn). To do so:\n",
    ">   - Prepare the input matrix and output vector with the `np.concatenate` function (for instance);\n",
    ">   - Use the matrix-multiplication operator seen in [Introduction](1_introduction.ipynb) and the `np.linalg.inv` function to compute the optimal coefficients and print them."
   ]
  },
  {
   "cell_type": "code",
   "execution_count": 15,
   "id": "cde14e85",
   "metadata": {},
   "outputs": [],
   "source": [
    "# your code here"
   ]
  },
  {
   "cell_type": "markdown",
   "id": "c1454e67",
   "metadata": {},
   "source": [
    "> ***Question***\n",
    "> - Use the estimated coefficients to predict the target from the input train data."
   ]
  },
  {
   "cell_type": "code",
   "execution_count": 16,
   "id": "09528897",
   "metadata": {},
   "outputs": [],
   "source": [
    "# Predict from the train input data"
   ]
  },
  {
   "cell_type": "markdown",
   "id": "dd0d11ab",
   "metadata": {},
   "source": [
    "> ***Question***\n",
    "> - Overlay your prediction to the scatter plot of the train data."
   ]
  },
  {
   "cell_type": "code",
   "execution_count": 17,
   "id": "7e57aacc",
   "metadata": {},
   "outputs": [],
   "source": [
    "# Plot the prediction on top of the scatter plot of the train data\n"
   ]
  },
  {
   "cell_type": "markdown",
   "id": "17781be6",
   "metadata": {},
   "source": [
    "> ***Question***\n",
    "> - Compute the train Mean Squared Error (MSE) and the train coefficient of determination ($R^2$) and print them."
   ]
  },
  {
   "cell_type": "code",
   "execution_count": 18,
   "id": "637eada7",
   "metadata": {},
   "outputs": [],
   "source": [
    "# Compute the train MSE and R2 and print them"
   ]
  },
  {
   "cell_type": "markdown",
   "id": "499b3fb1",
   "metadata": {},
   "source": [
    "> ***Question***\n",
    "> - Compute the optimal coefficients using centered input temperatures.\n",
    "> - Compute the optimal intercept alone using a single-column input matrix.\n",
    "> - Compare the resulting two estimations of the intercept with the sample mean of the target train data."
   ]
  },
  {
   "cell_type": "code",
   "execution_count": 19,
   "id": "4bf783c5",
   "metadata": {},
   "outputs": [],
   "source": [
    "# your code here"
   ]
  },
  {
   "cell_type": "markdown",
   "id": "e43b4286",
   "metadata": {
    "slideshow": {
     "slide_type": "subslide"
    }
   },
   "source": [
    "### Supervised-Learning with Sciki-learn: Fit and Predict"
   ]
  },
  {
   "cell_type": "markdown",
   "id": "1caf4006",
   "metadata": {
    "slideshow": {
     "slide_type": "subslide"
    }
   },
   "source": [
    "<img alt=\"Pipeline Fit\" src=\"images/api_diagram-predictor.fit.svg\" width=\"500\">"
   ]
  },
  {
   "cell_type": "markdown",
   "id": "fc5b3b74",
   "metadata": {},
   "source": [
    "<img alt=\"Pipeline Fit\" src=\"images/api_diagram-predictor.predict.svg\" width=\"600\">"
   ]
  },
  {
   "cell_type": "markdown",
   "id": "b446f259",
   "metadata": {},
   "source": [
    "### Supervised-Learning Flow: Transform-Fit and Transform-Predict\n",
    "\n",
    "<img alt=\"Pipeline Fit\" src=\"images/api_diagram-pipeline.fit.svg\" width=\"750\">"
   ]
  },
  {
   "cell_type": "markdown",
   "id": "0e5978a2",
   "metadata": {},
   "source": [
    "<img alt=\"Pipeline Fit\" src=\"images/api_diagram-pipeline.predict.svg\" width=\"860\">"
   ]
  },
  {
   "cell_type": "markdown",
   "id": "af1100d4",
   "metadata": {},
   "source": [
    "> ***Question***\n",
    "> - Perform an OLS fit with intercept using the entire dataset to predict the demand from the temperature using Scikit-learn. To do so:\n",
    ">   - Import the `linear_model` module from `sklearn` (Scikit-Learn)\n",
    ">   - Define a regressor using `linear_model.LinearRegression` (by default, the regressor is configured to fit an intercept in addition to the features, see `fit_intercept` option)\n",
    ">   - Prepare the input matrix and output vector for the `fit` method of the regressor\n",
    ">   - Apply the `fit` method to the input and output"
   ]
  },
  {
   "cell_type": "code",
   "execution_count": 20,
   "id": "a7149924",
   "metadata": {
    "code_folding": []
   },
   "outputs": [],
   "source": [
    "# your code here"
   ]
  },
  {
   "cell_type": "markdown",
   "id": "9f1c6ad0",
   "metadata": {},
   "source": [
    "> ***Question***\n",
    "> - Print the fitted coefficients using the `coef_` attribute of the regressor.\n",
    "> - Compute the train $R^2$ coefficient using the `score` method of the regressor.\n",
    "> - Compare the resulting coefficients and score to those obtained above by applying the formulas yourself."
   ]
  },
  {
   "cell_type": "code",
   "execution_count": 21,
   "id": "70700865",
   "metadata": {},
   "outputs": [],
   "source": [
    "# your code here"
   ]
  },
  {
   "cell_type": "markdown",
   "id": "a9159306",
   "metadata": {},
   "source": [
    "Answer: "
   ]
  },
  {
   "cell_type": "markdown",
   "id": "59513617",
   "metadata": {},
   "source": [
    "> ***Question***\n",
    "> - Define and array of 100 temperatures ranging from -5 to 35°C with `np.linspace`.\n",
    "> - Make a prediction of the demand for these temperatures using the trained OLS model with the `predict` method of the regressor.\n",
    "> - Plot this prediction over the scatter plot of the train data.\n",
    "> - Does the demand prediction seem satisfactory over the whole range of temperatures?"
   ]
  },
  {
   "cell_type": "code",
   "execution_count": 22,
   "id": "5d27a60c",
   "metadata": {},
   "outputs": [],
   "source": [
    "#your code here"
   ]
  },
  {
   "cell_type": "markdown",
   "id": "7fe141ec",
   "metadata": {},
   "source": [
    "Answer:"
   ]
  },
  {
   "cell_type": "markdown",
   "id": "fab5ec4a",
   "metadata": {},
   "source": [
    "***\n",
    "## Credit\n",
    "\n",
    "[//]: # \"This notebook is part of [E4C Interdisciplinary Center - Education](https://gitlab.in2p3.fr/energy4climate/public/education).\"\n",
    "Contributors include Bruno Deremble and Alexis Tantet.\n",
    "Several slides and images are taken from the very good [Scikit-learn course](https://inria.github.io/scikit-learn-mooc/).\n",
    "\n",
    "<br>\n",
    "\n",
    "<div style=\"display: flex; height: 70px\">\n",
    "    \n",
    "<img alt=\"Logo LMD\" src=\"images/logos/logo_lmd.jpg\" style=\"display: inline-block\"/>\n",
    "\n",
    "<img alt=\"Logo IPSL\" src=\"images/logos/logo_ipsl.png\" style=\"display: inline-block\"/>\n",
    "\n",
    "<img alt=\"Logo E4C\" src=\"images/logos/logo_e4c_final.png\" style=\"display: inline-block\"/>\n",
    "\n",
    "<img alt=\"Logo EP\" src=\"images/logos/logo_ep.png\" style=\"display: inline-block\"/>\n",
    "\n",
    "<img alt=\"Logo SU\" src=\"images/logos/logo_su.png\" style=\"display: inline-block\"/>\n",
    "\n",
    "<img alt=\"Logo ENS\" src=\"images/logos/logo_ens.jpg\" style=\"display: inline-block\"/>\n",
    "\n",
    "<img alt=\"Logo CNRS\" src=\"images/logos/logo_cnrs.png\" style=\"display: inline-block\"/>\n",
    "    \n",
    "</div>\n",
    "\n",
    "<hr>\n",
    "\n",
    "<div style=\"display: flex\">\n",
    "    <a rel=\"license\" href=\"http://creativecommons.org/licenses/by-sa/4.0/\"><img alt=\"Creative Commons License\" style=\"border-width:0; margin-right: 10px\" src=\"https://i.creativecommons.org/l/by-sa/4.0/88x31.png\" /></a>\n",
    "    <br>This work is licensed under a &nbsp; <a rel=\"license\" href=\"http://creativecommons.org/licenses/by-sa/4.0/\">Creative Commons Attribution-ShareAlike 4.0 International License</a>.\n",
    "</div>"
   ]
  }
 ],
 "metadata": {
  "kernelspec": {
   "display_name": "Python 3 (ipykernel)",
   "language": "python",
   "name": "python3"
  },
  "language_info": {
   "codemirror_mode": {
    "name": "ipython",
    "version": 3
   },
   "file_extension": ".py",
   "mimetype": "text/x-python",
   "name": "python",
   "nbconvert_exporter": "python",
   "pygments_lexer": "ipython3",
   "version": "3.9.7"
  },
  "latex_envs": {
   "LaTeX_envs_menu_present": true,
   "autoclose": true,
   "autocomplete": false,
   "bibliofile": "biblio.bib",
   "cite_by": "apalike",
   "current_citInitial": 1,
   "eqLabelWithNumbers": true,
   "eqNumInitial": 1,
   "hotkeys": {
    "equation": "Ctrl-E",
    "itemize": "Ctrl-I"
   },
   "labels_anchors": false,
   "latex_user_defs": false,
   "report_style_numbering": false,
   "user_envs_cfg": false
  },
  "toc": {
   "base_numbering": 1,
   "nav_menu": {},
   "number_sections": true,
   "sideBar": true,
   "skip_h1_title": false,
   "title_cell": "Table of Contents",
   "title_sidebar": "Contents",
   "toc_cell": false,
   "toc_position": {},
   "toc_section_display": true,
   "toc_window_display": false
  },
  "varInspector": {
   "cols": {
    "lenName": 16,
    "lenType": 16,
    "lenVar": 40
   },
   "kernels_config": {
    "python": {
     "delete_cmd_postfix": "",
     "delete_cmd_prefix": "del ",
     "library": "var_list.py",
     "varRefreshCmd": "print(var_dic_list())"
    },
    "r": {
     "delete_cmd_postfix": ") ",
     "delete_cmd_prefix": "rm(",
     "library": "var_list.r",
     "varRefreshCmd": "cat(var_dic_list()) "
    }
   },
   "types_to_exclude": [
    "module",
    "function",
    "builtin_function_or_method",
    "instance",
    "_Feature"
   ],
   "window_display": false
  }
 },
 "nbformat": 4,
 "nbformat_minor": 5
}
