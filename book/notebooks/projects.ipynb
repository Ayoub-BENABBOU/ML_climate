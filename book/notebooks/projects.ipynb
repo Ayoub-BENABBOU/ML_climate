{
 "cells": [
  {
   "cell_type": "markdown",
   "id": "f1ae401f",
   "metadata": {},
   "source": [
    "# Projects\n",
    "\n",
    "[![Binder](https://mybinder.org/badge_logo.svg)](https://mybinder.org/v2/git/https%3A%2F%2Fgitlab.in2p3.fr%2Fenergy4climate%2Fpublic%2Feducation%2Fmachine_learning_for_climate_and_energy/master?filepath=book%2Fnotebooks%2Fprojects.ipynb)"
   ]
  },
  {
   "cell_type": "markdown",
   "id": "03d41164",
   "metadata": {},
   "source": [
    "<div class=\"alert alert-block alert-warning\">\n",
    "    <b>Schedule</b>\n",
    "    \n",
    "- Quick presentation: Nov 8th.\n",
    "- Final project presentation: December 13th.\n",
    "    \n",
    "</div>"
   ]
  },
  {
   "cell_type": "markdown",
   "id": "01b8a8b3",
   "metadata": {},
   "source": [
    "<div class=\"alert alert-block alert-info\">\n",
    "    <b>One problematic, One dataset, One (or more) method(s)</b>\n",
    "    \n",
    "- Quality of the dataset is key\n",
    "- Results on a clean notebook\n",
    "- Explain which method(s) you used and why.\n",
    "- If a method fails, explain why\n",
    "\n",
    "</div>"
   ]
  },
  {
   "cell_type": "markdown",
   "id": "07706200",
   "metadata": {},
   "source": [
    "You are free to choose the project you like. You just need to have a good data set and a good question. Here are 3 suggestions if you lack inspiration. "
   ]
  },
  {
   "cell_type": "markdown",
   "id": "2b8c80cd",
   "metadata": {},
   "source": [
    "## Variable Renewable Energy (VRE) assessment and forecast\n",
    "\n",
    "### Project objectives\n",
    "<div class=\"alert alert-block alert-info\">\n",
    "\n",
    "- Assess the onshore wind or solar photovoltaic hourly production over in metropolitan France regions using climate data and capacity factor observations.\n",
    "- Predict the VRE power ahead of time.\n",
    "</div>"
   ]
  },
  {
   "cell_type": "markdown",
   "id": "d3baec81",
   "metadata": {},
   "source": [
    "### Dataset\n",
    "\n",
    "- Observed monthly VRE capacity factors averaged over metropolitan France regions from 2014 to 2019\n",
    "- Climate variables of your choice from a global reanalysis with an hourly sampling"
   ]
  },
  {
   "cell_type": "markdown",
   "id": "4d2bea79",
   "metadata": {},
   "source": [
    "### First steps\n",
    "\n",
    "- Choose from solar or wind power\n",
    "- Read about solar/wind production assessment and forecast\n",
    "- Estimate the hourly solar/wind production"
   ]
  },
  {
   "cell_type": "markdown",
   "id": "a82270bd",
   "metadata": {},
   "source": [
    "### Reading the data"
   ]
  },
  {
   "cell_type": "code",
   "execution_count": null,
   "id": "8cf0b653",
   "metadata": {
    "scrolled": true
   },
   "outputs": [],
   "source": [
    "from pathlib import Path\n",
    "import matplotlib.pyplot as plt\n",
    "import pandas as pd\n",
    "import xarray as xr\n",
    "\n",
    "# Directories where you saved the data\n",
    "data_dir_energy = Path('../../../data/projects/energy_france')\n",
    "data_dir_climate = Path('../../../data/projects/climate_france')\n",
    "                        \n",
    "# Template filenames\n",
    "filename_mask = 'mask_datagouv_french_regions_merra2_Nx_France.nc'\n",
    "filename_climate = 'merra2_area_selection_output_{}_merra2_2010-2019.nc'\n",
    "filename_energy = 'reseaux_energies_{}.csv'\n",
    "\n",
    "# Read and plot grid point-region mask\n",
    "filepath_mask = Path(data_dir_climate, filename_mask)\n",
    "ds_mask = xr.load_dataset(filepath_mask)\n",
    "da_mask = ds_mask['mask']\n",
    "plt.figure()\n",
    "plt.scatter(da_mask['lon'], da_mask['lat'], c=da_mask, cmap='Set1')\n",
    "\n",
    "# Read a climate variable and plot its mean over time\n",
    "variable_name = 'zonal_wind'\n",
    "filename = filename_climate.format(variable_name)\n",
    "filepath = Path(data_dir_climate, filename)\n",
    "da_climate = xr.load_dataset(filepath)[variable_name]\n",
    "plt.figure()\n",
    "plt.scatter(da_mask['lon'], da_mask['lat'], c=da_climate.mean('time'))\n",
    "\n",
    "# Compute regional mean of climate variable and plot time series\n",
    "da_climate_reg = da_climate.groupby(da_mask).mean().rename(mask='region')\n",
    "da_climate_reg['region'] = ds_mask['region'].values\n",
    "plt.figure()\n",
    "da_climate_reg.plot.line(x='time')\n",
    "\n",
    "# Read energy variable and plot time series\n",
    "variable_name = 'capacityfactor_wind-onshore'\n",
    "filename = filename_energy.format(variable_name)\n",
    "filepath = Path(data_dir_energy, filename)\n",
    "df_energy = pd.read_csv(filepath, index_col=0, header=0, parse_dates=True)\n",
    "plt.figure()\n",
    "df_energy.plot()"
   ]
  },
  {
   "cell_type": "markdown",
   "id": "1aeff45a",
   "metadata": {},
   "source": [
    "## Project: Forecast of El Nino"
   ]
  },
  {
   "cell_type": "markdown",
   "id": "ab176eaa",
   "metadata": {},
   "source": [
    "<img alt=\"weather\" src=\"images/ENSO-normal.png\" width=400 style=\"float:left\">\n",
    "<img alt=\"weather\" src=\"images/ENSO-El_Nino.png\" width=400 style=\"float:right\">"
   ]
  },
  {
   "cell_type": "markdown",
   "id": "4b8d917d",
   "metadata": {},
   "source": [
    "- Natural mode of variability of the pacific equatorial ocean\n",
    "- Big impact on the local economy\n",
    "- Question: What is the predictability of El Nino?"
   ]
  },
  {
   "cell_type": "markdown",
   "id": "10dce157",
   "metadata": {},
   "source": [
    "### Data set\n",
    "\n",
    "<img alt=\"weather\" src=\"images/monthly-sst-lanina-normal-elnino.png\" width=400>\n",
    "\n",
    "- Variable: Global sea surface temperature (SST)\n",
    "- Temporal resolution: monthly mean\n",
    "- Spatial resolution: 1 degree$\\times$1 degree"
   ]
  },
  {
   "cell_type": "markdown",
   "id": "607ec8da",
   "metadata": {},
   "source": [
    "### First steps\n",
    "\n",
    "- Read about El nino\n",
    "- Characterize El nino: i.e. introduce a classifier\n",
    "- What does it mean ``to make a prediction''?"
   ]
  },
  {
   "cell_type": "code",
   "execution_count": null,
   "id": "0a507322",
   "metadata": {},
   "outputs": [],
   "source": [
    "from pathlib import Path\n",
    "import matplotlib.pyplot as plt\n",
    "import xarray as xr\n",
    "import cartopy.crs as ccrs\n",
    "\n",
    "dir0 = Path('../../../data/el_nino/')\n",
    "file_sst = 'sst.mnmean.nc'\n",
    "\n",
    "# load the data set with xarray\n",
    "ds = xr.open_dataset(Path(dir0, file_sst))\n",
    "\n",
    "# the name of the variable is 'sst'\n",
    "p = ds[\"sst\"].isel(time=0).plot.contourf(levels=20, center=False,\n",
    "                                         subplot_kws=dict(projection=ccrs.Orthographic(-150, 0), facecolor=\"gray\"),\n",
    "                                         transform=ccrs.PlateCarree())\n",
    "p.axes.coastlines()\n",
    "gl = p.axes.gridlines(draw_labels=True)\n",
    "gl.top_labels = False\n",
    "gl.right_labels = False"
   ]
  },
  {
   "cell_type": "markdown",
   "id": "b309f16e",
   "metadata": {},
   "source": [
    "## Project: Weather station"
   ]
  },
  {
   "cell_type": "markdown",
   "id": "912d896e",
   "metadata": {},
   "source": [
    "<img alt=\"weather\" src=\"images/map.png\" width=400>"
   ]
  },
  {
   "cell_type": "markdown",
   "id": "2372e364",
   "metadata": {},
   "source": [
    "- Suppose there are 5 weather stations that monitor the weather: Paris, Brest, London, Marseille and Berlin.\n",
    "- The weather station in Paris breaks down\n",
    "- Can we use the other stations to infer the weather in Paris"
   ]
  },
  {
   "cell_type": "markdown",
   "id": "66ae5a0d",
   "metadata": {},
   "source": [
    "### Data set\n",
    "\n",
    "<img alt=\"weather\" src=\"images/annual_temperature.png\" width=400>\n",
    "\n",
    "- Surface variables: skt, u10, v10, t2m, d2m, tcc, sp, tp, ssrd, blh\n",
    "- Temporal resolution: hourly\n",
    "- Spatial resolution: N/A"
   ]
  },
  {
   "cell_type": "markdown",
   "id": "73ad9743",
   "metadata": {},
   "source": [
    "### First steps\n",
    "\n",
    "- Look at the correlations between variables.\n",
    "- What variable do I want to predict\n",
    "- What time scale am interested in?\n",
    "- Start with the easy predictions and move on to harder ones\n",
    "- Are there events that are more predictable than others?"
   ]
  },
  {
   "cell_type": "code",
   "execution_count": null,
   "id": "da094902",
   "metadata": {},
   "outputs": [],
   "source": [
    "from pathlib import Path\n",
    "import pandas as pd\n",
    "import xarray as xr\n",
    "\n",
    "dir0 = Path('../../../data/weather/paris/')\n",
    "file_t2m = 't2m.nc'\n",
    "\n",
    "ds = xr.open_dataset(Path(dir0, file_t2m))\n",
    "\n",
    "# convert to pandas dataframe\n",
    "df = ds.to_dataframe()\n",
    "\n",
    "# remove latitude and longitude indices\n",
    "df = df.droplevel([0,1])\n",
    "\n",
    "df[df.index.year==2000].plot()"
   ]
  },
  {
   "cell_type": "markdown",
   "id": "ad79471d",
   "metadata": {},
   "source": [
    "***\n",
    "## Credit\n",
    "\n",
    "[//]: # \"This notebook is part of [E4C Interdisciplinary Center - Education](https://gitlab.in2p3.fr/energy4climate/public/education).\"\n",
    "Contributors include Bruno Deremble and Alexis Tantet.\n",
    "Several slides and images are taken from the very good [Scikit-learn course](https://inria.github.io/scikit-learn-mooc/).\n",
    "\n",
    "<br>\n",
    "\n",
    "<div style=\"display: flex; height: 70px\">\n",
    "    \n",
    "<img alt=\"Logo LMD\" src=\"images/logos/logo_lmd.jpg\" style=\"display: inline-block\"/>\n",
    "\n",
    "<img alt=\"Logo IPSL\" src=\"images/logos/logo_ipsl.png\" style=\"display: inline-block\"/>\n",
    "\n",
    "<img alt=\"Logo E4C\" src=\"images/logos/logo_e4c_final.png\" style=\"display: inline-block\"/>\n",
    "\n",
    "<img alt=\"Logo EP\" src=\"images/logos/logo_ep.png\" style=\"display: inline-block\"/>\n",
    "\n",
    "<img alt=\"Logo SU\" src=\"images/logos/logo_su.png\" style=\"display: inline-block\"/>\n",
    "\n",
    "<img alt=\"Logo ENS\" src=\"images/logos/logo_ens.jpg\" style=\"display: inline-block\"/>\n",
    "\n",
    "<img alt=\"Logo CNRS\" src=\"images/logos/logo_cnrs.png\" style=\"display: inline-block\"/>\n",
    "    \n",
    "</div>\n",
    "\n",
    "<hr>\n",
    "\n",
    "<div style=\"display: flex\">\n",
    "    <a rel=\"license\" href=\"http://creativecommons.org/licenses/by-sa/4.0/\"><img alt=\"Creative Commons License\" style=\"border-width:0; margin-right: 10px\" src=\"https://i.creativecommons.org/l/by-sa/4.0/88x31.png\" /></a>\n",
    "    <br>This work is licensed under a &nbsp; <a rel=\"license\" href=\"http://creativecommons.org/licenses/by-sa/4.0/\">Creative Commons Attribution-ShareAlike 4.0 International License</a>.\n",
    "</div>"
   ]
  }
 ],
 "metadata": {
  "kernelspec": {
   "display_name": "Python 3 (ipykernel)",
   "language": "python",
   "name": "python3"
  },
  "language_info": {
   "codemirror_mode": {
    "name": "ipython",
    "version": 3
   },
   "file_extension": ".py",
   "mimetype": "text/x-python",
   "name": "python",
   "nbconvert_exporter": "python",
   "pygments_lexer": "ipython3",
   "version": "3.9.7"
  },
  "latex_envs": {
   "LaTeX_envs_menu_present": true,
   "autoclose": true,
   "autocomplete": false,
   "bibliofile": "biblio.bib",
   "cite_by": "apalike",
   "current_citInitial": 1,
   "eqLabelWithNumbers": true,
   "eqNumInitial": 1,
   "hotkeys": {
    "equation": "Ctrl-E",
    "itemize": "Ctrl-I"
   },
   "labels_anchors": false,
   "latex_user_defs": false,
   "report_style_numbering": false,
   "user_envs_cfg": false
  },
  "toc": {
   "base_numbering": 1,
   "nav_menu": {},
   "number_sections": true,
   "sideBar": true,
   "skip_h1_title": false,
   "title_cell": "Table of Contents",
   "title_sidebar": "Contents",
   "toc_cell": false,
   "toc_position": {},
   "toc_section_display": true,
   "toc_window_display": false
  },
  "varInspector": {
   "cols": {
    "lenName": 16,
    "lenType": 16,
    "lenVar": 40
   },
   "kernels_config": {
    "python": {
     "delete_cmd_postfix": "",
     "delete_cmd_prefix": "del ",
     "library": "var_list.py",
     "varRefreshCmd": "print(var_dic_list())"
    },
    "r": {
     "delete_cmd_postfix": ") ",
     "delete_cmd_prefix": "rm(",
     "library": "var_list.r",
     "varRefreshCmd": "cat(var_dic_list()) "
    }
   },
   "types_to_exclude": [
    "module",
    "function",
    "builtin_function_or_method",
    "instance",
    "_Feature"
   ],
   "window_display": false
  }
 },
 "nbformat": 4,
 "nbformat_minor": 5
}
