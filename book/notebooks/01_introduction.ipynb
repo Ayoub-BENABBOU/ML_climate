{
 "cells": [
  {
   "cell_type": "markdown",
   "id": "5eb8c31b",
   "metadata": {
    "slideshow": {
     "slide_type": "slide"
    }
   },
   "source": [
    "# Introduction\n",
    "\n",
    "[![Binder](https://mybinder.org/badge_logo.svg)](https://mybinder.org/v2/git/https%3A%2F%2Fgitlab.in2p3.fr%2Fenergy4climate%2Fpublic%2Feducation%2Fmachine_learning_for_climate_and_energy/master?filepath=book%2Fnotebooks%2F01_introduction.ipynb)"
   ]
  },
  {
   "cell_type": "markdown",
   "id": "3a485dc1",
   "metadata": {
    "slideshow": {
     "slide_type": "subslide"
    }
   },
   "source": [
    "<div class=\"alert alert-block alert-warning\">\n",
    "    <b>Prerequisites</b>\n",
    "    \n",
    "- Basics in linear algebra and calculus\n",
    "- Basics in python\n",
    "\n",
    "</div>"
   ]
  },
  {
   "cell_type": "markdown",
   "id": "8790b2ae",
   "metadata": {
    "slideshow": {
     "slide_type": "subslide"
    }
   },
   "source": [
    "<div class=\"alert alert-block alert-info\">\n",
    "    <b>Learning Outcomes</b>\n",
    "    \n",
    "- Definitions: bias, variance, irreducible error, underfitting, overfitting, classification\n",
    "- Data manipulation in python: numpy, matplotlib, pandas\n",
    "- First steps with scikit-learn\n",
    "\n",
    "</div>"
   ]
  },
  {
   "cell_type": "markdown",
   "id": "4593b779",
   "metadata": {
    "slideshow": {
     "slide_type": "slide"
    }
   },
   "source": [
    "## The IPCC report\n",
    "\n",
    "<img alt=\"AR6\" src=\"images/ar6_cover.jpeg\" width=200 style=\"float:center\">\n",
    "\n",
    "\n",
    "The working group 1 (WG1) of the Intergovernmental Panel on Climate Change (IPCC) is a group of scientists who assess and quantify climate change. In order to provide an accurate description of the future climate, they use numerical models also known as Climate Model Intercomparison Project (CMIP)."
   ]
  },
  {
   "cell_type": "markdown",
   "id": "542bb6fb",
   "metadata": {
    "slideshow": {
     "slide_type": "subslide"
    }
   },
   "source": [
    "- There are many components in a climate model: the main parts are the ocean and the atmosphere which predict the evolution of both media on predefined grid points. In order to get an accurate prediction of the CO2 concentration, one also need to have a proper model for living ecosystems and biogeochemical cycles. In polar regions there are specific models for ice sheets and sea ice.\n",
    "\n",
    "- There are several scenarios (Shared Socioeconomic Pathways) ranging from very optimistic (SS1: sustainability) to (very) pessimistic (SS5: Fossil fuel development)\n",
    "\n",
    "- In CMIP6, there are over 100 full blown models that attempt to propose the most reliable forecast for each of these scenarios [Balaji et. al (2018)](https://gmd.copernicus.org/articles/11/3659/2018/gmd-11-3659-2018.pdf)"
   ]
  },
  {
   "cell_type": "markdown",
   "id": "b07ee337",
   "metadata": {
    "slideshow": {
     "slide_type": "subslide"
    }
   },
   "source": [
    "Dealing with all model output is not a sinecure. Thousands of scientists collaborated to share their data, produce consistent diagnostics and plot an overview of what all these models are telling us. The main point of doing this is to **reduce the uncertainty**. It is indeed very important to know:\n",
    "- how much of global warming has human origins (understand the climate system)\n",
    "- if tipping points will be crossed in 2030 or 2050 in order to best anticipate the changes (do predictions)."
   ]
  },
  {
   "cell_type": "markdown",
   "id": "771b2078",
   "metadata": {
    "slideshow": {
     "slide_type": "subslide"
    }
   },
   "source": [
    "\n",
    "<img alt=\"warming\" src=\"images/warming_origin.png\" width=800 style=\"float:center\">\n",
    "\n",
    "Figure SPM2 ([IPCC repport](https://www.ipcc.ch/report/ar6/wg1/downloads/report/IPCC_AR6_WGI_SPM.pdf))"
   ]
  },
  {
   "cell_type": "raw",
   "id": "97337d84",
   "metadata": {
    "slideshow": {
     "slide_type": "subslide"
    }
   },
   "source": [
    "The figure above is a summary of the causes of the 1 degree temperature change since the industrial revolution. In this problem, there is one **output variable** (global temperature) and many **input variables** (CO2, methane, etc...). We sometimes call the input variable the independant variables and the output variable the dependant variable as the latter is function of the input variables.\n",
    "\n",
    "The problem highlighted in the figure corresponds to a typical machine learning problem where we try to find a function that maps the input variables onto the output variables."
   ]
  },
  {
   "cell_type": "markdown",
   "id": "5e8dbe7a",
   "metadata": {
    "slideshow": {
     "slide_type": "subslide"
    }
   },
   "source": [
    "> ***Question***\n",
    "> - How much data was produced to construct this repport?\n",
    "\n",
    "We will try to get a proxy for the amount of data produced with the number of pages in this report. Below is a plot with the number of pages for each Assesment Report (AR) between 1990 and 2013. I added the *[Charney Report (1979)](https://en.wikipedia.org/wiki/Jule_Gregory_Charney#Charney_Report)* which is considered a precursor to the IPCC reports"
   ]
  },
  {
   "cell_type": "code",
   "execution_count": 1,
   "id": "a500edd8",
   "metadata": {
    "slideshow": {
     "slide_type": "subslide"
    }
   },
   "outputs": [],
   "source": [
    "import numpy as np\n",
    "import matplotlib.pyplot as plt"
   ]
  },
  {
   "cell_type": "code",
   "execution_count": 2,
   "id": "687da52c",
   "metadata": {
    "scrolled": true,
    "slideshow": {
     "slide_type": "subslide"
    }
   },
   "outputs": [
    {
     "data": {
      "text/plain": [
       "Text(0, 0.5, '# of pages')"
      ]
     },
     "execution_count": 2,
     "metadata": {},
     "output_type": "execute_result"
    },
    {
     "data": {
      "image/png": "[encoded data removed]",
      "text/plain": [
       "<Figure size 432x288 with 1 Axes>"
      ]
     },
     "metadata": {
      "needs_background": "light"
     },
     "output_type": "display_data"
    }
   ],
   "source": [
    "years = np.array([1979, 1990,1995,2001,2007,2013])\n",
    "pages = np.array([30, 414, 588, 893, 1007, 1552])\n",
    "\n",
    "plt.plot(years,pages,'o')\n",
    "\n",
    "plt.xticks(years,years)\n",
    "plt.xlabel(\"Year\")\n",
    "plt.ylabel(\"# of pages\")"
   ]
  },
  {
   "cell_type": "markdown",
   "id": "324bd796",
   "metadata": {
    "slideshow": {
     "slide_type": "subslide"
    }
   },
   "source": [
    "The number of pages is steadily increasing for each Assesment Report. This is consistent with the way global models evolved over time. This is also consistent with the increase of the spatial resolution: we have indeed more data to assess the regionality of climate change. Let's try to fit a linear model to see if we can predict the number of pages of the AR6 report (2021).\n",
    "\n",
    "The idea of linear regression is that we suppose that there exist a linear relationship between the year of the Assesment Report and the number of pages\n",
    "\n",
    "\\begin{equation}\n",
    "y = \\alpha x + \\beta\\, ,\n",
    "\\end{equation}\n",
    "with $y$ the number of pages and $x$ the year. $\\alpha$ is called the **regression coefficient** and $\\beta$ is called the **intercept**. In the next chapter, we are going to study linear regression and see how we can find $\\alpha$ and $\\beta$."
   ]
  },
  {
   "cell_type": "markdown",
   "id": "1414500e",
   "metadata": {
    "slideshow": {
     "slide_type": "subslide"
    }
   },
   "source": [
    "Although linear regression seem extremely simple, it is still regarded as the model of **maximum interpretability**. In fact, the sign and the magnitude of $\\alpha$ tell you how $y$ varies with $x$ in an unambiguous way and you can easily confront this result to your physical intuition.\n",
    "\n",
    "Latter on, we will study neural networks with millions of parameters which may give a better prediction for $y$ but it is often the case that we don't know why.\n",
    "\n",
    "Needless to say that it is important to try **simple methods first** before going to more complicated algorithms... Even if simple models are sometimes [too simple](https://en.wikipedia.org/wiki/Anscombe%27s_quartet)."
   ]
  },
  {
   "cell_type": "code",
   "execution_count": 3,
   "id": "3d445d2f",
   "metadata": {
    "slideshow": {
     "slide_type": "subslide"
    }
   },
   "outputs": [
    {
     "name": "stdout",
     "output_type": "stream",
     "text": [
      "According to the linear fit, there should be 1741 pages in the AR6 report\n"
     ]
    },
    {
     "data": {
      "image/png": "[encoded data removed]",
      "text/plain": [
       "<Figure size 432x288 with 1 Axes>"
      ]
     },
     "metadata": {
      "needs_background": "light"
     },
     "output_type": "display_data"
    }
   ],
   "source": [
    "\n",
    "#linear regression with numpy\n",
    "A = np.vstack([years, np.ones(len(years))]).T\n",
    "m, c = np.linalg.lstsq(A, pages, rcond=None)[0]\n",
    "\n",
    "plt.plot(years,pages,'o')\n",
    "\n",
    "# add AR6 report\n",
    "years = np.append(years, [2021])\n",
    "pages = np.append(pages, [3949])\n",
    "\n",
    "plt.plot(years, m*years + c, 'r', label='Fitted line')\n",
    "plt.xticks(years,years)\n",
    "\n",
    "plt.text(2021,m*2021 + c,\"?\", size=20)\n",
    "plt.plot(years[-1],pages[-1],'or')\n",
    "print(\"According to the linear fit, there should be {0:.0f} pages in the AR6 report\".format(m*2021 + c))"
   ]
  },
  {
   "cell_type": "markdown",
   "id": "9f1e3065",
   "metadata": {
    "slideshow": {
     "slide_type": "subslide"
    }
   },
   "source": [
    "In fact there are 3949 pages in AR6.\n",
    "> ***Question***\n",
    "> - What could have possibly gone wrong in our estimate of the number of pages for 2021?"
   ]
  },
  {
   "cell_type": "markdown",
   "id": "6b700fff",
   "metadata": {
    "slideshow": {
     "slide_type": "subslide"
    }
   },
   "source": [
    "In this problem we have one input variable (year) and one output variable (number of pages). Of course, there could have been more input variables to get a more accurate prediction.\n",
    "\n",
    "> ***Question***\n",
    "> - Propose several other input variables one could use to get a better estimate for the number of pages in the IPCC report.\n",
    "\n"
   ]
  },
  {
   "cell_type": "markdown",
   "id": "f3f29867",
   "metadata": {
    "slideshow": {
     "slide_type": "subslide"
    }
   },
   "source": [
    "Let us write the input variables with the letter $X$ and the output variable with the letter $Y$.\n",
    "Moreover, there are multiple observations of each input variable. We will gather all the observations of all input variables in a matrix $\\mathbf X$ with $n$ rows (for each observation) and $p$ columns (for each type of variable):\n",
    "\n",
    "\\begin{align}\n",
    " \\mathbf{X} &= \\begin{bmatrix}\n",
    "    x_{11} & x_{12} & \\cdots & x_{1p}\\\\\n",
    "    x_{21} & x_{22} & \\cdots & x_{2p}\\\\\n",
    "    \\vdots & \\vdots &        & \\vdots\\\\\n",
    "    x_{n1} & x_{n2} & \\cdots & x_{np}\\\\\n",
    "  \\end{bmatrix}\n",
    "\\end{align}"
   ]
  },
  {
   "cell_type": "markdown",
   "id": "1ba418b3",
   "metadata": {
    "slideshow": {
     "slide_type": "subslide"
    }
   },
   "source": [
    "For now we restrict our analysis to problems where there is a single output variable.\n",
    "\n",
    "> ***Question***\n",
    "> - With this convention, is this output variable a row vector or a column vector?"
   ]
  },
  {
   "cell_type": "markdown",
   "id": "3514238a",
   "metadata": {
    "slideshow": {
     "slide_type": "subslide"
    }
   },
   "source": [
    "In machine learning problems, the task is to propose an estimate of the function that predict the output variable based on the known input variables. This is based on our intuition that there *is* a relationship between the input and output variables in the form of\n",
    "\n",
    "\\begin{equation}\n",
    "Y = f (X) + \\epsilon\\, ,\n",
    "\\end{equation}\n",
    "with $f$ the function that we will try to guess and $\\epsilon$ is an **Irreducible error** that can have multiple origins.\n",
    "\n",
    "> ***Questions***\n",
    "> - Give several sources of errors for the problem we are considering\n",
    "> - If you consider enough input variables, can you get rid of $\\epsilon$?"
   ]
  },
  {
   "cell_type": "markdown",
   "id": "5db3c34a",
   "metadata": {
    "slideshow": {
     "slide_type": "subslide"
    }
   },
   "source": [
    "The above equation is the *ground truth*, however we usually don't know $f$. Our task is to propose an estimate of $f$ based on the sample observation that we have.  Because our observations are limited, we can only approximate $f$: we will denote this approximate function with a *hat* and write our prediction as\n",
    "\n",
    "\\begin{equation}\n",
    "\\hat Y = \\hat f(X)\n",
    "\\end{equation}\n",
    "\n",
    "Note that this equation is **deterministic**: there is no random noise in the right hand side. In fact, because we want to provide the best estimate, there is no need to add noise in the prediction: that would necessarily give a worse prediction for $Y$ (cf. next chapter)"
   ]
  },
  {
   "cell_type": "markdown",
   "id": "01ae7f39",
   "metadata": {
    "slideshow": {
     "slide_type": "subslide"
    }
   },
   "source": [
    "We can then use $\\hat f$ to\n",
    "- make predictions\n",
    "- understand the relationship between input and output variables\n",
    "\n",
    "These two objectives are at the heart of machine learning techniques."
   ]
  },
  {
   "cell_type": "markdown",
   "id": "1bbaa171",
   "metadata": {
    "slideshow": {
     "slide_type": "slide"
    }
   },
   "source": [
    "### Types of errors"
   ]
  },
  {
   "cell_type": "markdown",
   "id": "36a28e68",
   "metadata": {
    "slideshow": {
     "slide_type": "subslide"
    }
   },
   "source": [
    "<div class=\"alert alert-block alert-success\">\n",
    "    \n",
    "The notion of prediction is key in machine learning. Consider the following example: suppose we want to understand the dynamics of the atmospheric boundary layer and more precisely characterize the amount of turbulence based as a function of height and mean wind field. We are going to set up a field campain and do measurements. At the observation site, we will we will place a couple of sensors at different heights, do measurements for a month and then go back to the lab and analyze the data. Based on this data set, we will propose a law\n",
    "\n",
    "\\begin{equation}\n",
    "\\hat T = \\hat f(z,|u|)\\, ,\n",
    "\\end{equation}\n",
    "where $T$ is a scalar that indicates how turbulent the flow is. We can then use this function $\\hat f$ to parameterize unresolved processes in climate model\n",
    "    \n",
    "</div>"
   ]
  },
  {
   "cell_type": "markdown",
   "id": "b045f7e7",
   "metadata": {
    "slideshow": {
     "slide_type": "subslide"
    }
   },
   "source": [
    "> ***Question***\n",
    "> \n",
    "> - How do we know that $\\hat f$ is the correct fit? \n",
    "> - If we do a second field campain and take more measurements, will we get a new estimate for $\\hat f$?\n",
    "> - What if we use more precise instruments to do the measurements?\n"
   ]
  },
  {
   "cell_type": "markdown",
   "id": "4b100936",
   "metadata": {
    "slideshow": {
     "slide_type": "subslide"
    }
   },
   "source": [
    "So the function $\\hat f$ is not perfect. One way to quantify the uncertainty on $\\hat f$ is to divide the data set in a ***training data set*** and a ***testing data set***. We use the training data set to compute $\\hat f$ and with the help of a metric, we can give a score to that $\\hat f$ to compute how well it performs to reproduce the output variable. Example of such metric is the squared error\n",
    "\n",
    "\\begin{equation}\n",
    "L = E(Y-\\hat Y)^2\n",
    "\\end{equation}"
   ]
  },
  {
   "cell_type": "markdown",
   "id": "c1bb0475",
   "metadata": {
    "slideshow": {
     "slide_type": "subslide"
    }
   },
   "source": [
    "Then to validate the model, we compute the same score on the testing data set. If the score is the same than for the training data set, then the model is not specific to the training data set and can be generalized to more data. If the score is (significantly) higher, then that means the model is ***overfitting*** the data. In the exemple below, we propose to fit the data with the [Cubic Spline](https://en.wikipedia.org/wiki/Spline_(mathematics)). The score of the fit on the traning data is excellent because the error on each point is zero. However, we have a feel that the model will perform poorly on the testing data: it is overfitting the data. We will prove this in the next chapter. "
   ]
  },
  {
   "cell_type": "code",
   "execution_count": 6,
   "id": "6b88b360",
   "metadata": {
    "slideshow": {
     "slide_type": "subslide"
    }
   },
   "outputs": [
    {
     "data": {
      "text/plain": [
       "<matplotlib.legend.Legend at 0x7f353b145eb0>"
      ]
     },
     "execution_count": 6,
     "metadata": {},
     "output_type": "execute_result"
    },
    {
     "data": {
      "image/png": "[encoded data removed]",
      "text/plain": [
       "<Figure size 432x288 with 1 Axes>"
      ]
     },
     "metadata": {
      "needs_background": "light"
     },
     "output_type": "display_data"
    }
   ],
   "source": [
    "from scipy.interpolate import CubicSpline\n",
    "nx = 50\n",
    "\n",
    "x = np.linspace(0,1,nx)\n",
    "y = x**2 + 0.3*(np.random.rand(nx) - 0.5)\n",
    "\n",
    "cs = CubicSpline(x,y,bc_type='natural')\n",
    "\n",
    "xp = np.linspace(0,1,500)\n",
    "\n",
    "plt.figure()\n",
    "plt.plot(x,y,'k+', label='Sample data')\n",
    "plt.plot(xp, cs(xp), 'r', label='Spline Fit')\n",
    "\n",
    "plt.legend()\n"
   ]
  },
  {
   "cell_type": "markdown",
   "id": "cb80a875",
   "metadata": {
    "slideshow": {
     "slide_type": "subslide"
    }
   },
   "source": [
    "To measure how much the model is overfitting the data we introduce the ***Variance error***: a model with high variance is overfitting the data."
   ]
  },
  {
   "cell_type": "markdown",
   "id": "22ed69e6",
   "metadata": {
    "slideshow": {
     "slide_type": "subslide"
    }
   },
   "source": [
    "On the other hand, if the model we are trying to fit does not have enough degrees of freedom, there is a risk that we are ***underfitting*** the data, which is characterized by the ***Bias error***. We say a model is biased when it is not able to capture the correct relationship between features and target output. In the exemple below, we are trying to fit a constant where the relationship betwenn the input and output variables is in fact quadratic. The model is biased because there will always be an offset in the prediction of the output variable.\n"
   ]
  },
  {
   "cell_type": "code",
   "execution_count": 5,
   "id": "a6b66603",
   "metadata": {
    "slideshow": {
     "slide_type": "subslide"
    }
   },
   "outputs": [
    {
     "data": {
      "text/plain": [
       "<matplotlib.legend.Legend at 0x7fe96dbfd370>"
      ]
     },
     "execution_count": 5,
     "metadata": {},
     "output_type": "execute_result"
    },
    {
     "data": {
      "image/png": "[encoded data removed]",
      "text/plain": [
       "<Figure size 432x288 with 1 Axes>"
      ]
     },
     "metadata": {
      "needs_background": "light"
     },
     "output_type": "display_data"
    }
   ],
   "source": [
    "nx = 50\n",
    "\n",
    "x = np.linspace(0,1,nx)\n",
    "y = x**2 + 0.3*(np.random.rand(nx) - 0.5)\n",
    "\n",
    "y_me = np.mean(y)\n",
    "\n",
    "plt.figure()\n",
    "plt.plot(x,y,'k+', label='Sample data')\n",
    "plt.plot(x, 0*x + y_me, 'r', label='Constant fit')\n",
    "plt.legend()"
   ]
  },
  {
   "cell_type": "markdown",
   "id": "965ce740",
   "metadata": {
    "slideshow": {
     "slide_type": "subslide"
    }
   },
   "source": [
    "The last type of error we are going to deal with is the ***Irreducible error***. This error corresponds to the random numbers that we added in the example above. You may see this error as the precision of your instrument or as missing physics in your model. This can be due to chaotic perturbation of your system. This type of error is not predictable."
   ]
  },
  {
   "cell_type": "markdown",
   "id": "ee025b26",
   "metadata": {
    "slideshow": {
     "slide_type": "subslide"
    }
   },
   "source": [
    "<div class=\"alert alert-block alert-info\">\n",
    "    <b>Summary</b>\n",
    "    \n",
    "- There are 3 types of errors: Bias, Variance and Irreducible errors. Our goal will be to find model that have both the lowest bias and lowest variance.\n",
    "</div>"
   ]
  },
  {
   "cell_type": "markdown",
   "id": "af51313f",
   "metadata": {
    "slideshow": {
     "slide_type": "slide"
    }
   },
   "source": [
    "## Introduction to classification"
   ]
  },
  {
   "cell_type": "markdown",
   "id": "30009a39",
   "metadata": {
    "slideshow": {
     "slide_type": "subslide"
    }
   },
   "source": [
    "Weather, clouds, seasons, wind, hurricane... Categories and classifications are everywhere in environmental sciences. They can be articifially created based on thresholds (as in the hurricane exemple below) or they can correspond to trully **discrete variable** (e.g. \"It's raining, it's not raining\").\n",
    "\n",
    "\n",
    "<img alt=\"saphir\" src=\"images/saphir_scale.png\" width=400 style=\"float:center\">\n"
   ]
  },
  {
   "cell_type": "code",
   "execution_count": null,
   "id": "1b1f3d96",
   "metadata": {},
   "outputs": [],
   "source": []
  },
  {
   "cell_type": "markdown",
   "id": "70fd2be7",
   "metadata": {
    "slideshow": {
     "slide_type": "subslide"
    }
   },
   "source": [
    "To use proper terminology, we say that categorical variables are **qualitative** (can be described with words) whereas variables that reflect a notion of magnitude are **quantitative** (can be measured).\n",
    "\n",
    "In the exemple above, you can describe with words what a hurricane of category 3 is. However, you cannot describe what a wind of 100 km/h is."
   ]
  },
  {
   "cell_type": "markdown",
   "id": "f79aaaf1",
   "metadata": {},
   "source": [
    "### Bayes decision boundary\n",
    "\n",
    "Consider the following problem: we want to propose a classification rain/no rain that is function of the pressure predictor. From our observations, we have an estimate of the [probability density function](https://en.wikipedia.org/wiki/Probability_density_function) of pressure for the rainy days and dry days. We plot these pdfs in blue (rain) and in red (no rain) in next figure."
   ]
  },
  {
   "cell_type": "code",
   "execution_count": 6,
   "id": "9c251fcb",
   "metadata": {
    "slideshow": {
     "slide_type": "subslide"
    }
   },
   "outputs": [
    {
     "data": {
      "text/plain": [
       "<matplotlib.legend.Legend at 0x7fe96db7b580>"
      ]
     },
     "execution_count": 6,
     "metadata": {},
     "output_type": "execute_result"
    },
    {
     "data": {
      "image/png": "[encoded data removed]",
      "text/plain": [
       "<Figure size 432x288 with 1 Axes>"
      ]
     },
     "metadata": {
      "needs_background": "light"
     },
     "output_type": "display_data"
    }
   ],
   "source": [
    "# figure inspired from https://www.astroml.org/book_figures/chapter9/fig_bayes_DB.html\n",
    "def gaussian(x, mu, sigma):\n",
    "  return 1/(np.sqrt(2*np.pi)*sigma)*np.exp(-((x - mu)/sigma)**2/2)\n",
    "\n",
    "pressure = np.linspace(-5,10,1000) # pressure distribution (fake units)\n",
    "\n",
    "p_rain = 0.3  # probability that it is raining\n",
    "p_norain = 1 - p_rain # probability that it is not raining\n",
    "\n",
    "pdf_rain   = p_rain*gaussian(pressure,-1,1)\n",
    "pdf_norain = p_norain*gaussian(pressure,2,2)\n",
    "\n",
    "pressure_bayes = pressure[np.where(pdf_rain > pdf_norain)][-1]\n",
    "\n",
    "plt.plot(pressure,pdf_rain, 'b', label='pdf_rain')\n",
    "plt.plot(pressure,pdf_norain, 'r', label='pdf_norain')\n",
    "plt.plot([pressure_bayes, pressure_bayes], [0,0.15], 'k--')\n",
    "\n",
    "plt.xlabel('Pressure (fake units)')\n",
    "plt.legend()"
   ]
  },
  {
   "cell_type": "markdown",
   "id": "881baacb",
   "metadata": {
    "slideshow": {
     "slide_type": "subslide"
    }
   },
   "source": [
    "In this figure, we see that when $Pressure < 0$, it is more likely to be raining and when $Pressure > 0$, it is more likely to be a sunny day. The threshold $Pressure = 0$ is called the **Bayes decision boundary**. It correspond to the pressure $p_0$ such that\n",
    "\n",
    "\\begin{equation}\n",
    "P(r = 1|pressure = p_0) = P(r = 0|pressure = p_0)\\, ,\n",
    "\\end{equation}\n",
    "with $r$ a variable that is 1 when it is raining and 0 otherwise.\n",
    "\n",
    "The Bayes classifier proposes to assign to the category $r=1$ all days for which $Pressure < p_0$ and to $r=0$ all the other days."
   ]
  },
  {
   "cell_type": "markdown",
   "id": "54ae00f0",
   "metadata": {
    "slideshow": {
     "slide_type": "subslide"
    }
   },
   "source": [
    "Note however that all days for which $Pressure < p_0$ are not necessarily rainy days we will make errors if we adopt this classification because as we have seen in the figure above, there are sunny days for which $Pressure < p_0$. We can measure the error by computing\n",
    "\n",
    "\\begin{equation}\n",
    "L = \\sum_{i} \\delta(r_i \\ne \\hat r_i)\\, ,\n",
    "\\end{equation}\n",
    "where the sum is over all our observations, $\\hat r_i$ is our predicted value of the rain, and $\\delta(r_i \\ne \\hat r_i)$ is a function that equals 1 for misclassified data and 0 otherwise.\n",
    "\n",
    "**The Bayes classifier is the classifier that minimizes the error $L$.**\n",
    "\n",
    "... However, to compute the Bayes classifier, we need to know the *true* pdf of the occurence of our categories."
   ]
  },
  {
   "cell_type": "markdown",
   "id": "25056c24",
   "metadata": {
    "slideshow": {
     "slide_type": "subslide"
    }
   },
   "source": [
    "<div class=\"alert alert-block alert-info\">\n",
    "    <b>Definitions</b>\n",
    "    \n",
    "- [**Supervised learning**](https://en.wikipedia.org/wiki/Supervised_learning) is the machine learning task of learning a function that maps an input to an output based on example input-output pairs (labelled data set). The key aspect of supervised learning is that there exists a training data set with labelled data.\n",
    "- on the other hand, [**Unsupervised learning**](https://en.wikipedia.org/wiki/Unsupervised_learning) corresponds to the problem of guessing patterns in an unlabelled data set\n",
    "\n",
    "</div>"
   ]
  },
  {
   "cell_type": "markdown",
   "id": "5e186998",
   "metadata": {
    "slideshow": {
     "slide_type": "slide"
    }
   },
   "source": [
    "***\n",
    "## Credit\n",
    "\n",
    "[//]: # \"This notebook is part of [E4C Interdisciplinary Center - Education](https://gitlab.in2p3.fr/energy4climate/public/education).\"\n",
    "Contributors include Bruno Deremble and Alexis Tantet.\n",
    "\n",
    "<br>\n",
    "\n",
    "<div style=\"display: flex; height: 70px\">\n",
    "    \n",
    "<img alt=\"Logo LMD\" src=\"images/logos/logo_lmd.jpg\" style=\"display: inline-block\"/>\n",
    "\n",
    "<img alt=\"Logo IPSL\" src=\"images/logos/logo_ipsl.png\" style=\"display: inline-block\"/>\n",
    "\n",
    "<img alt=\"Logo E4C\" src=\"images/logos/logo_e4c_final.png\" style=\"display: inline-block\"/>\n",
    "\n",
    "<img alt=\"Logo EP\" src=\"images/logos/logo_ep.png\" style=\"display: inline-block\"/>\n",
    "\n",
    "<img alt=\"Logo SU\" src=\"images/logos/logo_su.png\" style=\"display: inline-block\"/>\n",
    "\n",
    "<img alt=\"Logo ENS\" src=\"images/logos/logo_ens.jpg\" style=\"display: inline-block\"/>\n",
    "\n",
    "<img alt=\"Logo CNRS\" src=\"images/logos/logo_cnrs.png\" style=\"display: inline-block\"/>\n",
    "    \n",
    "</div>\n",
    "\n",
    "<hr>\n",
    "\n",
    "<div style=\"display: flex\">\n",
    "    <a rel=\"license\" href=\"http://creativecommons.org/licenses/by-sa/4.0/\"><img alt=\"Creative Commons License\" style=\"border-width:0; margin-right: 10px\" src=\"https://i.creativecommons.org/l/by-sa/4.0/88x31.png\" /></a>\n",
    "    <br>This work is licensed under a &nbsp; <a rel=\"license\" href=\"http://creativecommons.org/licenses/by-sa/4.0/\">Creative Commons Attribution-ShareAlike 4.0 International License</a>.\n",
    "</div>"
   ]
  }
 ],
 "metadata": {
  "celltoolbar": "Slideshow",
  "kernelspec": {
   "display_name": "Python 3",
   "language": "python",
   "name": "python3"
  },
  "language_info": {
   "codemirror_mode": {
    "name": "ipython",
    "version": 3
   },
   "file_extension": ".py",
   "mimetype": "text/x-python",
   "name": "python",
   "nbconvert_exporter": "python",
   "pygments_lexer": "ipython3",
   "version": "3.9.12"
  },
  "latex_envs": {
   "LaTeX_envs_menu_present": true,
   "autoclose": true,
   "autocomplete": false,
   "bibliofile": "biblio.bib",
   "cite_by": "apalike",
   "current_citInitial": 1,
   "eqLabelWithNumbers": true,
   "eqNumInitial": 1,
   "hotkeys": {
    "equation": "Ctrl-E",
    "itemize": "Ctrl-I"
   },
   "labels_anchors": false,
   "latex_user_defs": false,
   "report_style_numbering": false,
   "user_envs_cfg": false
  },
  "toc": {
   "base_numbering": 1,
   "nav_menu": {},
   "number_sections": true,
   "sideBar": true,
   "skip_h1_title": false,
   "title_cell": "Table of Contents",
   "title_sidebar": "Contents",
   "toc_cell": false,
   "toc_position": {},
   "toc_section_display": true,
   "toc_window_display": false
  },
  "varInspector": {
   "cols": {
    "lenName": 16,
    "lenType": 16,
    "lenVar": 40
   },
   "kernels_config": {
    "python": {
     "delete_cmd_postfix": "",
     "delete_cmd_prefix": "del ",
     "library": "var_list.py",
     "varRefreshCmd": "print(var_dic_list())"
    },
    "r": {
     "delete_cmd_postfix": ") ",
     "delete_cmd_prefix": "rm(",
     "library": "var_list.r",
     "varRefreshCmd": "cat(var_dic_list()) "
    }
   },
   "types_to_exclude": [
    "module",
    "function",
    "builtin_function_or_method",
    "instance",
    "_Feature"
   ],
   "window_display": false
  }
 },
 "nbformat": 4,
 "nbformat_minor": 5
}
