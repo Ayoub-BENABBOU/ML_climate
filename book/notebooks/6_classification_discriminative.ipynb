{
 "cells": [
  {
   "cell_type": "markdown",
   "id": "5eb8c31b",
   "metadata": {
    "slideshow": {
     "slide_type": "slide"
    }
   },
   "source": [
    "# Classification II: Discriminative models\n"
   ]
  },
  {
   "cell_type": "markdown",
   "id": "3a485dc1",
   "metadata": {
    "slideshow": {
     "slide_type": "subslide"
    }
   },
   "source": [
    "<div class=\"alert alert-block alert-warning\">\n",
    "    <b>Prerequisites</b>\n",
    "    \n",
    "- Generative models\n",
    "- Vector and matrix derivative\n",
    "\n",
    "</div>"
   ]
  },
  {
   "cell_type": "markdown",
   "id": "8790b2ae",
   "metadata": {
    "slideshow": {
     "slide_type": "subslide"
    }
   },
   "source": [
    "<div class=\"alert alert-block alert-info\">\n",
    "    <b>Learning Outcomes</b>\n",
    "    \n",
    "- Logistic regression    \n",
    "- Dimension reduction: Fisher Linear discriminant analysis (F-LDA)\n",
    "\n",
    "</div>"
   ]
  },
  {
   "cell_type": "markdown",
   "id": "a3977d30",
   "metadata": {
    "slideshow": {
     "slide_type": "slide"
    }
   },
   "source": [
    "## Discriminative models"
   ]
  },
  {
   "cell_type": "markdown",
   "id": "2ed5ab39",
   "metadata": {
    "slideshow": {
     "slide_type": "subslide"
    }
   },
   "source": [
    "In the previous notebook, we used Bayes' theorem to invert the problem: we focused on the pdf of the observations for each class (generative approach).\n",
    "\n",
    "In the present notebook we will try to directly estimate the probability of a point $\\mathbf x$ to belong to class $C$: $p(C|\\mathbf x)$. If we know this probability for all classes, we can then assign an observation to the class that has the maximum probability. This approach is called the *discriminative approach*."
   ]
  },
  {
   "cell_type": "markdown",
   "id": "7222bbdb",
   "metadata": {
    "slideshow": {
     "slide_type": "subslide"
    }
   },
   "source": [
    "### Logistic regression"
   ]
  },
  {
   "cell_type": "markdown",
   "id": "525594f5",
   "metadata": {
    "slideshow": {
     "slide_type": "subslide"
    }
   },
   "source": [
    "Let us consider a simple problem with only 2 classes $C=0$ and $C=1$ and 1 dimension ($x$). In such problem, we have\n",
    "\n",
    "\\begin{equation}\n",
    "p(C=0|x) = 1- p(C=1|x)\n",
    "\\end{equation}\n",
    "\n",
    "so we will only consider the probability $y(x) = p(C=1|x)$."
   ]
  },
  {
   "cell_type": "markdown",
   "id": "89adca52",
   "metadata": {
    "slideshow": {
     "slide_type": "subslide"
    }
   },
   "source": [
    "If we know $y(x)$, we can assign a class to each observation\n",
    "\n",
    "\\begin{equation}\n",
    "C= \n",
    "\\begin{cases}\n",
    "1 \\quad \\rm{if} \\quad y(x) >0.5\\\\\n",
    "0 \\quad \\rm{if} \\quad y(x) \\le 0.5\n",
    "\\end{cases}\n",
    "\\end{equation}"
   ]
  },
  {
   "cell_type": "markdown",
   "id": "a6a1858e",
   "metadata": {
    "slideshow": {
     "slide_type": "subslide"
    }
   },
   "source": [
    "To illustrate the methodology, we will consider the problem for which we are trying to predict whether or not it is a rainy day. We assign a tag 1 for rainy days  and 0 for dry days. \n",
    "\n",
    "Since these categories are numerical values, one could very well perform a standard linear regression using the tag as the output variable and the surface pressure a input variable. The figure below illustrates this approach with the ordinary least square method."
   ]
  },
  {
   "cell_type": "code",
   "execution_count": 1,
   "id": "a65dca53",
   "metadata": {
    "slideshow": {
     "slide_type": "subslide"
    }
   },
   "outputs": [],
   "source": [
    "import matplotlib.pyplot as plt\n",
    "import numpy as np\n",
    "import pandas as pd"
   ]
  },
  {
   "cell_type": "code",
   "execution_count": 2,
   "id": "dc7520d5",
   "metadata": {
    "slideshow": {
     "slide_type": "subslide"
    }
   },
   "outputs": [],
   "source": [
    "# load data\n",
    "df = pd.read_csv(\"data/era5_paris_sf_2000_2009.csv\", index_col='time', parse_dates=True)\n",
    "# normalize\n",
    "df_norm = (df - df.mean()) /df.std()\n",
    "# resample with daily values\n",
    "df_day = df_norm[['tp', 'sp', 't2m']].resample(\"D\").mean()\n",
    "\n",
    "# assign tag \n",
    "precip_th = -0.2 # normalized threshold\n",
    "df_day['tag'] = df_day['tp'].where(df_day['tp']> precip_th, 0)\n",
    "df_day['tag'] = df_day['tag'].where(df_day['tp']<= precip_th, 1)"
   ]
  },
  {
   "cell_type": "code",
   "execution_count": 3,
   "id": "df2765f6",
   "metadata": {
    "slideshow": {
     "slide_type": "subslide"
    }
   },
   "outputs": [
    {
     "data": {
      "text/plain": [
       "LinearRegression()"
      ]
     },
     "execution_count": 3,
     "metadata": {},
     "output_type": "execute_result"
    }
   ],
   "source": [
    "from sklearn import linear_model\n",
    "\n",
    "# fit linear regression\n",
    "ols = linear_model.LinearRegression()\n",
    "ols.fit(df_day[['sp']], df_day['tag'])"
   ]
  },
  {
   "cell_type": "code",
   "execution_count": 4,
   "id": "4d7f031a",
   "metadata": {
    "slideshow": {
     "slide_type": "subslide"
    }
   },
   "outputs": [
    {
     "data": {
      "text/plain": [
       "Text(0, 0.5, 'Rain tag')"
      ]
     },
     "execution_count": 4,
     "metadata": {},
     "output_type": "execute_result"
    },
    {
     "data": {
      "image/png": "[encoded data removed]",
      "text/plain": [
       "<Figure size 432x288 with 1 Axes>"
      ]
     },
     "metadata": {
      "needs_background": "light"
     },
     "output_type": "display_data"
    }
   ],
   "source": [
    "sp_test = np.linspace(-4, 3, 300)\n",
    "plt.plot(sp_test, ols.coef_ * sp_test + ols.intercept_, 'r', linewidth=3)\n",
    "plt.plot(df_day['sp'], df_day['tag'], '.')\n",
    "plt.axhline(.5, linestyle='--', color='.5')\n",
    "plt.axvline((.5-ols.intercept_)/ols.coef_ , linestyle='--', color='.5')\n",
    "plt.xlabel('Normalize pressure')\n",
    "plt.ylabel('Rain tag')"
   ]
  },
  {
   "cell_type": "markdown",
   "id": "082a03d5",
   "metadata": {
    "slideshow": {
     "slide_type": "subslide"
    }
   },
   "source": [
    "The fit that we obtain is not too bad: there seem to be a tendency for low pressure days to be rainy and high pressure days to be dry. We can use the threshold $y<0.5$ to assign points to the raining category."
   ]
  },
  {
   "cell_type": "markdown",
   "id": "5bab9c2b",
   "metadata": {
    "slideshow": {
     "slide_type": "subslide"
    }
   },
   "source": [
    "This is not fully satisfactory however because $y(x)$ is not restricted to take values between 0 and 1 and so $y$ is not a probability. In order to address this problem, we are going to fit a non-linear function of $x$ called the sigmoid:\n",
    "\n",
    "\\begin{equation}\n",
    "y(x) = \\frac{1}{1 + e^{-x}}\n",
    "\\end{equation}"
   ]
  },
  {
   "cell_type": "markdown",
   "id": "93ec2ebf",
   "metadata": {
    "slideshow": {
     "slide_type": "subslide"
    }
   },
   "source": [
    "> ***Question***\n",
    "> - Check that for any $x$, $0 < y(x) < 1$.\n",
    "> - For which value of $x$ do we have $y(x) = 0.5$. How would you change that that threshold\n",
    "> - How could you control the strength of the transition $y\\simeq 0$ to $y\\simeq 1$"
   ]
  },
  {
   "cell_type": "markdown",
   "id": "ba1544e4",
   "metadata": {
    "slideshow": {
     "slide_type": "subslide"
    }
   },
   "source": [
    "Hence, $y(x)$ can be interpreted as a probability associated to the observation $x$. To make it more generic, we introduce the parameters $\\alpha$ and $\\beta$ and try to maximize the probability $y(\\alpha x + \\beta)$ of being in the actual class of the observation $x$.\n",
    "\n",
    "Because this function is non-linear, we no longer have an analytical solution. We need a non-linear solver to find $\\alpha$ and $\\beta$. Below is an example on the same data set as above."
   ]
  },
  {
   "cell_type": "code",
   "execution_count": 5,
   "id": "b66dfd16",
   "metadata": {
    "slideshow": {
     "slide_type": "subslide"
    }
   },
   "outputs": [],
   "source": [
    "def sigmoid(x):                                        \n",
    "    return 1 / (1 + np.exp(-x))"
   ]
  },
  {
   "cell_type": "code",
   "execution_count": 6,
   "id": "08127934",
   "metadata": {
    "slideshow": {
     "slide_type": "subslide"
    }
   },
   "outputs": [
    {
     "data": {
      "text/plain": [
       "Text(0, 0.5, 'Rain tag')"
      ]
     },
     "execution_count": 6,
     "metadata": {},
     "output_type": "execute_result"
    },
    {
     "data": {
      "image/png": "[encoded data removed]",
      "text/plain": [
       "<Figure size 432x288 with 1 Axes>"
      ]
     },
     "metadata": {
      "needs_background": "light"
     },
     "output_type": "display_data"
    }
   ],
   "source": [
    "clf = linear_model.LogisticRegression()\n",
    "clf.fit(df_day[['sp']], df_day['tag'])\n",
    "\n",
    "loss = sigmoid(sp_test*clf.coef_[0,:] +clf.intercept_)\n",
    "\n",
    "plt.plot( sp_test, loss, color='red', linewidth=3)\n",
    "plt.plot(df_day['sp'], df_day['tag'], '.')\n",
    "plt.axhline(.5, linestyle='--', color='.5')\n",
    "plt.axvline((.5-ols.intercept_)/ols.coef_ , linestyle='--', color='.5')\n",
    "plt.xlabel('Normalize pressure')\n",
    "plt.ylabel('Rain tag')"
   ]
  },
  {
   "cell_type": "markdown",
   "id": "127ee6e7",
   "metadata": {
    "slideshow": {
     "slide_type": "subslide"
    }
   },
   "source": [
    "Note that the threshold $y=0.5$ is actually close to the value we got with simple linear regression. However we can now assign a true probability for the \"rain\" event given an observation of the pressure. That probability depends on the distance of the observed pressure to the threshold pressure. The variation of this probability depends on the magnitude of $\\beta$: for small values of $\\beta$, we have a smooth transition between classes whereas for large values of beta, we will have a sharp transition."
   ]
  },
  {
   "cell_type": "markdown",
   "id": "45e6c937",
   "metadata": {
    "slideshow": {
     "slide_type": "subslide"
    }
   },
   "source": [
    "Note that the sigmoid function has many interesting properties. For instance we can invert this function to get\n",
    "\n",
    "\\begin{equation}\n",
    "x = \\ln\\frac{y}{1 -y}\n",
    "\\end{equation}\n",
    "\n",
    "where $x$ is now the logarithm of the odds. This function $x(y)$ is called the *logit* function."
   ]
  },
  {
   "cell_type": "markdown",
   "id": "54c2b539",
   "metadata": {
    "slideshow": {
     "slide_type": "subslide"
    }
   },
   "source": [
    "Another property is that the derivative of the sigmoid is easy to compute:\n",
    "\n",
    "\\begin{equation}\n",
    "\\frac{dy}{dx} = y(1-y)\n",
    "\\end{equation}\n",
    "\n",
    "We will use this property when we will study neural networks."
   ]
  },
  {
   "cell_type": "markdown",
   "id": "9ce40622",
   "metadata": {
    "slideshow": {
     "slide_type": "subslide"
    }
   },
   "source": [
    "#### Generalization to multiple classes\n",
    "\n",
    "The example above is relatively straightforward because there are only two classes and we actually took advantage of it when we happily mixed the class identifier and the probability. We can no longer do that when we consider more than two classes. In the multiple class problem the logistic function can be generalized to\n",
    "\n",
    "\\begin{equation}\n",
    "p(C=k|\\mathbf x) = y_k(\\mathbf x) = \\frac{\\exp (\\mathbf w_k^\\top \\mathbf x) }{\\sum_i \\exp (\\mathbf w_i^\\top \\mathbf x)}\n",
    "\\end{equation}\n",
    "\n",
    "where $\\mathbf w_i$ are $p+1$ dimensional vectors ($p$ features + 1 threshold) which play the same role as $\\alpha$ and $\\beta$ in the previous example. As before we can use a non linear solver to find the numerical values of the $\\mathbf w_i$."
   ]
  },
  {
   "cell_type": "markdown",
   "id": "115f1405",
   "metadata": {
    "slideshow": {
     "slide_type": "subslide"
    }
   },
   "source": [
    "#### Conclusion on logistic regression\n",
    "\n",
    "Logistic is powerful strategy that does not make any assumption about the distribution of the data in the input space. It provides a probability of belonging to a class. The major drawback of the logistic regression is that, by design, we suppose that there is a linear relationship between the log odds of the output variable and the input variables. This is problematic of course when this relation does not hold..."
   ]
  },
  {
   "cell_type": "markdown",
   "id": "c046dcdb",
   "metadata": {
    "slideshow": {
     "slide_type": "subslide"
    }
   },
   "source": [
    "### Fisher Linear Discriminant Analysis"
   ]
  },
  {
   "cell_type": "markdown",
   "id": "77b6c852",
   "metadata": {
    "slideshow": {
     "slide_type": "subslide"
    }
   },
   "source": [
    "We have not considered problems with input space of high dimension yet. However, this is often the case that the dimension of the input space is such that it is impossible to visualize the classes. \n",
    "\n",
    "\n",
    "Fisher Linear Discriminant Analysis (F-LDA) offers a framework to tackle this problem. This methodology proposed to project the data set into a reduced number of dimension that is best suited to visualize the classes. This dimension reduction method is not only useful for data visualization: it is also a tool to shrink the size of a data set. \n",
    "\n",
    "The other popular tool for dimension reduction is *Principal Component Analysis (PCA)* and we will study the latter in the *unsupervised learning* tutorial"
   ]
  },
  {
   "cell_type": "markdown",
   "id": "e988b60f",
   "metadata": {
    "slideshow": {
     "slide_type": "subslide"
    }
   },
   "source": [
    "To illustrate our point, we are going to use a 2-dimensional data set with two classes $C_1$ and $C_2$. At the end, we will make sure that the strategy we develop can be generalized to higher dimension an a higher number of clusters."
   ]
  },
  {
   "cell_type": "code",
   "execution_count": 7,
   "id": "277fee0d",
   "metadata": {
    "slideshow": {
     "slide_type": "subslide"
    }
   },
   "outputs": [
    {
     "data": {
      "text/plain": [
       "Text(0, 0.5, '$x_2$')"
      ]
     },
     "execution_count": 7,
     "metadata": {},
     "output_type": "execute_result"
    },
    {
     "data": {
      "image/png": "[encoded data removed]",
      "text/plain": [
       "<Figure size 432x288 with 1 Axes>"
      ]
     },
     "metadata": {
      "needs_background": "light"
     },
     "output_type": "display_data"
    }
   ],
   "source": [
    "N = 1000\n",
    "theta = np.pi/6\n",
    "\n",
    "mu_1 = np.array([-5,0])\n",
    "mu_2 = np.array([5,0])\n",
    "\n",
    "sigma_v = np.array([10,1])\n",
    "Rw = np.array([[np.cos(theta), -np.sin(theta)],[np.sin(theta), np.cos(theta)]])\n",
    "Cv = np.diag(sigma_v**2)\n",
    "Cw = Rw@Cv@Rw.T\n",
    "\n",
    "z1 = np.random.multivariate_normal(mu_1,Cw, N)\n",
    "z2 = np.random.multivariate_normal(mu_2,Cw, N)\n",
    "\n",
    "plt.figure()\n",
    "plt.scatter(z1[:,0],z1[:,1], s=2, c='k', alpha=0.3)\n",
    "plt.scatter(z2[:,0],z2[:,1], s=2, c='k', alpha=0.3)\n",
    "plt.xlabel(r'$x_1$')\n",
    "plt.ylabel(r'$x_2$')"
   ]
  },
  {
   "cell_type": "markdown",
   "id": "84a062a0",
   "metadata": {
    "slideshow": {
     "slide_type": "subslide"
    }
   },
   "source": [
    "In the example above, we have observations from two distinct and well separated classes. They are indeed well separated because, you can 'by eye' draw the boundaries of these classes. If we now plot a histogram of this data set projected on each dimension $x_1$ and $x_2$, we get the following plot."
   ]
  },
  {
   "cell_type": "code",
   "execution_count": 8,
   "id": "468bcb52",
   "metadata": {
    "slideshow": {
     "slide_type": "subslide"
    }
   },
   "outputs": [
    {
     "data": {
      "text/plain": [
       "Text(0.5, 0, '$x_2$')"
      ]
     },
     "execution_count": 8,
     "metadata": {},
     "output_type": "execute_result"
    },
    {
     "data": {
      "image/png": "[encoded data removed]",
      "text/plain": [
       "<Figure size 432x288 with 1 Axes>"
      ]
     },
     "metadata": {
      "needs_background": "light"
     },
     "output_type": "display_data"
    },
    {
     "data": {
      "image/png": "[encoded data removed]",
      "text/plain": [
       "<Figure size 432x288 with 1 Axes>"
      ]
     },
     "metadata": {
      "needs_background": "light"
     },
     "output_type": "display_data"
    }
   ],
   "source": [
    "ztot = np.concatenate((z1,z2),0)\n",
    "\n",
    "plt.figure()\n",
    "h1 = plt.hist(ztot[:,0],20, density=True)\n",
    "plt.xlabel(r'$x_1$')\n",
    "\n",
    "plt.figure()\n",
    "h2 = plt.hist(ztot[:,1],20, density=True)\n",
    "plt.xlabel(r'$x_2$')"
   ]
  },
  {
   "cell_type": "markdown",
   "id": "2774cf4b",
   "metadata": {
    "slideshow": {
     "slide_type": "subslide"
    }
   },
   "source": [
    "So in the projection on each axis of the original parameter space $(x_1, x_2)$ is not great because we do not see the clear bi-modal distribution of the data that we spotted *by eye*."
   ]
  },
  {
   "cell_type": "markdown",
   "id": "7031ffff",
   "metadata": {
    "slideshow": {
     "slide_type": "subslide"
    }
   },
   "source": [
    "So each of these two dimensions may not be the best available choice to determine the separation line between the classes. We propose instead that there exists another direction $\\mathbf w$ that can help us *discriminate* between classes. The idea is that if we project the data onto that direction, \n",
    "\n",
    "\\begin{equation}\n",
    "z = \\mathbf w^\\top \\mathbf x\n",
    "\\end{equation}\n",
    "\n",
    "we get distinct modes in the pdf of $z$. We can then propose a threshold $z_0$ such that if $z>z_0$ we assign a point to class $C_1$ and if $z<z_0$ we assign this point to $C_2$. "
   ]
  },
  {
   "cell_type": "markdown",
   "id": "035d1825",
   "metadata": {
    "slideshow": {
     "slide_type": "subslide"
    }
   },
   "source": [
    "> ***Question***\n",
    "> - In the example above, do you have an idea of which axis you could use to project the data and get maximum class separability?"
   ]
  },
  {
   "cell_type": "markdown",
   "id": "94100bfa",
   "metadata": {
    "slideshow": {
     "slide_type": "subslide"
    }
   },
   "source": [
    "In order to find a direction that best separates each cluster, let us first compute the position of the mean of each cluster. In the original coordinate system, the mean of each cluster is given by\n",
    "\n",
    "\\begin{equation}\n",
    "\\mathbf m_1 = \\frac{1}{N_1} \\sum_{i\\in C_1} \\mathbf x_i \\quad \\rm{and} \\quad \\mathbf m_2 = \\frac{1}{N_2} \\sum_{i\\in C_2} \\mathbf x_i\n",
    "\\end{equation}"
   ]
  },
  {
   "cell_type": "markdown",
   "id": "7ace0305",
   "metadata": {
    "slideshow": {
     "slide_type": "subslide"
    }
   },
   "source": [
    "The projection of these means onto our direction $\\mathbf w$ is simply given by \n",
    "\n",
    "\\begin{equation}\n",
    "m_1 = \\mathbf w^\\top \\mathbf m_1 \\quad \\rm{and} \\quad m_2 = \\mathbf w^\\top \\mathbf m_2 \n",
    "\\end{equation}"
   ]
  },
  {
   "cell_type": "markdown",
   "id": "89d9ae58",
   "metadata": {
    "slideshow": {
     "slide_type": "subslide"
    }
   },
   "source": [
    "If we want to find the direction $\\mathbf w$ that maximizes the distance between each cluster, we define a cost function \n",
    "\n",
    "\\begin{equation}\n",
    "J(\\mathbf w) = (m_2 - m_1)^2\n",
    "\\end{equation}"
   ]
  },
  {
   "cell_type": "markdown",
   "id": "9b521b4d",
   "metadata": {
    "slideshow": {
     "slide_type": "subslide"
    }
   },
   "source": [
    "> ***Question***\n",
    "> - Show that \n",
    "\\begin{equation}\n",
    "(m_2 - m_1)^2 = \\mathbf w^\\top \\mathbf S_b \\mathbf w\n",
    "\\end{equation}\n",
    "\n",
    "with \n",
    "\n",
    "\\begin{equation}\n",
    "\\mathbf S_b = (\\mathbf m_2 - \\mathbf m_1)(\\mathbf m_2 - \\mathbf m_1)^\\top\n",
    "\\end{equation}\n",
    "\n",
    "the *between* class scatter matrix"
   ]
  },
  {
   "cell_type": "markdown",
   "id": "4a85d826",
   "metadata": {
    "slideshow": {
     "slide_type": "subslide"
    }
   },
   "source": [
    "The cost function can be arbitrarily big if we take $\\mathbf w$ as big as we want. In order to find the direction $\\mathbf w$, we need to add a constraint on the norm $\\lVert \\mathbf w \\lVert$ to the cost function.\n",
    "\n",
    "The new cost function is now\n",
    "\n",
    "\\begin{equation}\n",
    "J(\\mathbf w) = (m_2 - m_1)^2 - \\lambda ( \\mathbf w^\\top \\mathbf w - 1)\n",
    "\\end{equation}\n",
    "\n",
    "with $\\lambda$ and external parameter (Lagrange multiplier)"
   ]
  },
  {
   "cell_type": "markdown",
   "id": "67164461",
   "metadata": {
    "slideshow": {
     "slide_type": "subslide"
    }
   },
   "source": [
    "> ***Question***\n",
    "> - Take the derivative of the cost function with respect to $\\mathbf w$ and show that $dJ/d\\mathbf w = 0$ when \n",
    "\\begin{equation}\n",
    "\\mathbf w \\propto \\mathbf S_b \\mathbf w\n",
    "\\end{equation}\n"
   ]
  },
  {
   "cell_type": "markdown",
   "id": "2a8b9dd8",
   "metadata": {
    "slideshow": {
     "slide_type": "subslide"
    }
   },
   "source": [
    "However, \n",
    "\\begin{align}\n",
    "\\mathbf S_b \\mathbf w &= (\\mathbf m_2 - \\mathbf m_1)(\\mathbf m_2 - \\mathbf m_1)^\\top \\mathbf w \\\\\n",
    "& \\propto (\\mathbf m_2 - \\mathbf m_1)\n",
    "\\end{align}\n",
    "\n",
    "So $J$ is maximum when \n",
    "\\begin{equation}\n",
    "\\mathbf w \\propto \\mathbf m_2 - \\mathbf m_1\n",
    "\\end{equation}\n",
    "\n",
    "That is $\\mathbf w$ is the direction that joins the two centers. This does not necessarily ensures that the pdf of points will be well separated when projected onto this axis."
   ]
  },
  {
   "cell_type": "markdown",
   "id": "4bb3c41a",
   "metadata": {
    "slideshow": {
     "slide_type": "subslide"
    }
   },
   "source": [
    "In fact if you examine the code of the example above, you will see that the direction $\\mathbf m_2 - \\mathbf m_1$ is $x_1$ the first dimension of the data set. And we already saw that projecting the data onto that direction is not very good in terms of class separability."
   ]
  },
  {
   "cell_type": "markdown",
   "id": "72b5a2c6",
   "metadata": {
    "slideshow": {
     "slide_type": "subslide"
    }
   },
   "source": [
    "We introduce another metric that characterizes the spread of the data within each cluster\n",
    "\n",
    "\\begin{equation}\n",
    "s_1^2 = \\sum_{i\\in C_1} (\\mathbf w^\\top \\mathbf x_i - m_1)^2 \\quad \\rm{and} \\quad s_2^2 = \\sum_{i\\in C_2} (\\mathbf w^\\top \\mathbf x_i - m_2)^2\n",
    "\\end{equation}\n",
    "\n",
    "which is proportional to the variance of each cluster measured on the projection. We want $s_1^2 + s_2^2$ to be as small as possible. "
   ]
  },
  {
   "cell_type": "markdown",
   "id": "67c55add",
   "metadata": {
    "slideshow": {
     "slide_type": "subslide"
    }
   },
   "source": [
    "In a similar way as before, we can show that\n",
    "\n",
    "\\begin{equation}\n",
    "s_1^2 + s_2^2 = \\mathbf w^\\top \\mathbf S_w \\mathbf w\n",
    "\\end{equation}\n",
    "\n",
    "with $S_w$ the *within* class scatter matrix\n",
    "\n",
    "\\begin{equation}\n",
    "\\mathbf S_w = \\sum_{i\\in C_1} (\\mathbf x_i - \\mathbf m_1)(\\mathbf x_i - \\mathbf m_1)^\\top + \\sum_{i\\in C_2} (\\mathbf x_i - \\mathbf m_2)(\\mathbf x_i - \\mathbf m_2)^\\top\n",
    "\\end{equation}\n",
    "\n",
    "which is a measure of the separation of the points within each cluster (whether the spread is high or small).\n"
   ]
  },
  {
   "cell_type": "markdown",
   "id": "4cdb9c93",
   "metadata": {
    "slideshow": {
     "slide_type": "subslide"
    }
   },
   "source": [
    "We define a new cost function that combines these two metrics:\n",
    "\n",
    "\\begin{equation}\n",
    "J(\\mathbf w) = \\frac{(m_2 - m_1)^2}{s_1^2 + s_2^2}\n",
    "\\end{equation}\n",
    "\n",
    "The maximum of this cost function corresponds to the maximum separation of the mean relative to the sample variances. "
   ]
  },
  {
   "cell_type": "markdown",
   "id": "d3e9c51a",
   "metadata": {
    "slideshow": {
     "slide_type": "subslide"
    }
   },
   "source": [
    "We can write the cost function explicitly with the vector $\\mathbf w$:\n",
    "\n",
    "\\begin{equation}\n",
    "J(\\mathbf w) = \\frac{\\mathbf w^\\top \\mathbf S_b \\mathbf w}{\\mathbf w^\\top \\mathbf S_w \\mathbf w}\n",
    "\\end{equation}"
   ]
  },
  {
   "cell_type": "markdown",
   "id": "0caee2f1",
   "metadata": {
    "slideshow": {
     "slide_type": "subslide"
    }
   },
   "source": [
    "Again to find the maximum of this cost function we can differenciate it with respect to $\\mathbf w$. We find that it is equal to zero when \n",
    "\n",
    "\\begin{equation}\n",
    "(\\mathbf w^\\top \\mathbf S_b \\mathbf w) \\mathbf S_w \\mathbf w = (\\mathbf w^\\top \\mathbf S_w \\mathbf w) \\mathbf S_b \\mathbf w \n",
    "\\end{equation}"
   ]
  },
  {
   "cell_type": "markdown",
   "id": "fbfcb53b",
   "metadata": {
    "slideshow": {
     "slide_type": "subslide"
    }
   },
   "source": [
    "> ***Question (optional)***\n",
    "> - Derive the above formula"
   ]
  },
  {
   "cell_type": "markdown",
   "id": "203bf2e5",
   "metadata": {
    "slideshow": {
     "slide_type": "subslide"
    }
   },
   "source": [
    "Both quantities in parenthesis are scalars so they won't help us find the direction $\\mathbf w$.\n",
    "We can then formulate this problem as a generalized eigenvalue problem\n",
    "\n",
    "\\begin{equation}\n",
    "\\mathbf S_w \\mathbf w = \\lambda \\mathbf S_b \\mathbf w \n",
    "\\end{equation}"
   ]
  },
  {
   "cell_type": "markdown",
   "id": "a222b576",
   "metadata": {
    "slideshow": {
     "slide_type": "subslide"
    }
   },
   "source": [
    "And for our particular setting with only 2 clusters, we already saw above that $\\mathbf S_b$ is the projection matrix on the direction $\\mathbf m_2 - \\mathbf m_1$. In that case, we have\n",
    "\n",
    "\\begin{equation}\n",
    "\\mathbf w = \\mathbf S_w^{-1} (\\mathbf m_2 - \\mathbf m_1) \n",
    "\\end{equation}\n",
    "\n",
    "where we removed all multiplicative constant. Note that this equation requires that $\\mathbf S_w$ is invertible. This condition is usually satisfied when the parameters are independent."
   ]
  },
  {
   "cell_type": "markdown",
   "id": "fe830eb6",
   "metadata": {
    "slideshow": {
     "slide_type": "subslide"
    }
   },
   "source": [
    "Once we have the direction $\\mathbf w$, we can project our data set onto that direction. We have reduced our original two dimensional data set into a 1-dimensional data. In the figure below, we project the data set onto that particular dimension."
   ]
  },
  {
   "cell_type": "code",
   "execution_count": 9,
   "id": "e436582b",
   "metadata": {
    "slideshow": {
     "slide_type": "subslide"
    }
   },
   "outputs": [
    {
     "data": {
      "image/png": "[encoded data removed]",
      "text/plain": [
       "<Figure size 432x288 with 1 Axes>"
      ]
     },
     "metadata": {
      "needs_background": "light"
     },
     "output_type": "display_data"
    }
   ],
   "source": [
    "w = np.linalg.solve(Cw,mu_2-mu_1) # we use C_w instead of S_w\n",
    "\n",
    "z_proj = ztot@w\n",
    "\n",
    "plt.figure()\n",
    "hist = plt.hist(z_proj,20)"
   ]
  },
  {
   "cell_type": "markdown",
   "id": "114fa0c7",
   "metadata": {
    "slideshow": {
     "slide_type": "subslide"
    }
   },
   "source": [
    "In this figure, we can see clear mode in the distribution of the data. Not only can we visualize the two classes in a reduced dimensional space, but we can also use that projection to classify the data if we need to."
   ]
  },
  {
   "cell_type": "markdown",
   "id": "fb777d1f",
   "metadata": {
    "slideshow": {
     "slide_type": "subslide"
    }
   },
   "source": [
    "We can generalize this methodology to any number of cluster $K$ and for $N$ dimensions (provided that $K\\le N$). Indeed, because this method was introduced as a dimension reduction method, you always need to have the number of classes that is smaller than the dimension of the problem.\n",
    "\n",
    "Note also that the maximum number of dimension that you can get out this method is $K-1$."
   ]
  },
  {
   "cell_type": "markdown",
   "id": "00851f30",
   "metadata": {
    "slideshow": {
     "slide_type": "subslide"
    }
   },
   "source": [
    "## References\n",
    "\n",
    "- Bishop C. M., *Pattern recognition and machine learning*, (2006) Springer"
   ]
  },
  {
   "cell_type": "markdown",
   "id": "5e186998",
   "metadata": {
    "slideshow": {
     "slide_type": "slide"
    }
   },
   "source": [
    "***\n",
    "## Credit\n",
    "\n",
    "[//]: # \"This notebook is part of [E4C Interdisciplinary Center - Education](https://gitlab.in2p3.fr/energy4climate/public/education).\"\n",
    "Contributors include Bruno Deremble and Alexis Tantet.\n",
    "\n",
    "<br>\n",
    "\n",
    "<div style=\"display: flex; height: 70px\">\n",
    "    \n",
    "<img alt=\"Logo LMD\" src=\"images/logos/logo_lmd.jpg\" style=\"display: inline-block\"/>\n",
    "\n",
    "<img alt=\"Logo IPSL\" src=\"images/logos/logo_ipsl.png\" style=\"display: inline-block\"/>\n",
    "\n",
    "<img alt=\"Logo E4C\" src=\"images/logos/logo_e4c_final.png\" style=\"display: inline-block\"/>\n",
    "\n",
    "<img alt=\"Logo EP\" src=\"images/logos/logo_ep.png\" style=\"display: inline-block\"/>\n",
    "\n",
    "<img alt=\"Logo SU\" src=\"images/logos/logo_su.png\" style=\"display: inline-block\"/>\n",
    "\n",
    "<img alt=\"Logo ENS\" src=\"images/logos/logo_ens.jpg\" style=\"display: inline-block\"/>\n",
    "\n",
    "<img alt=\"Logo CNRS\" src=\"images/logos/logo_cnrs.png\" style=\"display: inline-block\"/>\n",
    "    \n",
    "</div>\n",
    "\n",
    "<hr>\n",
    "\n",
    "<div style=\"display: flex\">\n",
    "    <a rel=\"license\" href=\"http://creativecommons.org/licenses/by-sa/4.0/\"><img alt=\"Creative Commons License\" style=\"border-width:0; margin-right: 10px\" src=\"https://i.creativecommons.org/l/by-sa/4.0/88x31.png\" /></a>\n",
    "    <br>This work is licensed under a &nbsp; <a rel=\"license\" href=\"http://creativecommons.org/licenses/by-sa/4.0/\">Creative Commons Attribution-ShareAlike 4.0 International License</a>.\n",
    "</div>"
   ]
  }
 ],
 "metadata": {
  "celltoolbar": "Slideshow",
  "kernelspec": {
   "display_name": "Python 3 (ipykernel)",
   "language": "python",
   "name": "python3"
  },
  "language_info": {
   "codemirror_mode": {
    "name": "ipython",
    "version": 3
   },
   "file_extension": ".py",
   "mimetype": "text/x-python",
   "name": "python",
   "nbconvert_exporter": "python",
   "pygments_lexer": "ipython3",
   "version": "3.9.6"
  },
  "latex_envs": {
   "LaTeX_envs_menu_present": true,
   "autoclose": true,
   "autocomplete": false,
   "bibliofile": "biblio.bib",
   "cite_by": "apalike",
   "current_citInitial": 1,
   "eqLabelWithNumbers": true,
   "eqNumInitial": 1,
   "hotkeys": {
    "equation": "Ctrl-E",
    "itemize": "Ctrl-I"
   },
   "labels_anchors": false,
   "latex_user_defs": false,
   "report_style_numbering": false,
   "user_envs_cfg": false
  },
  "toc": {
   "base_numbering": 1,
   "nav_menu": {},
   "number_sections": true,
   "sideBar": true,
   "skip_h1_title": false,
   "title_cell": "Table of Contents",
   "title_sidebar": "Contents",
   "toc_cell": false,
   "toc_position": {},
   "toc_section_display": true,
   "toc_window_display": false
  },
  "varInspector": {
   "cols": {
    "lenName": 16,
    "lenType": 16,
    "lenVar": 40
   },
   "kernels_config": {
    "python": {
     "delete_cmd_postfix": "",
     "delete_cmd_prefix": "del ",
     "library": "var_list.py",
     "varRefreshCmd": "print(var_dic_list())"
    },
    "r": {
     "delete_cmd_postfix": ") ",
     "delete_cmd_prefix": "rm(",
     "library": "var_list.r",
     "varRefreshCmd": "cat(var_dic_list()) "
    }
   },
   "types_to_exclude": [
    "module",
    "function",
    "builtin_function_or_method",
    "instance",
    "_Feature"
   ],
   "window_display": false
  }
 },
 "nbformat": 4,
 "nbformat_minor": 5
}
