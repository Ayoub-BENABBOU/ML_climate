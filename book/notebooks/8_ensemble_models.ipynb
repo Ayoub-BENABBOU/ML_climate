{
 "cells": [
  {
   "cell_type": "markdown",
   "id": "76bc35cd",
   "metadata": {
    "slideshow": {
     "slide_type": "slide"
    }
   },
   "source": [
    "# Ensemble Methods\n",
    "\n",
    "[![Binder](https://mybinder.org/badge_logo.svg)](https://mybinder.org/v2/git/https%3A%2F%2Fgitlab.in2p3.fr%2Fenergy4climate%2Fpublic%2Feducation%2Fmachine_learning_for_climate_and_energy/master?filepath=book%2Fnotebooks%2F8_ensemble_methods.ipynb)"
   ]
  },
  {
   "cell_type": "markdown",
   "id": "bf385f06",
   "metadata": {
    "slideshow": {
     "slide_type": "subslide"
    }
   },
   "source": [
    "<div class=\"alert alert-block alert-warning\">\n",
    "    <b>Prerequisites</b>\n",
    "    \n",
    "- \n",
    "</div>"
   ]
  },
  {
   "cell_type": "markdown",
   "id": "14edfd21",
   "metadata": {
    "slideshow": {
     "slide_type": "subslide"
    }
   },
   "source": [
    "<div class=\"alert alert-block alert-info\">\n",
    "    <b>Learning Outcomes</b>\n",
    "\n",
    "- Combining several models together;\n",
    "- Understand the principles behind bootstrapping and boosting;\n",
    "- Get intuitions with specific models such as random forest and gradient boosting;\n",
    "- Identify the important hyperparameters of random forest and gradient boosting decision trees as well as their typical values.\n",
    "</div>"
   ]
  },
  {
   "cell_type": "markdown",
   "id": "66b582aa",
   "metadata": {
    "slideshow": {
     "slide_type": "subslide"
    }
   },
   "source": [
    "Ensemble methods:\n",
    "- Bagging\n",
    "- Boosting\n",
    "- Random forest\n",
    "- Voting / Stacking\n",
    "- Bayesian methods for non-parametric regression"
   ]
  },
  {
   "cell_type": "markdown",
   "id": "dcd14b92",
   "metadata": {
    "slideshow": {
     "slide_type": "slide"
    }
   },
   "source": [
    "## Intuitions on tree-based methods\n",
    "\n",
    "See [Scikit-learn course - Intuitions on tree-based methods](https://inria.github.io/scikit-learn-mooc/trees/slides.html)."
   ]
  },
  {
   "cell_type": "markdown",
   "id": "7d346ff4",
   "metadata": {
    "slideshow": {
     "slide_type": "slide"
    }
   },
   "source": [
    "## Intuition on ensemble of tree-based methods\n",
    "\n"
   ]
  },
  {
   "cell_type": "markdown",
   "id": "ca5ca63d",
   "metadata": {
    "slideshow": {
     "slide_type": "subslide"
    }
   },
   "source": [
    "### The two tasks of ensemble learning\n",
    "\n",
    "1. Develop a population of base learners from the training data;\n",
    "2. Combine them to form a composite predictor."
   ]
  },
  {
   "cell_type": "markdown",
   "id": "b0b1f443",
   "metadata": {
    "slideshow": {
     "slide_type": "slide"
    }
   },
   "source": [
    "## Ensemble methods based on bootstrapping (bagging)\n",
    "\n",
    "- With cross-validation and boostrapping (shuffled version), we have resampled the training data to assess the accuracy of a prediction or a parameter estimate.\n",
    "\n",
    "- *Bagging* is the use of bootstrapping to improve the estimate or prediction itself."
   ]
  },
  {
   "cell_type": "markdown",
   "id": "0ba7bb2e",
   "metadata": {
    "slideshow": {
     "slide_type": "subslide"
    }
   },
   "source": [
    "### Bagging method\n",
    "\n",
    "Given training data $\\mathbf{Z} = \\{(x_1, y_1), \\ldots, (x_N, y_N)\\}$,\n",
    "\n",
    "- Get $B$ boostrap samples $\\mathbf{Z}^{*b}, b = 1, \\ldots, B$;\n",
    "- Fit a model $\\hat{f}^{*b}$ to each bootstrap sample;\n",
    "- Given a new input $x$, generate predictions $\\hat{f}^{*b}(x)$ from each model;\n",
    "- Average the predictions to get the bagging prediction:\n",
    "\n",
    "\\begin{equation}\n",
    "\\hat{f}_\\mathrm{bag}(x) = \\frac{1}{B} \\sum_{b = 1}^B \\hat{f}^{*b}(x).\n",
    "\\end{equation}"
   ]
  },
  {
   "cell_type": "markdown",
   "id": "0f93ae5d",
   "metadata": {
    "slideshow": {
     "slide_type": "subslide"
    }
   },
   "source": [
    "### Why bagging?\n",
    "\n",
    "<div class=\"alert alert-block alert-info\">\n",
    "   Bagging reduced the variance.\n",
    "</div>\n",
    "\n",
    "- The base estimator $\\hat{f}$ is too complex and overfits;\n",
    "- Each bootstrap estimate $\\hat{f}^{*b}$ also overfits;\n",
    "- But averaging them reduces their there variance and thus their tendency to overfit."
   ]
  },
  {
   "cell_type": "markdown",
   "id": "42dd6b34",
   "metadata": {
    "slideshow": {
     "slide_type": "subslide"
    }
   },
   "source": [
    "### Bagging usage\n",
    "\n",
    "- For regression / classification;\n",
    "- The base learner can be any model, often a decision tree;\n",
    "- The number of models $B$ is a hyperparameter controlling the regularization;"
   ]
  },
  {
   "cell_type": "markdown",
   "id": "bbb34978",
   "metadata": {
    "slideshow": {
     "slide_type": "subslide"
    }
   },
   "source": [
    "### How to generate the bootstrap samples?\n",
    "\n",
    "Typically:\n",
    "- Randomly draw $N$ observations from $\\mathbf{Z}$ with replacement. To do so:\n",
    "  - Use a random number generator to draw $N$ integers from $1$ to $N$. The same integer may be drawn multiple times (replacement);\n",
    "  - Take these integers as indices to select input-output pairs in $\\mathbf{Z}$;\n",
    "- Repeat $B$ times.\n",
    "\n",
    "However, a smaller number observations may be drawn with or without replacement."
   ]
  },
  {
   "cell_type": "markdown",
   "id": "a1e5d080",
   "metadata": {
    "slideshow": {
     "slide_type": "subslide"
    }
   },
   "source": [
    "This is illustrated below, where the number of observations per boostrap sample is `max_samples` and where `replace` controls whether observations are replaced or not. "
   ]
  },
  {
   "cell_type": "code",
   "execution_count": 6,
   "id": "69cd1997",
   "metadata": {
    "slideshow": {
     "slide_type": "subslide"
    }
   },
   "outputs": [],
   "source": [
    "# Numerical analysis modules\n",
    "import numpy as np\n",
    "import pandas as pd\n",
    "# Plot modules\n",
    "import matplotlib.pyplot as plt\n",
    "import hvplot.pandas\n",
    "import panel as pn\n",
    "pn.extension()\n",
    "# Default colors\n",
    "RC_COLORS = plt.rcParams['axes.prop_cycle'].by_key()['color']\n",
    "\n",
    "# Number of training samples\n",
    "N = 20\n",
    "    \n",
    "# Noise standard deviation\n",
    "sigma = 4.\n",
    "\n",
    "# Initialize random number generator\n",
    "rng = np.random.RandomState(2)\n",
    "\n",
    "# Plot configuration\n",
    "xlabel = 'Input'\n",
    "ylabel = 'Target'\n",
    "xlim = 3 * np.array([-1, 1])\n",
    "ylim = np.array([-3.1, 2.])\n",
    "\n",
    "def generate_data(n_samples=N):\n",
    "    \"\"\"Generate synthetic dataset. Returns `data_train`, `data_test`,\n",
    "    `target_train`.\"\"\"\n",
    "    x_min, x_max = xlim\n",
    "    x = rng.uniform(x_min, x_max, size=n_samples)\n",
    "    noise = sigma * rng.randn(n_samples)\n",
    "    y = x**3 - 0.5 * (x+1)**2 + noise\n",
    "    y /= y.std()\n",
    "\n",
    "    input_train = pd.Series(x, name=xlabel)\n",
    "    input_test = pd.Series(\n",
    "        np.linspace(x_max, x_min, num=300), name=xlabel)\n",
    "    target_train = pd.DataFrame(y, index=x, columns=[ylabel])\n",
    "    target_train.index.name = input_train.name\n",
    "\n",
    "    return input_train, input_test, target_train\n",
    "\n",
    "# Generate training set\n",
    "input_train, input_test, target_train = generate_data(n_samples=N)\n",
    "\n",
    "def get_bootstrap_sample(max_samples=N, replace=True):\n",
    "    # Get random indices\n",
    "    bootstrap_indices = rng.choice(N, size=max_samples, replace=replace)\n",
    "    \n",
    "    # Generate boostrap sample\n",
    "    input_b = input_train.iloc[bootstrap_indices]\n",
    "    target_b = target_train.iloc[bootstrap_indices]\n",
    "    \n",
    "    return input_b, target_b\n",
    "\n",
    "def plot_bootstrap_sample(b, max_samples=N, replace=True):\n",
    "    input_b, target_b = get_bootstrap_sample(max_samples, replace)\n",
    "\n",
    "    # Plot with hvplot\n",
    "    return (target_train.hvplot.scatter(size=75, label='Training set') *\n",
    "            target_b.hvplot.scatter(size=25, label='Bootstrap sample',\n",
    "            xlim=xlim, ylim=ylim))\n",
    "    \n",
    "button = pn.widgets.Button(name='Resample bootstrap', button_type='primary')"
   ]
  },
  {
   "cell_type": "code",
   "execution_count": 7,
   "id": "916f388b",
   "metadata": {
    "slideshow": {
     "slide_type": "subslide"
    }
   },
   "outputs": [
    {
     "data": {},
     "metadata": {},
     "output_type": "display_data"
    },
    {
     "data": {},
     "metadata": {},
     "output_type": "display_data"
    },
    {
     "data": {
      "application/vnd.holoviews_exec.v0+json": "",
      "text/html": [
       "<div id='9716'>\n",
       "\n",
       "\n",
       "\n",
       "\n",
       "\n",
       "  <div class=\"bk-root\" id=\"161ce090-df21-4501-8fed-7e9064a4f928\" data-root-id=\"9716\"></div>\n",
       "</div>\n",
       "<script type=\"application/javascript\">(function(root) {\n",
       "  function embed_document(root) {\n",
       "    var docs_json = {\"5c42e410-ff71-4b33-9208-b738b70d8fd0\":{\"defs\":[],\"roots\":{\"references\":[{\"attributes\":{\"data_source\":{\"id\":\"9764\"},\"glyph\":{\"id\":\"9767\"},\"hover_glyph\":null,\"muted_glyph\":{\"id\":\"9769\"},\"nonselection_glyph\":{\"id\":\"9768\"},\"selection_glyph\":{\"id\":\"9784\"},\"view\":{\"id\":\"9771\"}},\"id\":\"9770\",\"type\":\"GlyphRenderer\"},{\"attributes\":{},\"id\":\"9762\",\"type\":\"BasicTickFormatter\"},{\"attributes\":{\"angle\":{\"value\":0.0},\"fill_alpha\":{\"value\":1.0},\"fill_color\":{\"value\":\"#1f77b3\"},\"hatch_alpha\":{\"value\":1.0},\"hatch_color\":{\"value\":\"black\"},\"hatch_scale\":{\"value\":12.0},\"hatch_weight\":{\"value\":1.0},\"line_alpha\":{\"value\":1.0},\"line_cap\":{\"value\":\"butt\"},\"line_color\":{\"value\":\"#1f77b3\"},\"line_dash\":{\"value\":[]},\"line_dash_offset\":{\"value\":0},\"line_join\":{\"value\":\"bevel\"},\"line_width\":{\"value\":1},\"marker\":{\"value\":\"circle\"},\"size\":{\"value\":8.660254037844387},\"x\":{\"field\":\"Input\"},\"y\":{\"field\":\"Target\"}},\"id\":\"9784\",\"type\":\"Scatter\"},{\"attributes\":{\"below\":[{\"id\":\"9737\"}],\"center\":[{\"id\":\"9740\"},{\"id\":\"9744\"}],\"height\":300,\"left\":[{\"id\":\"9741\"}],\"margin\":[5,5,5,5],\"min_border_bottom\":10,\"min_border_left\":10,\"min_border_right\":10,\"min_border_top\":10,\"renderers\":[{\"id\":\"9770\"},{\"id\":\"9791\"}],\"right\":[{\"id\":\"9782\"}],\"sizing_mode\":\"fixed\",\"title\":{\"id\":\"9729\"},\"toolbar\":{\"id\":\"9751\"},\"width\":700,\"x_range\":{\"id\":\"9724\"},\"x_scale\":{\"id\":\"9733\"},\"y_range\":{\"id\":\"9725\"},\"y_scale\":{\"id\":\"9735\"}},\"id\":\"9728\",\"subtype\":\"Figure\",\"type\":\"Plot\"},{\"attributes\":{},\"id\":\"9761\",\"type\":\"AllLabels\"},{\"attributes\":{\"active\":[0],\"labels\":[\"replace\"],\"margin\":[5,10,5,10]},\"id\":\"9722\",\"type\":\"CheckboxGroup\"},{\"attributes\":{\"end\":2.0,\"reset_end\":2.0,\"reset_start\":-3.1,\"start\":-3.1,\"tags\":[[[\"Target\",\"Target\",null]]]},\"id\":\"9725\",\"type\":\"Range1d\"},{\"attributes\":{\"label\":{\"value\":\"Training set\"},\"renderers\":[{\"id\":\"9770\"}]},\"id\":\"9783\",\"type\":\"LegendItem\"},{\"attributes\":{\"end\":3,\"reset_end\":3,\"reset_start\":-3,\"start\":-3,\"tags\":[[[\"Input\",\"Input\",null]]]},\"id\":\"9724\",\"type\":\"Range1d\"},{\"attributes\":{\"end\":19,\"js_property_callbacks\":{\"change:value\":[{\"id\":\"9927\"}]},\"margin\":[0,10,5,10],\"show_value\":false,\"start\":0,\"tooltips\":false,\"value\":19},\"id\":\"9721\",\"type\":\"Slider\"},{\"attributes\":{\"children\":[{\"id\":\"9718\"},{\"id\":\"9719\"},{\"id\":\"9722\"}],\"margin\":[0,0,0,0],\"name\":\"Column20911\"},\"id\":\"9717\",\"type\":\"Column\"},{\"attributes\":{},\"id\":\"9759\",\"type\":\"BasicTickFormatter\"},{\"attributes\":{\"client_comm_id\":\"a8cd5ba3507f4f3f92f63efbe2aac1a1\",\"comm_id\":\"265ea09ad8ba4c9eabcf8caf92d5d796\",\"plot_id\":\"9716\"},\"id\":\"9952\",\"type\":\"panel.models.comm_manager.CommManager\"},{\"attributes\":{},\"id\":\"9786\",\"type\":\"Selection\"},{\"attributes\":{\"click_policy\":\"mute\",\"items\":[{\"id\":\"9783\"},{\"id\":\"9805\"}],\"location\":[0,0]},\"id\":\"9782\",\"type\":\"Legend\"},{\"attributes\":{},\"id\":\"9733\",\"type\":\"LinearScale\"},{\"attributes\":{\"data\":{\"Input\":{\"__ndarray__\":\"ILYdB/WT2L86J2kga8EGwLC2fS0FEtM/MGe7SBHW2L+QP53gKZTev+6ZJQKxSfC/BRidH45a/L/g+eASaObmPySKLc6vO/O/zjpo8HNi9r9YL6Nb+EHnP/ALkqGRYcY/xjUCGUiKAcCgPqpwItu0P0DqXLM0S/6/KBsah2Vk+z90+Ub9pf0AQAADmONVtKG/MNkPK4yiAEAGpS7+UC0EwA==\",\"dtype\":\"float64\",\"order\":\"little\",\"shape\":[20]},\"Target\":{\"__ndarray__\":\"PIpH5gQJ2L817pX9UOYGwBrOztawEOC/UuylyPDfub8ELA/rny+3P8VrJNqZmOK/yqSoXsnK6r/XID7QM2/OvzeeWui5+t+/qmzFRVEX7L/Ky85qeDXpv/QBKUlCSMO/6A14Dm/g9r9JWj64ofXuP4x2kvoWaf+/qeKUXh2Yyj9+McZWqvLmP90H06S6dOI/u5elxSc55z+wP/r1YhgDwA==\",\"dtype\":\"float64\",\"order\":\"little\",\"shape\":[20]}},\"selected\":{\"id\":\"9765\"},\"selection_policy\":{\"id\":\"9781\"}},\"id\":\"9764\",\"type\":\"ColumnDataSource\"},{\"attributes\":{\"data_source\":{\"id\":\"9785\"},\"glyph\":{\"id\":\"9788\"},\"hover_glyph\":null,\"muted_glyph\":{\"id\":\"9790\"},\"nonselection_glyph\":{\"id\":\"9789\"},\"selection_glyph\":{\"id\":\"9806\"},\"view\":{\"id\":\"9792\"}},\"id\":\"9791\",\"type\":\"GlyphRenderer\"},{\"attributes\":{\"bottom_units\":\"screen\",\"fill_alpha\":0.5,\"fill_color\":\"lightgrey\",\"left_units\":\"screen\",\"level\":\"overlay\",\"line_alpha\":1.0,\"line_color\":\"black\",\"line_dash\":[4,4],\"line_width\":2,\"right_units\":\"screen\",\"syncable\":false,\"top_units\":\"screen\"},\"id\":\"9750\",\"type\":\"BoxAnnotation\"},{\"attributes\":{\"children\":[{\"id\":\"9728\"}],\"margin\":[0,0,0,0],\"name\":\"Row20910\"},\"id\":\"9723\",\"type\":\"Row\"},{\"attributes\":{\"fill_color\":{\"value\":\"#ff7e0e\"},\"line_color\":{\"value\":\"#ff7e0e\"},\"size\":{\"value\":5.0},\"x\":{\"field\":\"Input\"},\"y\":{\"field\":\"Target\"}},\"id\":\"9788\",\"type\":\"Scatter\"},{\"attributes\":{},\"id\":\"9758\",\"type\":\"AllLabels\"},{\"attributes\":{},\"id\":\"9738\",\"type\":\"BasicTicker\"},{\"attributes\":{},\"id\":\"9781\",\"type\":\"UnionRenderers\"},{\"attributes\":{\"source\":{\"id\":\"9785\"}},\"id\":\"9792\",\"type\":\"CDSView\"},{\"attributes\":{\"angle\":{\"value\":0.0},\"fill_alpha\":{\"value\":1.0},\"fill_color\":{\"value\":\"#ff7e0e\"},\"hatch_alpha\":{\"value\":1.0},\"hatch_color\":{\"value\":\"black\"},\"hatch_scale\":{\"value\":12.0},\"hatch_weight\":{\"value\":1.0},\"line_alpha\":{\"value\":1.0},\"line_cap\":{\"value\":\"butt\"},\"line_color\":{\"value\":\"#ff7e0e\"},\"line_dash\":{\"value\":[]},\"line_dash_offset\":{\"value\":0},\"line_join\":{\"value\":\"bevel\"},\"line_width\":{\"value\":1},\"marker\":{\"value\":\"circle\"},\"size\":{\"value\":5.0},\"x\":{\"field\":\"Input\"},\"y\":{\"field\":\"Target\"}},\"id\":\"9806\",\"type\":\"Scatter\"},{\"attributes\":{\"button_type\":\"primary\",\"icon\":null,\"label\":\"Resample bootstrap\",\"margin\":[5,10,5,10],\"subscribed_events\":[\"button_click\"]},\"id\":\"9718\",\"type\":\"Button\"},{\"attributes\":{\"axis\":{\"id\":\"9737\"},\"grid_line_color\":null,\"ticker\":null},\"id\":\"9740\",\"type\":\"Grid\"},{\"attributes\":{\"label\":{\"value\":\"Bootstrap sample\"},\"renderers\":[{\"id\":\"9791\"}]},\"id\":\"9805\",\"type\":\"LegendItem\"},{\"attributes\":{},\"id\":\"9735\",\"type\":\"LinearScale\"},{\"attributes\":{\"axis_label\":\"Input\",\"formatter\":{\"id\":\"9759\"},\"major_label_policy\":{\"id\":\"9758\"},\"ticker\":{\"id\":\"9738\"}},\"id\":\"9737\",\"type\":\"LinearAxis\"},{\"attributes\":{\"fill_alpha\":{\"value\":0.2},\"fill_color\":{\"value\":\"#ff7e0e\"},\"line_alpha\":{\"value\":0.2},\"line_color\":{\"value\":\"#ff7e0e\"},\"size\":{\"value\":5.0},\"x\":{\"field\":\"Input\"},\"y\":{\"field\":\"Target\"}},\"id\":\"9790\",\"type\":\"Scatter\"},{\"attributes\":{\"axis\":{\"id\":\"9741\"},\"dimension\":1,\"grid_line_color\":null,\"ticker\":null},\"id\":\"9744\",\"type\":\"Grid\"},{\"attributes\":{\"args\":{\"bidirectional\":false,\"properties\":{},\"source\":{\"id\":\"9721\"},\"target\":{\"id\":\"9720\"}},\"code\":\"try { \\n    var labels = ['max_samples: <b>1</b>', 'max_samples: <b>2</b>', 'max_samples: <b>3</b>', 'max_samples: <b>4</b>', 'max_samples: <b>5</b>', 'max_samples: <b>6</b>', 'max_samples: <b>7</b>', 'max_samples: <b>8</b>', 'max_samples: <b>9</b>', 'max_samples: <b>10</b>', 'max_samples: <b>11</b>', 'max_samples: <b>12</b>', 'max_samples: <b>13</b>', 'max_samples: <b>14</b>', 'max_samples: <b>15</b>', 'max_samples: <b>16</b>', 'max_samples: <b>17</b>', 'max_samples: <b>18</b>', 'max_samples: <b>19</b>', 'max_samples: <b>20</b>']\\n    target.text = labels[source.value]\\n     } catch(err) { console.log(err) }\",\"tags\":[140317932206160]},\"id\":\"9927\",\"type\":\"CustomJS\"},{\"attributes\":{},\"id\":\"9746\",\"type\":\"PanTool\"},{\"attributes\":{\"text_color\":\"black\",\"text_font_size\":\"12pt\"},\"id\":\"9729\",\"type\":\"Title\"},{\"attributes\":{},\"id\":\"9747\",\"type\":\"WheelZoomTool\"},{\"attributes\":{\"children\":[{\"id\":\"9717\"},{\"id\":\"9723\"}],\"margin\":[0,0,0,0],\"name\":\"Column20745\"},\"id\":\"9716\",\"type\":\"Column\"},{\"attributes\":{\"axis_label\":\"Target\",\"formatter\":{\"id\":\"9762\"},\"major_label_policy\":{\"id\":\"9761\"},\"ticker\":{\"id\":\"9742\"}},\"id\":\"9741\",\"type\":\"LinearAxis\"},{\"attributes\":{},\"id\":\"9742\",\"type\":\"BasicTicker\"},{\"attributes\":{},\"id\":\"9745\",\"type\":\"SaveTool\"},{\"attributes\":{\"overlay\":{\"id\":\"9750\"}},\"id\":\"9748\",\"type\":\"BoxZoomTool\"},{\"attributes\":{\"children\":[{\"id\":\"9720\"},{\"id\":\"9721\"}],\"margin\":[0,0,0,0],\"name\":\"Column20751\"},\"id\":\"9719\",\"type\":\"Column\"},{\"attributes\":{},\"id\":\"9749\",\"type\":\"ResetTool\"},{\"attributes\":{\"active_multi\":null,\"tools\":[{\"id\":\"9726\"},{\"id\":\"9745\"},{\"id\":\"9746\"},{\"id\":\"9747\"},{\"id\":\"9748\"},{\"id\":\"9749\"}]},\"id\":\"9751\",\"type\":\"Toolbar\"},{\"attributes\":{\"fill_alpha\":{\"value\":0.2},\"fill_color\":{\"value\":\"#1f77b3\"},\"line_alpha\":{\"value\":0.2},\"line_color\":{\"value\":\"#1f77b3\"},\"size\":{\"value\":8.660254037844387},\"x\":{\"field\":\"Input\"},\"y\":{\"field\":\"Target\"}},\"id\":\"9769\",\"type\":\"Scatter\"},{\"attributes\":{},\"id\":\"9804\",\"type\":\"UnionRenderers\"},{\"attributes\":{\"fill_alpha\":{\"value\":0.1},\"fill_color\":{\"value\":\"#1f77b3\"},\"line_alpha\":{\"value\":0.1},\"line_color\":{\"value\":\"#1f77b3\"},\"size\":{\"value\":8.660254037844387},\"x\":{\"field\":\"Input\"},\"y\":{\"field\":\"Target\"}},\"id\":\"9768\",\"type\":\"Scatter\"},{\"attributes\":{\"margin\":[5,0,0,10],\"name\":\"\",\"style\":{\"white-space\":\"nowrap\"},\"text\":\"max_samples: <b>20</b>\"},\"id\":\"9720\",\"type\":\"Div\"},{\"attributes\":{\"source\":{\"id\":\"9764\"}},\"id\":\"9771\",\"type\":\"CDSView\"},{\"attributes\":{},\"id\":\"9765\",\"type\":\"Selection\"},{\"attributes\":{\"data\":{\"Input\":{\"__ndarray__\":\"BqUu/lAtBMAgth0H9ZPYv/ALkqGRYcY/ILYdB/WT2L8w2Q8rjKIAQCSKLc6vO/O/xjUCGUiKAcBYL6Nb+EHnPySKLc6vO/O/sLZ9LQUS0z/OOmjwc2L2v+6ZJQKxSfC/BRidH45a/L8FGJ0fjlr8vwalLv5QLQTAMNkPK4yiAEA6J2kga8EGwJA/neAplN6/JIotzq87878AA5jjVbShvw==\",\"dtype\":\"float64\",\"order\":\"little\",\"shape\":[20]},\"Target\":{\"__ndarray__\":\"sD/69WIYA8A8ikfmBAnYv/QBKUlCSMO/PIpH5gQJ2L+7l6XFJznnPzeeWui5+t+/6A14Dm/g9r/Ky85qeDXpvzeeWui5+t+/Gs7O1rAQ4L+qbMVFURfsv8VrJNqZmOK/yqSoXsnK6r/KpKheycrqv7A/+vViGAPAu5elxSc55z817pX9UOYGwAQsD+ufL7c/N55a6Ln637/dB9OkunTiPw==\",\"dtype\":\"float64\",\"order\":\"little\",\"shape\":[20]}},\"selected\":{\"id\":\"9786\"},\"selection_policy\":{\"id\":\"9804\"}},\"id\":\"9785\",\"type\":\"ColumnDataSource\"},{\"attributes\":{\"fill_alpha\":{\"value\":0.1},\"fill_color\":{\"value\":\"#ff7e0e\"},\"line_alpha\":{\"value\":0.1},\"line_color\":{\"value\":\"#ff7e0e\"},\"size\":{\"value\":5.0},\"x\":{\"field\":\"Input\"},\"y\":{\"field\":\"Target\"}},\"id\":\"9789\",\"type\":\"Scatter\"},{\"attributes\":{\"callback\":null,\"renderers\":[{\"id\":\"9770\"},{\"id\":\"9791\"}],\"tags\":[\"hv_created\"],\"tooltips\":[[\"Input\",\"@{Input}\"],[\"Target\",\"@{Target}\"]]},\"id\":\"9726\",\"type\":\"HoverTool\"},{\"attributes\":{\"fill_color\":{\"value\":\"#1f77b3\"},\"line_color\":{\"value\":\"#1f77b3\"},\"size\":{\"value\":8.660254037844387},\"x\":{\"field\":\"Input\"},\"y\":{\"field\":\"Target\"}},\"id\":\"9767\",\"type\":\"Scatter\"}],\"root_ids\":[\"9716\",\"9952\"]},\"title\":\"Bokeh Application\",\"version\":\"2.3.1\"}};\n",
       "    var render_items = [{\"docid\":\"5c42e410-ff71-4b33-9208-b738b70d8fd0\",\"root_ids\":[\"9716\"],\"roots\":{\"9716\":\"161ce090-df21-4501-8fed-7e9064a4f928\"}}];\n",
       "    root.Bokeh.embed.embed_items_notebook(docs_json, render_items);\n",
       "  }\n",
       "  if (root.Bokeh !== undefined && root.Bokeh.Panel !== undefined) {\n",
       "    embed_document(root);\n",
       "  } else {\n",
       "    var attempts = 0;\n",
       "    var timer = setInterval(function(root) {\n",
       "      if (root.Bokeh !== undefined && root.Bokeh.Panel !== undefined) {\n",
       "        clearInterval(timer);\n",
       "        embed_document(root);\n",
       "      } else if (document.readyState == \"complete\") {\n",
       "        attempts++;\n",
       "        if (attempts > 100) {\n",
       "          clearInterval(timer);\n",
       "          console.log(\"Bokeh: ERROR: Unable to run BokehJS code because BokehJS library is missing\");\n",
       "        }\n",
       "      }\n",
       "    }, 10, root)\n",
       "  }\n",
       "})(window);</script>"
      ],
      "text/plain": [
       "Column\n",
       "    [0] Column\n",
       "        [0] Button(button_type='primary', name='Resample bootstrap')\n",
       "        [1] DiscreteSlider(formatter='%d', name='max_samples', options=[1, 2, 3, 4, 5, ...], value=20)\n",
       "        [2] Checkbox(name='replace', value=True)\n",
       "    [1] Row\n",
       "        [0] HoloViews(Overlay, name='interactive20744')"
      ]
     },
     "execution_count": 7,
     "metadata": {
      "application/vnd.holoviews_exec.v0+json": {
       "id": "9716"
      }
     },
     "output_type": "execute_result"
    }
   ],
   "source": [
    "pn.interact(plot_bootstrap_sample, b=button, max_samples=np.arange(N) + 1)"
   ]
  },
  {
   "cell_type": "code",
   "execution_count": 9,
   "id": "e8e6f302",
   "metadata": {},
   "outputs": [
    {
     "data": {},
     "metadata": {},
     "output_type": "display_data"
    },
    {
     "data": {},
     "metadata": {},
     "output_type": "display_data"
    },
    {
     "data": {
      "application/vnd.holoviews_exec.v0+json": "",
      "text/html": [
       "<div id='11146'>\n",
       "\n",
       "\n",
       "\n",
       "\n",
       "\n",
       "  <div class=\"bk-root\" id=\"b2df6c4a-c4ba-42f0-9c7b-4c06605006fb\" data-root-id=\"11146\"></div>\n",
       "</div>\n",
       "<script type=\"application/javascript\">(function(root) {\n",
       "  function embed_document(root) {\n",
       "    var docs_json = {\"12614bf1-13e2-40d4-b3db-e905a1fda02a\":{\"defs\":[],\"roots\":{\"references\":[{\"attributes\":{\"axis\":{\"id\":\"11181\"},\"dimension\":1,\"grid_line_color\":null,\"ticker\":null},\"id\":\"11184\",\"type\":\"Grid\"},{\"attributes\":{\"line_color\":\"#d62628\",\"line_dash\":[6],\"line_width\":2,\"x\":{\"field\":\"Input\"},\"y\":{\"field\":\"Target\"}},\"id\":\"11324\",\"type\":\"Line\"},{\"attributes\":{\"data_source\":{\"id\":\"11271\"},\"glyph\":{\"id\":\"11274\"},\"hover_glyph\":null,\"muted_glyph\":{\"id\":\"11276\"},\"nonselection_glyph\":{\"id\":\"11275\"},\"selection_glyph\":{\"id\":\"11296\"},\"view\":{\"id\":\"11278\"}},\"id\":\"11277\",\"type\":\"GlyphRenderer\"},{\"attributes\":{},\"id\":\"11199\",\"type\":\"BasicTickFormatter\"},{\"attributes\":{},\"id\":\"11186\",\"type\":\"PanTool\"},{\"attributes\":{\"source\":{\"id\":\"11271\"}},\"id\":\"11278\",\"type\":\"CDSView\"},{\"attributes\":{},\"id\":\"11326\",\"type\":\"Selection\"},{\"attributes\":{\"children\":[{\"id\":\"11147\"},{\"id\":\"11158\"}],\"margin\":[0,0,0,0],\"name\":\"Column24323\"},\"id\":\"11146\",\"type\":\"Column\"},{\"attributes\":{\"data_source\":{\"id\":\"11325\"},\"glyph\":{\"id\":\"11328\"},\"hover_glyph\":null,\"muted_glyph\":{\"id\":\"11330\"},\"nonselection_glyph\":{\"id\":\"11329\"},\"selection_glyph\":{\"id\":\"11354\"},\"view\":{\"id\":\"11332\"}},\"id\":\"11331\",\"type\":\"GlyphRenderer\"},{\"attributes\":{},\"id\":\"11187\",\"type\":\"WheelZoomTool\"},{\"attributes\":{\"children\":[{\"id\":\"11151\"},{\"id\":\"11152\"}],\"margin\":[0,0,0,0],\"name\":\"Column24330\"},\"id\":\"11150\",\"type\":\"Column\"},{\"attributes\":{\"data_source\":{\"id\":\"11297\"},\"glyph\":{\"id\":\"11300\"},\"hover_glyph\":null,\"muted_glyph\":{\"id\":\"11302\"},\"nonselection_glyph\":{\"id\":\"11301\"},\"selection_glyph\":{\"id\":\"11324\"},\"view\":{\"id\":\"11304\"}},\"id\":\"11303\",\"type\":\"GlyphRenderer\"},{\"attributes\":{\"label\":{\"value\":\"Bootstrap prediction 1\"},\"renderers\":[{\"id\":\"11277\"}]},\"id\":\"11295\",\"type\":\"LegendItem\"},{\"attributes\":{\"line_color\":\"#8c564b\",\"line_dash\":[6],\"line_width\":2,\"x\":{\"field\":\"Input\"},\"y\":{\"field\":\"Target\"}},\"id\":\"11386\",\"type\":\"Line\"},{\"attributes\":{},\"id\":\"11185\",\"type\":\"SaveTool\"},{\"attributes\":{},\"id\":\"11244\",\"type\":\"UnionRenderers\"},{\"attributes\":{\"overlay\":{\"id\":\"11190\"}},\"id\":\"11188\",\"type\":\"BoxZoomTool\"},{\"attributes\":{\"margin\":[5,10,5,10],\"options\":[\"LinearRegression()\",\"Pipeline(steps=[('polynomialfeatures', PolynomialFeatures(degree=4)),\\n                ('linearregression', LinearRegression())])\",\"Pipeline(steps=[('splinetransformer', SplineTransformer()),\\n                ('linearregression', LinearRegression())])\",\"DecisionTreeRegressor(max_depth=3, random_state=0)\"],\"title\":\"base_estimator\",\"value\":\"LinearRegression()\"},\"id\":\"11149\",\"type\":\"Select\"},{\"attributes\":{},\"id\":\"11189\",\"type\":\"ResetTool\"},{\"attributes\":{\"line_alpha\":0.1,\"line_color\":\"#9367bc\",\"line_dash\":[6],\"line_width\":2,\"x\":{\"field\":\"Input\"},\"y\":{\"field\":\"Target\"}},\"id\":\"11329\",\"type\":\"Line\"},{\"attributes\":{\"source\":{\"id\":\"11325\"}},\"id\":\"11332\",\"type\":\"CDSView\"},{\"attributes\":{\"click_policy\":\"mute\",\"items\":[{\"id\":\"11223\"},{\"id\":\"11245\"},{\"id\":\"11269\"},{\"id\":\"11295\"},{\"id\":\"11323\"},{\"id\":\"11353\"},{\"id\":\"11385\"}],\"location\":[0,0]},\"id\":\"11222\",\"type\":\"Legend\"},{\"attributes\":{\"line_alpha\":0.2,\"line_color\":\"#9367bc\",\"line_dash\":[6],\"line_width\":2,\"x\":{\"field\":\"Input\"},\"y\":{\"field\":\"Target\"}},\"id\":\"11330\",\"type\":\"Line\"},{\"attributes\":{\"line_color\":\"#9367bc\",\"line_dash\":[6],\"line_width\":2,\"x\":{\"field\":\"Input\"},\"y\":{\"field\":\"Target\"}},\"id\":\"11328\",\"type\":\"Line\"},{\"attributes\":{\"label\":{\"value\":\"Bootstrap prediction 4\"},\"renderers\":[{\"id\":\"11361\"}]},\"id\":\"11385\",\"type\":\"LegendItem\"},{\"attributes\":{\"label\":{\"value\":\"Bootstrap prediction 3\"},\"renderers\":[{\"id\":\"11331\"}]},\"id\":\"11353\",\"type\":\"LegendItem\"},{\"attributes\":{},\"id\":\"11294\",\"type\":\"UnionRenderers\"},{\"attributes\":{\"children\":[{\"id\":\"11148\"},{\"id\":\"11149\"},{\"id\":\"11150\"},{\"id\":\"11153\"},{\"id\":\"11156\"},{\"id\":\"11157\"}],\"margin\":[0,0,0,0],\"name\":\"Column24885\"},\"id\":\"11147\",\"type\":\"Column\"},{\"attributes\":{},\"id\":\"11201\",\"type\":\"AllLabels\"},{\"attributes\":{},\"id\":\"11173\",\"type\":\"LinearScale\"},{\"attributes\":{},\"id\":\"11202\",\"type\":\"BasicTickFormatter\"},{\"attributes\":{\"margin\":[5,0,0,10],\"name\":\"\",\"style\":{\"white-space\":\"nowrap\"},\"text\":\"n_estimators: <b>5</b>\"},\"id\":\"11151\",\"type\":\"Div\"},{\"attributes\":{\"data\":{\"Input\":{\"__ndarray__\":\"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\",\"dtype\":\"float64\",\"order\":\"little\",\"shape\":[300]},\"Target\":{\"__ndarray__\":\"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\",\"dtype\":\"float64\",\"order\":\"little\",\"shape\":[300]}},\"selected\":{\"id\":\"11326\"},\"selection_policy\":{\"id\":\"11352\"}},\"id\":\"11325\",\"type\":\"ColumnDataSource\"},{\"attributes\":{\"margin\":[5,0,0,10],\"name\":\"\",\"style\":{\"white-space\":\"nowrap\"},\"text\":\"max_samples: <b>20</b>\"},\"id\":\"11154\",\"type\":\"Div\"},{\"attributes\":{\"fill_color\":{\"value\":\"#1f77b3\"},\"line_color\":{\"value\":\"#1f77b3\"},\"size\":{\"value\":8.660254037844387},\"x\":{\"field\":\"Input\"},\"y\":{\"field\":\"Target\"}},\"id\":\"11207\",\"type\":\"Scatter\"},{\"attributes\":{\"line_color\":\"#1f77b3\",\"line_width\":2,\"x\":{\"field\":\"Input\"},\"y\":{\"field\":\"Target\"}},\"id\":\"11246\",\"type\":\"Line\"},{\"attributes\":{},\"id\":\"11352\",\"type\":\"UnionRenderers\"},{\"attributes\":{},\"id\":\"11198\",\"type\":\"AllLabels\"},{\"attributes\":{\"line_color\":\"#2ba02b\",\"line_dash\":[6],\"line_width\":2,\"x\":{\"field\":\"Input\"},\"y\":{\"field\":\"Target\"}},\"id\":\"11274\",\"type\":\"Line\"},{\"attributes\":{\"end\":39,\"js_property_callbacks\":{\"change:value\":[{\"id\":\"11607\"}]},\"margin\":[0,10,5,10],\"show_value\":false,\"start\":0,\"tooltips\":false,\"value\":4},\"id\":\"11152\",\"type\":\"Slider\"},{\"attributes\":{\"line_color\":\"#8c564b\",\"line_dash\":[6],\"line_width\":2,\"x\":{\"field\":\"Input\"},\"y\":{\"field\":\"Target\"}},\"id\":\"11358\",\"type\":\"Line\"},{\"attributes\":{\"data_source\":{\"id\":\"11247\"},\"glyph\":{\"id\":\"11250\"},\"hover_glyph\":null,\"muted_glyph\":{\"id\":\"11252\"},\"nonselection_glyph\":{\"id\":\"11251\"},\"selection_glyph\":{\"id\":\"11270\"},\"view\":{\"id\":\"11254\"}},\"id\":\"11253\",\"type\":\"GlyphRenderer\"},{\"attributes\":{\"line_alpha\":0.2,\"line_color\":\"#2ba02b\",\"line_dash\":[6],\"line_width\":2,\"x\":{\"field\":\"Input\"},\"y\":{\"field\":\"Target\"}},\"id\":\"11276\",\"type\":\"Line\"},{\"attributes\":{\"line_color\":\"#2ba02b\",\"line_dash\":[6],\"line_width\":2,\"x\":{\"field\":\"Input\"},\"y\":{\"field\":\"Target\"}},\"id\":\"11296\",\"type\":\"Line\"},{\"attributes\":{\"line_alpha\":0.1,\"line_color\":\"#ff7e0e\",\"line_dash\":[6],\"line_width\":2,\"x\":{\"field\":\"Input\"},\"y\":{\"field\":\"Target\"}},\"id\":\"11251\",\"type\":\"Line\"},{\"attributes\":{\"active_multi\":null,\"tools\":[{\"id\":\"11161\"},{\"id\":\"11185\"},{\"id\":\"11186\"},{\"id\":\"11187\"},{\"id\":\"11188\"},{\"id\":\"11189\"}]},\"id\":\"11191\",\"type\":\"Toolbar\"},{\"attributes\":{},\"id\":\"11221\",\"type\":\"UnionRenderers\"},{\"attributes\":{\"source\":{\"id\":\"11247\"}},\"id\":\"11254\",\"type\":\"CDSView\"},{\"attributes\":{\"line_alpha\":0.2,\"line_color\":\"#ff7e0e\",\"line_dash\":[6],\"line_width\":2,\"x\":{\"field\":\"Input\"},\"y\":{\"field\":\"Target\"}},\"id\":\"11252\",\"type\":\"Line\"},{\"attributes\":{\"active\":[0],\"labels\":[\"replace\"],\"margin\":[5,10,5,10]},\"id\":\"11156\",\"type\":\"CheckboxGroup\"},{\"attributes\":{},\"id\":\"11356\",\"type\":\"Selection\"},{\"attributes\":{},\"id\":\"11248\",\"type\":\"Selection\"},{\"attributes\":{\"bottom_units\":\"screen\",\"fill_alpha\":0.5,\"fill_color\":\"lightgrey\",\"left_units\":\"screen\",\"level\":\"overlay\",\"line_alpha\":1.0,\"line_color\":\"black\",\"line_dash\":[4,4],\"line_width\":2,\"right_units\":\"screen\",\"syncable\":false,\"top_units\":\"screen\"},\"id\":\"11190\",\"type\":\"BoxAnnotation\"},{\"attributes\":{\"line_color\":\"#ff7e0e\",\"line_dash\":[6],\"line_width\":2,\"x\":{\"field\":\"Input\"},\"y\":{\"field\":\"Target\"}},\"id\":\"11250\",\"type\":\"Line\"},{\"attributes\":{},\"id\":\"11175\",\"type\":\"LinearScale\"},{\"attributes\":{\"data\":{\"Input\":{\"__ndarray__\":\"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\",\"dtype\":\"float64\",\"order\":\"little\",\"shape\":[300]},\"Target\":{\"__ndarray__\":\"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\",\"dtype\":\"float64\",\"order\":\"little\",\"shape\":[300]}},\"selected\":{\"id\":\"11272\"},\"selection_policy\":{\"id\":\"11294\"}},\"id\":\"11271\",\"type\":\"ColumnDataSource\"},{\"attributes\":{\"line_color\":\"#9367bc\",\"line_dash\":[6],\"line_width\":2,\"x\":{\"field\":\"Input\"},\"y\":{\"field\":\"Target\"}},\"id\":\"11354\",\"type\":\"Line\"},{\"attributes\":{\"label\":{\"value\":\"Bootstrap prediction 0\"},\"renderers\":[{\"id\":\"11253\"}]},\"id\":\"11269\",\"type\":\"LegendItem\"},{\"attributes\":{\"line_alpha\":0.1,\"line_color\":\"#d62628\",\"line_dash\":[6],\"line_width\":2,\"x\":{\"field\":\"Input\"},\"y\":{\"field\":\"Target\"}},\"id\":\"11301\",\"type\":\"Line\"},{\"attributes\":{\"data\":{\"Input\":{\"__ndarray__\":\"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\",\"dtype\":\"float64\",\"order\":\"little\",\"shape\":[300]},\"Target\":{\"__ndarray__\":\"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\",\"dtype\":\"float64\",\"order\":\"little\",\"shape\":[300]}},\"selected\":{\"id\":\"11248\"},\"selection_policy\":{\"id\":\"11268\"}},\"id\":\"11247\",\"type\":\"ColumnDataSource\"},{\"attributes\":{\"source\":{\"id\":\"11297\"}},\"id\":\"11304\",\"type\":\"CDSView\"},{\"attributes\":{\"line_alpha\":0.2,\"line_color\":\"#d62628\",\"line_dash\":[6],\"line_width\":2,\"x\":{\"field\":\"Input\"},\"y\":{\"field\":\"Target\"}},\"id\":\"11302\",\"type\":\"Line\"},{\"attributes\":{},\"id\":\"11298\",\"type\":\"Selection\"},{\"attributes\":{\"line_color\":\"#d62628\",\"line_dash\":[6],\"line_width\":2,\"x\":{\"field\":\"Input\"},\"y\":{\"field\":\"Target\"}},\"id\":\"11300\",\"type\":\"Line\"},{\"attributes\":{\"data_source\":{\"id\":\"11355\"},\"glyph\":{\"id\":\"11358\"},\"hover_glyph\":null,\"muted_glyph\":{\"id\":\"11360\"},\"nonselection_glyph\":{\"id\":\"11359\"},\"selection_glyph\":{\"id\":\"11386\"},\"view\":{\"id\":\"11362\"}},\"id\":\"11361\",\"type\":\"GlyphRenderer\"},{\"attributes\":{\"children\":[{\"id\":\"11154\"},{\"id\":\"11155\"}],\"margin\":[0,0,0,0],\"name\":\"Column24338\"},\"id\":\"11153\",\"type\":\"Column\"},{\"attributes\":{\"label\":{\"value\":\"Bootstrap prediction 2\"},\"renderers\":[{\"id\":\"11303\"}]},\"id\":\"11323\",\"type\":\"LegendItem\"},{\"attributes\":{\"button_type\":\"primary\",\"icon\":null,\"label\":\"Resample all bootstraps\",\"margin\":[5,10,5,10],\"min_width\":700,\"subscribed_events\":[\"button_click\"],\"width\":700},\"id\":\"11148\",\"type\":\"Button\"},{\"attributes\":{\"axis_label\":\"Input\",\"formatter\":{\"id\":\"11199\"},\"major_label_policy\":{\"id\":\"11198\"},\"ticker\":{\"id\":\"11178\"}},\"id\":\"11177\",\"type\":\"LinearAxis\"},{\"attributes\":{},\"id\":\"11268\",\"type\":\"UnionRenderers\"},{\"attributes\":{\"line_alpha\":0.1,\"line_color\":\"#8c564b\",\"line_dash\":[6],\"line_width\":2,\"x\":{\"field\":\"Input\"},\"y\":{\"field\":\"Target\"}},\"id\":\"11359\",\"type\":\"Line\"},{\"attributes\":{\"data\":{\"Input\":{\"__ndarray__\":\"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\",\"dtype\":\"float64\",\"order\":\"little\",\"shape\":[300]},\"Target\":{\"__ndarray__\":\"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\",\"dtype\":\"float64\",\"order\":\"little\",\"shape\":[300]}},\"selected\":{\"id\":\"11226\"},\"selection_policy\":{\"id\":\"11244\"}},\"id\":\"11225\",\"type\":\"ColumnDataSource\"},{\"attributes\":{},\"id\":\"11182\",\"type\":\"BasicTicker\"},{\"attributes\":{\"source\":{\"id\":\"11355\"}},\"id\":\"11362\",\"type\":\"CDSView\"},{\"attributes\":{\"text_color\":\"black\",\"text_font_size\":\"12pt\"},\"id\":\"11169\",\"type\":\"Title\"},{\"attributes\":{\"line_alpha\":0.2,\"line_color\":\"#8c564b\",\"line_dash\":[6],\"line_width\":2,\"x\":{\"field\":\"Input\"},\"y\":{\"field\":\"Target\"}},\"id\":\"11360\",\"type\":\"Line\"},{\"attributes\":{},\"id\":\"11272\",\"type\":\"Selection\"},{\"attributes\":{\"callback\":null,\"renderers\":[{\"id\":\"11210\"},{\"id\":\"11231\"},{\"id\":\"11253\"},{\"id\":\"11277\"},{\"id\":\"11303\"},{\"id\":\"11331\"},{\"id\":\"11361\"}],\"tags\":[\"hv_created\"],\"tooltips\":[[\"Input\",\"@{Input}\"],[\"Target\",\"@{Target}\"]]},\"id\":\"11161\",\"type\":\"HoverTool\"},{\"attributes\":{\"angle\":{\"value\":0.0},\"fill_alpha\":{\"value\":1.0},\"fill_color\":{\"value\":\"#1f77b3\"},\"hatch_alpha\":{\"value\":1.0},\"hatch_color\":{\"value\":\"black\"},\"hatch_scale\":{\"value\":12.0},\"hatch_weight\":{\"value\":1.0},\"line_alpha\":{\"value\":1.0},\"line_cap\":{\"value\":\"butt\"},\"line_color\":{\"value\":\"#1f77b3\"},\"line_dash\":{\"value\":[]},\"line_dash_offset\":{\"value\":0},\"line_join\":{\"value\":\"bevel\"},\"line_width\":{\"value\":1},\"marker\":{\"value\":\"circle\"},\"size\":{\"value\":8.660254037844387},\"x\":{\"field\":\"Input\"},\"y\":{\"field\":\"Target\"}},\"id\":\"11224\",\"type\":\"Scatter\"},{\"attributes\":{\"data\":{\"Input\":{\"__ndarray__\":\"ILYdB/WT2L86J2kga8EGwLC2fS0FEtM/MGe7SBHW2L+QP53gKZTev+6ZJQKxSfC/BRidH45a/L/g+eASaObmPySKLc6vO/O/zjpo8HNi9r9YL6Nb+EHnP/ALkqGRYcY/xjUCGUiKAcCgPqpwItu0P0DqXLM0S/6/KBsah2Vk+z90+Ub9pf0AQAADmONVtKG/MNkPK4yiAEAGpS7+UC0EwA==\",\"dtype\":\"float64\",\"order\":\"little\",\"shape\":[20]},\"Target\":{\"__ndarray__\":\"PIpH5gQJ2L817pX9UOYGwBrOztawEOC/UuylyPDfub8ELA/rny+3P8VrJNqZmOK/yqSoXsnK6r/XID7QM2/OvzeeWui5+t+/qmzFRVEX7L/Ky85qeDXpv/QBKUlCSMO/6A14Dm/g9r9JWj64ofXuP4x2kvoWaf+/qeKUXh2Yyj9+McZWqvLmP90H06S6dOI/u5elxSc55z+wP/r1YhgDwA==\",\"dtype\":\"float64\",\"order\":\"little\",\"shape\":[20]}},\"selected\":{\"id\":\"11205\"},\"selection_policy\":{\"id\":\"11221\"}},\"id\":\"11204\",\"type\":\"ColumnDataSource\"},{\"attributes\":{\"end\":2.0,\"reset_end\":2.0,\"reset_start\":-3.1,\"start\":-3.1,\"tags\":[[[\"Target\",\"Target\",null]]]},\"id\":\"11160\",\"type\":\"Range1d\"},{\"attributes\":{\"label\":{\"value\":\"Training set\"},\"renderers\":[{\"id\":\"11210\"}]},\"id\":\"11223\",\"type\":\"LegendItem\"},{\"attributes\":{},\"id\":\"11322\",\"type\":\"UnionRenderers\"},{\"attributes\":{\"line_alpha\":0.1,\"line_color\":\"#1f77b3\",\"line_width\":2,\"x\":{\"field\":\"Input\"},\"y\":{\"field\":\"Target\"}},\"id\":\"11229\",\"type\":\"Line\"},{\"attributes\":{\"args\":{\"bidirectional\":false,\"properties\":{},\"source\":{\"id\":\"11152\"},\"target\":{\"id\":\"11151\"}},\"code\":\"try { \\n    var labels = ['n_estimators: <b>1</b>', 'n_estimators: <b>2</b>', 'n_estimators: <b>3</b>', 'n_estimators: <b>4</b>', 'n_estimators: <b>5</b>', 'n_estimators: <b>6</b>', 'n_estimators: <b>7</b>', 'n_estimators: <b>8</b>', 'n_estimators: <b>9</b>', 'n_estimators: <b>10</b>', 'n_estimators: <b>11</b>', 'n_estimators: <b>12</b>', 'n_estimators: <b>13</b>', 'n_estimators: <b>14</b>', 'n_estimators: <b>15</b>', 'n_estimators: <b>16</b>', 'n_estimators: <b>17</b>', 'n_estimators: <b>18</b>', 'n_estimators: <b>19</b>', 'n_estimators: <b>20</b>', 'n_estimators: <b>21</b>', 'n_estimators: <b>22</b>', 'n_estimators: <b>23</b>', 'n_estimators: <b>24</b>', 'n_estimators: <b>25</b>', 'n_estimators: <b>26</b>', 'n_estimators: <b>27</b>', 'n_estimators: <b>28</b>', 'n_estimators: <b>29</b>', 'n_estimators: <b>30</b>', 'n_estimators: <b>31</b>', 'n_estimators: <b>32</b>', 'n_estimators: <b>33</b>', 'n_estimators: <b>34</b>', 'n_estimators: <b>35</b>', 'n_estimators: <b>36</b>', 'n_estimators: <b>37</b>', 'n_estimators: <b>38</b>', 'n_estimators: <b>39</b>', 'n_estimators: <b>40</b>']\\n    target.text = labels[source.value]\\n     } catch(err) { console.log(err) }\",\"tags\":[140317913054896]},\"id\":\"11607\",\"type\":\"CustomJS\"},{\"attributes\":{},\"id\":\"11205\",\"type\":\"Selection\"},{\"attributes\":{\"args\":{\"bidirectional\":false,\"properties\":{},\"source\":{\"id\":\"11155\"},\"target\":{\"id\":\"11154\"}},\"code\":\"try { \\n    var labels = ['max_samples: <b>1</b>', 'max_samples: <b>2</b>', 'max_samples: <b>3</b>', 'max_samples: <b>4</b>', 'max_samples: <b>5</b>', 'max_samples: <b>6</b>', 'max_samples: <b>7</b>', 'max_samples: <b>8</b>', 'max_samples: <b>9</b>', 'max_samples: <b>10</b>', 'max_samples: <b>11</b>', 'max_samples: <b>12</b>', 'max_samples: <b>13</b>', 'max_samples: <b>14</b>', 'max_samples: <b>15</b>', 'max_samples: <b>16</b>', 'max_samples: <b>17</b>', 'max_samples: <b>18</b>', 'max_samples: <b>19</b>', 'max_samples: <b>20</b>']\\n    target.text = labels[source.value]\\n     } catch(err) { console.log(err) }\",\"tags\":[140317913052448]},\"id\":\"11608\",\"type\":\"CustomJS\"},{\"attributes\":{},\"id\":\"11226\",\"type\":\"Selection\"},{\"attributes\":{\"end\":3,\"reset_end\":3,\"reset_start\":-3,\"start\":-3,\"tags\":[[[\"Input\",\"Input\",null]]]},\"id\":\"11159\",\"type\":\"Range1d\"},{\"attributes\":{},\"id\":\"11384\",\"type\":\"UnionRenderers\"},{\"attributes\":{\"fill_alpha\":{\"value\":0.2},\"fill_color\":{\"value\":\"#1f77b3\"},\"line_alpha\":{\"value\":0.2},\"line_color\":{\"value\":\"#1f77b3\"},\"size\":{\"value\":8.660254037844387},\"x\":{\"field\":\"Input\"},\"y\":{\"field\":\"Target\"}},\"id\":\"11209\",\"type\":\"Scatter\"},{\"attributes\":{\"source\":{\"id\":\"11225\"}},\"id\":\"11232\",\"type\":\"CDSView\"},{\"attributes\":{\"data_source\":{\"id\":\"11204\"},\"glyph\":{\"id\":\"11207\"},\"hover_glyph\":null,\"muted_glyph\":{\"id\":\"11209\"},\"nonselection_glyph\":{\"id\":\"11208\"},\"selection_glyph\":{\"id\":\"11224\"},\"view\":{\"id\":\"11211\"}},\"id\":\"11210\",\"type\":\"GlyphRenderer\"},{\"attributes\":{\"data\":{\"Input\":{\"__ndarray__\":\"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\",\"dtype\":\"float64\",\"order\":\"little\",\"shape\":[300]},\"Target\":{\"__ndarray__\":\"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\",\"dtype\":\"float64\",\"order\":\"little\",\"shape\":[300]}},\"selected\":{\"id\":\"11356\"},\"selection_policy\":{\"id\":\"11384\"}},\"id\":\"11355\",\"type\":\"ColumnDataSource\"},{\"attributes\":{\"children\":[{\"id\":\"11168\"}],\"margin\":[0,0,0,0],\"name\":\"Row24884\"},\"id\":\"11158\",\"type\":\"Row\"},{\"attributes\":{\"end\":19,\"js_property_callbacks\":{\"change:value\":[{\"id\":\"11608\"}]},\"margin\":[0,10,5,10],\"show_value\":false,\"start\":0,\"tooltips\":false,\"value\":19},\"id\":\"11155\",\"type\":\"Slider\"},{\"attributes\":{\"line_color\":\"#1f77b3\",\"line_width\":2,\"x\":{\"field\":\"Input\"},\"y\":{\"field\":\"Target\"}},\"id\":\"11228\",\"type\":\"Line\"},{\"attributes\":{\"line_alpha\":0.2,\"line_color\":\"#1f77b3\",\"line_width\":2,\"x\":{\"field\":\"Input\"},\"y\":{\"field\":\"Target\"}},\"id\":\"11230\",\"type\":\"Line\"},{\"attributes\":{\"data\":{\"Input\":{\"__ndarray__\":\"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\",\"dtype\":\"float64\",\"order\":\"little\",\"shape\":[300]},\"Target\":{\"__ndarray__\":\"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\",\"dtype\":\"float64\",\"order\":\"little\",\"shape\":[300]}},\"selected\":{\"id\":\"11298\"},\"selection_policy\":{\"id\":\"11322\"}},\"id\":\"11297\",\"type\":\"ColumnDataSource\"},{\"attributes\":{\"line_color\":\"#ff7e0e\",\"line_dash\":[6],\"line_width\":2,\"x\":{\"field\":\"Input\"},\"y\":{\"field\":\"Target\"}},\"id\":\"11270\",\"type\":\"Line\"},{\"attributes\":{\"below\":[{\"id\":\"11177\"}],\"center\":[{\"id\":\"11180\"},{\"id\":\"11184\"}],\"height\":300,\"left\":[{\"id\":\"11181\"}],\"margin\":[5,5,5,5],\"min_border_bottom\":10,\"min_border_left\":10,\"min_border_right\":10,\"min_border_top\":10,\"renderers\":[{\"id\":\"11210\"},{\"id\":\"11231\"},{\"id\":\"11253\"},{\"id\":\"11277\"},{\"id\":\"11303\"},{\"id\":\"11331\"},{\"id\":\"11361\"}],\"right\":[{\"id\":\"11222\"}],\"sizing_mode\":\"fixed\",\"title\":{\"id\":\"11169\"},\"toolbar\":{\"id\":\"11191\"},\"width\":700,\"x_range\":{\"id\":\"11159\"},\"x_scale\":{\"id\":\"11173\"},\"y_range\":{\"id\":\"11160\"},\"y_scale\":{\"id\":\"11175\"}},\"id\":\"11168\",\"subtype\":\"Figure\",\"type\":\"Plot\"},{\"attributes\":{\"fill_alpha\":{\"value\":0.1},\"fill_color\":{\"value\":\"#1f77b3\"},\"line_alpha\":{\"value\":0.1},\"line_color\":{\"value\":\"#1f77b3\"},\"size\":{\"value\":8.660254037844387},\"x\":{\"field\":\"Input\"},\"y\":{\"field\":\"Target\"}},\"id\":\"11208\",\"type\":\"Scatter\"},{\"attributes\":{\"source\":{\"id\":\"11204\"}},\"id\":\"11211\",\"type\":\"CDSView\"},{\"attributes\":{\"data_source\":{\"id\":\"11225\"},\"glyph\":{\"id\":\"11228\"},\"hover_glyph\":null,\"muted_glyph\":{\"id\":\"11230\"},\"nonselection_glyph\":{\"id\":\"11229\"},\"selection_glyph\":{\"id\":\"11246\"},\"view\":{\"id\":\"11232\"}},\"id\":\"11231\",\"type\":\"GlyphRenderer\"},{\"attributes\":{\"client_comm_id\":\"b2fb5fa166094a5191aee61db54dcdc0\",\"comm_id\":\"e983879103c54af6bd3925be1a4e38a5\",\"plot_id\":\"11146\"},\"id\":\"11653\",\"type\":\"panel.models.comm_manager.CommManager\"},{\"attributes\":{\"line_alpha\":0.1,\"line_color\":\"#2ba02b\",\"line_dash\":[6],\"line_width\":2,\"x\":{\"field\":\"Input\"},\"y\":{\"field\":\"Target\"}},\"id\":\"11275\",\"type\":\"Line\"},{\"attributes\":{\"label\":{\"value\":\"Bagging prediction\"},\"renderers\":[{\"id\":\"11231\"}]},\"id\":\"11245\",\"type\":\"LegendItem\"},{\"attributes\":{},\"id\":\"11178\",\"type\":\"BasicTicker\"},{\"attributes\":{\"active\":[0],\"labels\":[\"plot_bootstrap_predictions\"],\"margin\":[5,10,5,10]},\"id\":\"11157\",\"type\":\"CheckboxGroup\"},{\"attributes\":{\"axis_label\":\"Target\",\"formatter\":{\"id\":\"11202\"},\"major_label_policy\":{\"id\":\"11201\"},\"ticker\":{\"id\":\"11182\"}},\"id\":\"11181\",\"type\":\"LinearAxis\"},{\"attributes\":{\"axis\":{\"id\":\"11177\"},\"grid_line_color\":null,\"ticker\":null},\"id\":\"11180\",\"type\":\"Grid\"}],\"root_ids\":[\"11146\",\"11653\"]},\"title\":\"Bokeh Application\",\"version\":\"2.3.1\"}};\n",
       "    var render_items = [{\"docid\":\"12614bf1-13e2-40d4-b3db-e905a1fda02a\",\"root_ids\":[\"11146\"],\"roots\":{\"11146\":\"b2df6c4a-c4ba-42f0-9c7b-4c06605006fb\"}}];\n",
       "    root.Bokeh.embed.embed_items_notebook(docs_json, render_items);\n",
       "  }\n",
       "  if (root.Bokeh !== undefined && root.Bokeh.Panel !== undefined) {\n",
       "    embed_document(root);\n",
       "  } else {\n",
       "    var attempts = 0;\n",
       "    var timer = setInterval(function(root) {\n",
       "      if (root.Bokeh !== undefined && root.Bokeh.Panel !== undefined) {\n",
       "        clearInterval(timer);\n",
       "        embed_document(root);\n",
       "      } else if (document.readyState == \"complete\") {\n",
       "        attempts++;\n",
       "        if (attempts > 100) {\n",
       "          clearInterval(timer);\n",
       "          console.log(\"Bokeh: ERROR: Unable to run BokehJS code because BokehJS library is missing\");\n",
       "        }\n",
       "      }\n",
       "    }, 10, root)\n",
       "  }\n",
       "})(window);</script>"
      ],
      "text/plain": [
       "Column\n",
       "    [0] Column\n",
       "        [0] Button(button_type='primary', name='Resample all bootstraps', width=700)\n",
       "        [1] Select(name='base_estimator', options=[LinearRegression(), ...], value=LinearRegression())\n",
       "        [2] DiscreteSlider(formatter='%d', name='n_estimators', options=[1, 2, 3, 4, 5, ...], value=5)\n",
       "        [3] DiscreteSlider(formatter='%d', name='max_samples', options=[1, 2, 3, 4, 5, ...], value=20)\n",
       "        [4] Checkbox(name='replace', value=True)\n",
       "        [5] Checkbox(name='plot_bootstrap_prediction..., value=True)\n",
       "    [1] Row\n",
       "        [0] HoloViews(Overlay, name='interactive24322')"
      ]
     },
     "execution_count": 9,
     "metadata": {
      "application/vnd.holoviews_exec.v0+json": {
       "id": "11146"
      }
     },
     "output_type": "execute_result"
    }
   ],
   "source": [
    "# Machine-learning modules\n",
    "from sklearn import linear_model, tree, preprocessing, pipeline\n",
    "\n",
    "# Make these estimators available\n",
    "linear_reg = linear_model.LinearRegression()\n",
    "poly_reg = pipeline.make_pipeline(\n",
    "    preprocessing.PolynomialFeatures(degree=4), linear_reg)\n",
    "spline_reg = pipeline.make_pipeline(\n",
    "    preprocessing.SplineTransformer(), linear_reg)\n",
    "tree_reg = tree.DecisionTreeRegressor(max_depth=3, random_state=0)\n",
    "\n",
    "def get_bootstrap_predictions(\n",
    "    base_estimator, n_estimators, max_samples, replace):\n",
    "    # Get bootstrap estimates and predictions\n",
    "    X_pred = input_test.values[:, None]\n",
    "    y_preds = np.empty((n_estimators, X_pred.shape[0]))\n",
    "    for b in range(n_estimators):\n",
    "        input_b, target_b = get_bootstrap_sample(max_samples, replace)\n",
    "        X_b = input_b.values[:, None]\n",
    "        y_b = target_b[ylabel].values\n",
    "        base_estimator.fit(X_b, y_b)\n",
    "        y_preds[b] = base_estimator.predict(X_pred)\n",
    "        \n",
    "    return y_preds\n",
    "        \n",
    "def plot_bag(b, base_estimator=linear_reg, n_estimators=5,\n",
    "             max_samples=N, replace=True, plot_bootstrap_predictions=True):\n",
    "    y_preds = get_bootstrap_predictions(\n",
    "        base_estimator, n_estimators, max_samples, replace)\n",
    "    \n",
    "    # Get bagged prediction\n",
    "    target_pred_bag = pd.DataFrame(\n",
    "        y_preds.mean(0), index=input_test, columns=[ylabel])\n",
    "    \n",
    "    p = (target_train.hvplot.scatter(size=75, label='Training set') *\n",
    "            target_pred_bag.hvplot(label='Bagging prediction',\n",
    "                                 xlim=xlim, ylim=ylim))\n",
    "    \n",
    "    # Add bootstrap predictions\n",
    "    if plot_bootstrap_predictions:\n",
    "        for b in range(n_estimators):\n",
    "            target_pred_b = pd.DataFrame(\n",
    "                y_preds[b], index=input_test, columns=[ylabel])\n",
    "            label = 'Bootstrap prediction {}'.format(b)\n",
    "            p *= target_pred_b.hvplot(line_dash='dashed', label=label)\n",
    "        \n",
    "    return p\n",
    "\n",
    "button_multi = pn.widgets.Button(\n",
    "    name='Resample all bootstraps', button_type='primary', width=700)\n",
    "base_estimators = [linear_reg, poly_reg, spline_reg, tree_reg]\n",
    "pn.interact(plot_bag, b=button_multi, base_estimator=base_estimators,\n",
    "            n_estimators=np.arange(N * 2) + 1, max_samples=np.arange(N) + 1)"
   ]
  },
  {
   "cell_type": "markdown",
   "id": "c19b2a49",
   "metadata": {
    "heading_collapsed": true,
    "slideshow": {
     "slide_type": "slide"
    }
   },
   "source": [
    "## Ensemble based on boosting"
   ]
  },
  {
   "cell_type": "markdown",
   "id": "20d6fbfe",
   "metadata": {
    "slideshow": {
     "slide_type": "slide"
    }
   },
   "source": [
    "## To go further\n",
    "\n",
    "- Bayesian models (Bishop 2006);\n",
    "- Relationship between bootstrap, maximum likelihood and Bayesian methods (Chap. 8 in Hastie *et al.* 2009)."
   ]
  },
  {
   "cell_type": "markdown",
   "id": "e26a842f",
   "metadata": {
    "slideshow": {
     "slide_type": "slide"
    }
   },
   "source": [
    "## References\n",
    "\n",
    "- Chap. 8-10, 15 and 16 in [Hastie, T., Tibshirani, R., Friedman, J., 2009. *The Elements of Statistical Learning*, 2nd ed. Springer, New York.](https://doi.org/10.1007/978-0-387-84858-7)\n",
    "- [Bishop, C., 2006. Pattern Recognition and Machine Learning, Information Science and Statistics. Springer-Verlag, New York.](https://www.cs.uoi.gr/~arly/courses/ml/tmp/Bishop_book.pdf)\n",
    "- [Du, P., 2019. Ensemble Machine Learning-Based Wind Forecasting to Combine NWP Output With Data From Weather Station. *IEEE Transactions on Sustainable Energy* 10, 2133-2141.](https://doi.org/10/gnbgvj)"
   ]
  },
  {
   "cell_type": "markdown",
   "id": "de9219e4",
   "metadata": {
    "slideshow": {
     "slide_type": "slide"
    }
   },
   "source": [
    "***\n",
    "## Credit\n",
    "\n",
    "[//]: # \"This notebook is part of [E4C Interdisciplinary Center - Education](https://gitlab.in2p3.fr/energy4climate/public/education).\"\n",
    "Contributors include Bruno Deremble and Alexis Tantet.\n",
    "Several slides and images are taken from the very good [Scikit-learn course](https://inria.github.io/scikit-learn-mooc/).\n",
    "\n",
    "<br>\n",
    "\n",
    "<div style=\"display: flex; height: 70px\">\n",
    "    \n",
    "<img alt=\"Logo LMD\" src=\"images/logos/logo_lmd.jpg\" style=\"display: inline-block\"/>\n",
    "\n",
    "<img alt=\"Logo IPSL\" src=\"images/logos/logo_ipsl.png\" style=\"display: inline-block\"/>\n",
    "\n",
    "<img alt=\"Logo E4C\" src=\"images/logos/logo_e4c_final.png\" style=\"display: inline-block\"/>\n",
    "\n",
    "<img alt=\"Logo EP\" src=\"images/logos/logo_ep.png\" style=\"display: inline-block\"/>\n",
    "\n",
    "<img alt=\"Logo SU\" src=\"images/logos/logo_su.png\" style=\"display: inline-block\"/>\n",
    "\n",
    "<img alt=\"Logo ENS\" src=\"images/logos/logo_ens.jpg\" style=\"display: inline-block\"/>\n",
    "\n",
    "<img alt=\"Logo CNRS\" src=\"images/logos/logo_cnrs.png\" style=\"display: inline-block\"/>\n",
    "    \n",
    "</div>\n",
    "\n",
    "<hr>\n",
    "\n",
    "<div style=\"display: flex\">\n",
    "    <a rel=\"license\" href=\"http://creativecommons.org/licenses/by-sa/4.0/\"><img alt=\"Creative Commons License\" style=\"border-width:0; margin-right: 10px\" src=\"https://i.creativecommons.org/l/by-sa/4.0/88x31.png\" /></a>\n",
    "    <br>This work is licensed under a &nbsp; <a rel=\"license\" href=\"http://creativecommons.org/licenses/by-sa/4.0/\">Creative Commons Attribution-ShareAlike 4.0 International License</a>.\n",
    "</div>"
   ]
  }
 ],
 "metadata": {
  "celltoolbar": "Slideshow",
  "kernelspec": {
   "display_name": "Python 3",
   "language": "python",
   "name": "python3"
  },
  "language_info": {
   "codemirror_mode": {
    "name": "ipython",
    "version": 3
   },
   "file_extension": ".py",
   "mimetype": "text/x-python",
   "name": "python",
   "nbconvert_exporter": "python",
   "pygments_lexer": "ipython3",
   "version": "3.9.0"
  },
  "latex_envs": {
   "LaTeX_envs_menu_present": true,
   "autoclose": true,
   "autocomplete": false,
   "bibliofile": "biblio.bib",
   "cite_by": "apalike",
   "current_citInitial": 1,
   "eqLabelWithNumbers": true,
   "eqNumInitial": 1,
   "hotkeys": {
    "equation": "Ctrl-E",
    "itemize": "Ctrl-I"
   },
   "labels_anchors": false,
   "latex_user_defs": false,
   "report_style_numbering": false,
   "user_envs_cfg": false
  },
  "toc": {
   "base_numbering": 1,
   "nav_menu": {},
   "number_sections": true,
   "sideBar": true,
   "skip_h1_title": false,
   "title_cell": "Table of Contents",
   "title_sidebar": "Contents",
   "toc_cell": false,
   "toc_position": {},
   "toc_section_display": true,
   "toc_window_display": false
  },
  "varInspector": {
   "cols": {
    "lenName": 16,
    "lenType": 16,
    "lenVar": 40
   },
   "kernels_config": {
    "python": {
     "delete_cmd_postfix": "",
     "delete_cmd_prefix": "del ",
     "library": "var_list.py",
     "varRefreshCmd": "print(var_dic_list())"
    },
    "r": {
     "delete_cmd_postfix": ") ",
     "delete_cmd_prefix": "rm(",
     "library": "var_list.r",
     "varRefreshCmd": "cat(var_dic_list()) "
    }
   },
   "types_to_exclude": [
    "module",
    "function",
    "builtin_function_or_method",
    "instance",
    "_Feature"
   ],
   "window_display": false
  }
 },
 "nbformat": 4,
 "nbformat_minor": 5
}
