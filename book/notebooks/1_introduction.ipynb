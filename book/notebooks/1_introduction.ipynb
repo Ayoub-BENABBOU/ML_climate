{
 "cells": [
  {
   "cell_type": "markdown",
   "id": "5eb8c31b",
   "metadata": {
    "slideshow": {
     "slide_type": "slide"
    }
   },
   "source": [
    "# Introduction\n",
    "\n",
    "[![Binder](https://mybinder.org/badge_logo.svg)](https://mybinder.org/v2/git/https%3A%2F%2Fgitlab.in2p3.fr%2Fenergy4climate%2Fpublic%2Feducation%2Fmachine_learning_for_climate_and_energy/master?filepath=book%2Fnotebooks%2F1_introduction.ipynb)"
   ]
  },
  {
   "cell_type": "markdown",
   "id": "3a485dc1",
   "metadata": {
    "slideshow": {
     "slide_type": "subslide"
    }
   },
   "source": [
    "<div class=\"alert alert-block alert-warning\">\n",
    "    <b>Prerequisites</b>\n",
    "    \n",
    "- Basics in linear algebra and calculus\n",
    "\n",
    "</div>"
   ]
  },
  {
   "cell_type": "markdown",
   "id": "8790b2ae",
   "metadata": {
    "slideshow": {
     "slide_type": "subslide"
    }
   },
   "source": [
    "<div class=\"alert alert-block alert-info\">\n",
    "    <b>Learning Outcomes</b>\n",
    "    \n",
    "- Overview of the class\n",
    "- Reanalysis data set\n",
    "- Data manipulation in python\n",
    "\n",
    "</div>"
   ]
  },
  {
   "cell_type": "markdown",
   "id": "6b72df4e",
   "metadata": {
    "slideshow": {
     "slide_type": "slide"
    }
   },
   "source": [
    "## Linear algebra conventions\n",
    "\n",
    "Throughout this class we adopt the following conventions:\n",
    "\n",
    "- Vectors are represented as columns\n",
    "\n",
    "\\begin{align}\n",
    " \\mathbf{x} &= \\begin{bmatrix}\n",
    "    x_1 \\\\\n",
    "    x_2 \\\\\n",
    "    \\vdots \\\\\n",
    "    x_n \\\\\n",
    "  \\end{bmatrix}\n",
    "\\end{align}\n",
    "\n",
    "- Matrix \n",
    "\n",
    "\\begin{align}\n",
    " \\mathbf{X} &= \\begin{bmatrix}\n",
    "    x_{11} & x_{12} & \\cdots & x_{1p}\\\\\n",
    "    x_{21} & x_{22} & \\cdots & x_{2p}\\\\\n",
    "    \\vdots & \\vdots &        & \\vdots\\\\\n",
    "    x_{n1} & x_{n2} & \\cdots & x_{np}\\\\\n",
    "  \\end{bmatrix}\n",
    "\\end{align}\n",
    "\n",
    "We then adopt the \"gradient\" convention or [Denominator layout](https://en.wikipedia.org/wiki/Matrix_calculus#Layout_conventions) for wich gradients are column vectors\n",
    "\n",
    "\\begin{align}\n",
    "  \\frac{\\partial y}{\\partial \\mathbf{x}} &= \\nabla_\\mathbf{x} y &= \\begin{bmatrix}\n",
    "    \\frac{\\partial y}{\\partial x_1}\\\\\n",
    "    \\frac{\\partial y}{\\partial x_2}\\\\\n",
    "    \\vdots\\\\\n",
    "    \\frac{\\partial y}{\\partial x_n}\\\\\n",
    "  \\end{bmatrix}.\n",
    "\\end{align}\n",
    "\n",
    "and vector derivative of vectors are the *transpose* of the Jacobian matrix\n",
    "\n",
    "\\begin{align}\n",
    "  \\frac{\\partial \\mathbf{y}}{\\partial \\mathbf{x}} &= \\begin{bmatrix}\n",
    "    \\frac{\\partial y_1}{\\partial x_1} & \\frac{\\partial y_2}{\\partial x_1} & \\cdots & \\frac{\\partial y_p}{\\partial x_1} \\\\\n",
    "    \\frac{\\partial y_1}{\\partial x_2} & \\frac{\\partial y_2}{\\partial x_2} & \\cdots & \\frac{\\partial y_p}{\\partial x_2} \\\\\n",
    "    \\vdots                            & \\vdots                            & \\ddots & \\vdots \\\\\n",
    "    \\frac{\\partial y_1}{\\partial x_n} & \\frac{\\partial y_2}{\\partial x_n} & \\cdots & \\frac{\\partial y_p}{\\partial x_n}\\\\\n",
    "  \\end{bmatrix}.\n",
    "\\end{align}\n",
    "\n",
    "With these conventions, we recall the following rules (with $\\mathbf{A}$ not a function of $\\mathbf{x}$, and $\\mathbf{u}$, $\\mathbf{v}$ funtions of $\\mathbf{x}$):\n",
    "\n",
    "\n",
    "\\begin{equation}\n",
    "\\frac{\\partial \\mathbf{A}\\mathbf{x}}{\\partial \\mathbf{x}} = \\mathbf{A}^\\top\n",
    "\\end{equation}\n",
    "\n",
    "\n",
    "\n",
    "Product:\n",
    "\n",
    "\\begin{equation}\n",
    "\\frac{\\partial \\mathbf{u}^\\top \\mathbf{v}}{\\partial \\mathbf{x}} = \\frac{\\partial \\mathbf{u}}{\\partial \\mathbf{x}}\\mathbf{v} + \\frac{\\partial \\mathbf{v}}{\\partial \\mathbf{x}}\\mathbf{u}\n",
    "\\end{equation}\n",
    "\n",
    "The chain rule \n",
    "\n",
    "\\begin{equation}\n",
    "\\frac{\\partial \\mathbf{f(g(x))}}{\\partial \\mathbf{x}} = \\frac{\\partial \\mathbf{g(x)}}{\\partial \\mathbf{x}} \\frac{\\partial \\mathbf{f(g)}}{\\partial \\mathbf{g}}\n",
    "\\end{equation}\n",
    "\n",
    "*Note that the order in which the operators appear matter for matrix multiplication*\n"
   ]
  },
  {
   "cell_type": "markdown",
   "id": "7c74126f",
   "metadata": {
    "slideshow": {
     "slide_type": "slide"
    }
   },
   "source": [
    ">  ***Question 1***\n",
    "> - \\begin{equation}\n",
    "\\frac{\\partial \\mathbf{A}\\mathbf{u}}{\\partial \\mathbf{x}} = ?\n",
    "\\end{equation}"
   ]
  },
  {
   "cell_type": "markdown",
   "id": "5e186998",
   "metadata": {
    "slideshow": {
     "slide_type": "slide"
    }
   },
   "source": [
    "***\n",
    "## Credit\n",
    "\n",
    "[//]: # \"This notebook is part of [E4C Interdisciplinary Center - Education](https://gitlab.in2p3.fr/energy4climate/public/education).\"\n",
    "Contributors include Bruno Deremble and Alexis Tantet.\n",
    "\n",
    "<br>\n",
    "\n",
    "<div style=\"display: flex; height: 70px\">\n",
    "    \n",
    "<img alt=\"Logo LMD\" src=\"images/logos/logo_lmd.jpg\" style=\"display: inline-block\"/>\n",
    "\n",
    "<img alt=\"Logo IPSL\" src=\"images/logos/logo_ipsl.png\" style=\"display: inline-block\"/>\n",
    "\n",
    "<img alt=\"Logo E4C\" src=\"images/logos/logo_e4c_final.png\" style=\"display: inline-block\"/>\n",
    "\n",
    "<img alt=\"Logo EP\" src=\"images/logos/logo_ep.png\" style=\"display: inline-block\"/>\n",
    "\n",
    "<img alt=\"Logo SU\" src=\"images/logos/logo_su.png\" style=\"display: inline-block\"/>\n",
    "\n",
    "<img alt=\"Logo ENS\" src=\"images/logos/logo_ens.jpg\" style=\"display: inline-block\"/>\n",
    "\n",
    "<img alt=\"Logo CNRS\" src=\"images/logos/logo_cnrs.png\" style=\"display: inline-block\"/>\n",
    "    \n",
    "</div>\n",
    "\n",
    "<hr>\n",
    "\n",
    "<div style=\"display: flex\">\n",
    "    <a rel=\"license\" href=\"http://creativecommons.org/licenses/by-sa/4.0/\"><img alt=\"Creative Commons License\" style=\"border-width:0; margin-right: 10px\" src=\"https://i.creativecommons.org/l/by-sa/4.0/88x31.png\" /></a>\n",
    "    <br>This work is licensed under a &nbsp; <a rel=\"license\" href=\"http://creativecommons.org/licenses/by-sa/4.0/\">Creative Commons Attribution-ShareAlike 4.0 International License</a>.\n",
    "</div>"
   ]
  }
 ],
 "metadata": {
  "celltoolbar": "Slideshow",
  "kernelspec": {
   "display_name": "Python 3",
   "language": "python",
   "name": "python3"
  },
  "language_info": {
   "codemirror_mode": {
    "name": "ipython",
    "version": 3
   },
   "file_extension": ".py",
   "mimetype": "text/x-python",
   "name": "python",
   "nbconvert_exporter": "python",
   "pygments_lexer": "ipython3",
   "version": "3.9.5"
  },
  "latex_envs": {
   "LaTeX_envs_menu_present": true,
   "autoclose": true,
   "autocomplete": false,
   "bibliofile": "biblio.bib",
   "cite_by": "apalike",
   "current_citInitial": 1,
   "eqLabelWithNumbers": true,
   "eqNumInitial": 1,
   "hotkeys": {
    "equation": "Ctrl-E",
    "itemize": "Ctrl-I"
   },
   "labels_anchors": false,
   "latex_user_defs": false,
   "report_style_numbering": false,
   "user_envs_cfg": false
  },
  "toc": {
   "base_numbering": 1,
   "nav_menu": {},
   "number_sections": true,
   "sideBar": true,
   "skip_h1_title": false,
   "title_cell": "Table of Contents",
   "title_sidebar": "Contents",
   "toc_cell": false,
   "toc_position": {},
   "toc_section_display": true,
   "toc_window_display": false
  },
  "varInspector": {
   "cols": {
    "lenName": 16,
    "lenType": 16,
    "lenVar": 40
   },
   "kernels_config": {
    "python": {
     "delete_cmd_postfix": "",
     "delete_cmd_prefix": "del ",
     "library": "var_list.py",
     "varRefreshCmd": "print(var_dic_list())"
    },
    "r": {
     "delete_cmd_postfix": ") ",
     "delete_cmd_prefix": "rm(",
     "library": "var_list.r",
     "varRefreshCmd": "cat(var_dic_list()) "
    }
   },
   "types_to_exclude": [
    "module",
    "function",
    "builtin_function_or_method",
    "instance",
    "_Feature"
   ],
   "window_display": false
  }
 },
 "nbformat": 4,
 "nbformat_minor": 5
}
